{
 "cells": [
  {
   "cell_type": "markdown",
   "metadata": {},
   "source": [
    "### Boids \n",
    "Boids is an artificial life simulation originally developed by Craig Reynolds. The aim of the simulation was to replicate the behavior of flocks of birds. Instead of controlling the interactions of an entire flock, however, the Boids simulation only specifies the behavior of each individual bird."
   ]
  },
  {
   "cell_type": "code",
   "execution_count": 1,
   "metadata": {},
   "outputs": [],
   "source": [
    "import numpy as np"
   ]
  },
  {
   "cell_type": "code",
   "execution_count": 2,
   "metadata": {},
   "outputs": [],
   "source": [
    "n_boids=20"
   ]
  },
  {
   "cell_type": "code",
   "execution_count": 3,
   "metadata": {},
   "outputs": [],
   "source": [
    "window_size=[600,600] #display window limit"
   ]
  },
  {
   "cell_type": "code",
   "execution_count": 4,
   "metadata": {},
   "outputs": [
    {
     "name": "stdout",
     "output_type": "stream",
     "text": [
      "[[  8.99939047 179.02220197 214.36115125  39.08484425 118.39750774\n",
      "  190.57712912  96.19427868 103.07213475 146.38136908  20.99455216\n",
      "  183.91193066 171.55986693 119.27065205   3.97081584  24.75541419\n",
      "  182.41912737  67.91793981  20.56044453 232.64264561  21.52595058]\n",
      " [159.95942562 203.97041688 231.95083435   4.93223235 124.03825486\n",
      "  231.59483633 214.65398631 197.12716755   5.17484585  56.58436265\n",
      "   82.79823824  77.04452613 136.73863556  58.95385365 138.69263023\n",
      "  140.66584358  61.70915132 185.50027019 104.57167902 113.44988123]]\n",
      "[179.02220197 203.97041688]\n"
     ]
    }
   ],
   "source": [
    "position=np.random.rand(2, n_boids)*250 #random number less than 250\n",
    "position.astype(int) #convert to integer\n",
    "print(position)\n",
    "print(position[:,1]) # print the second column"
   ]
  },
  {
   "cell_type": "markdown",
   "metadata": {},
   "source": [
    "We set the random velocities within some limits. "
   ]
  },
  {
   "cell_type": "code",
   "execution_count": 5,
   "metadata": {},
   "outputs": [
    {
     "name": "stdout",
     "output_type": "stream",
     "text": [
      "[4 4]\n"
     ]
    },
    {
     "data": {
      "text/plain": [
       "array([[ 1.45734854,  0.2021387 , -0.27213025, -1.31406111, -1.47388176,\n",
       "        -1.01558758,  1.84303091,  1.70231653, -0.71782695,  1.1922122 ,\n",
       "         1.51253707, -0.77309901,  0.60389469,  1.34508677, -0.49311984,\n",
       "        -0.20249646, -1.48959667, -1.19641243, -1.60118993, -1.72937549],\n",
       "       [-1.13536879,  0.96304839, -1.54089842, -1.23140916, -0.59168716,\n",
       "        -0.87476001,  1.94023981, -1.45405673, -0.90204292, -0.85787807,\n",
       "         0.29844458, -1.82330992, -0.56024187, -1.28213932, -1.24842216,\n",
       "        -1.24457611,  0.55844299, -0.96505794, -0.8922738 , -0.77341029]])"
      ]
     },
     "execution_count": 5,
     "metadata": {},
     "output_type": "execute_result"
    }
   ],
   "source": [
    "Lb=np.array([-2,-2]) #lower bound variables\n",
    "Ub=np.array([2,2]) \n",
    "diff=Ub-Lb\n",
    "print(diff)\n",
    "velocity=Lb[:, np.newaxis]+np.random.rand(2,n_boids)*diff[:,np.newaxis] \n",
    "velocity"
   ]
  },
  {
   "cell_type": "markdown",
   "metadata": {},
   "source": [
    "`np.newaxis` creates a new index. Print them out to see why"
   ]
  },
  {
   "cell_type": "code",
   "execution_count": 6,
   "metadata": {},
   "outputs": [
    {
     "data": {
      "text/plain": [
       "array([[0.18143653, 0.19435399, 0.25993924, 0.97164826, 0.93638017,\n",
       "        0.68229758, 0.8403578 , 0.12880676, 0.16990869, 0.37480133,\n",
       "        0.14420327, 0.00752486, 0.18114102, 0.01122793, 0.64700193,\n",
       "        0.47151789, 0.99796196, 0.92796439, 0.17870119, 0.02011378],\n",
       "       [0.28455744, 0.5089542 , 0.13222059, 0.77556949, 0.7988052 ,\n",
       "        0.46520942, 0.88063505, 0.62713655, 0.41328508, 0.73409809,\n",
       "        0.05751538, 0.56236171, 0.83672232, 0.5068594 , 0.08963139,\n",
       "        0.56191131, 0.85272311, 0.28244695, 0.96399944, 0.44943008]])"
      ]
     },
     "execution_count": 6,
     "metadata": {},
     "output_type": "execute_result"
    }
   ],
   "source": [
    "np.random.rand(2,n_boids)"
   ]
  },
  {
   "cell_type": "code",
   "execution_count": 7,
   "metadata": {},
   "outputs": [
    {
     "data": {
      "text/plain": [
       "array([[4],\n",
       "       [4]])"
      ]
     },
     "execution_count": 7,
     "metadata": {},
     "output_type": "execute_result"
    }
   ],
   "source": [
    "diff[:,np.newaxis] "
   ]
  },
  {
   "cell_type": "code",
   "execution_count": 8,
   "metadata": {},
   "outputs": [
    {
     "data": {
      "text/plain": [
       "array([[ 10, 179, 214,  37, 116, 189,  98, 104, 145,  22, 185, 170, 119,\n",
       "          5,  24, 182,  66,  19, 231,  19],\n",
       "       [158, 204, 230,   3, 123, 230, 216, 195,   4,  55,  83,  75, 136,\n",
       "         57, 137, 139,  62, 184, 103, 112]])"
      ]
     },
     "execution_count": 8,
     "metadata": {},
     "output_type": "execute_result"
    }
   ],
   "source": [
    "position=position+velocity\n",
    "pos=np.array(position.astype(int)) # we require integer coordinates\n",
    "pos"
   ]
  },
  {
   "cell_type": "markdown",
   "metadata": {},
   "source": [
    "We want to check if the position exceeds the window limit, if so, reverse the velocity. Complete the code below."
   ]
  },
  {
   "cell_type": "code",
   "execution_count": 9,
   "metadata": {},
   "outputs": [
    {
     "name": "stdout",
     "output_type": "stream",
     "text": [
      "[[ 1.45734854  0.2021387  -0.27213025 -1.31406111 -1.47388176 -1.01558758\n",
      "   1.84303091  1.70231653 -0.71782695  1.1922122   1.51253707 -0.77309901\n",
      "   0.60389469  1.34508677 -0.49311984 -0.20249646 -1.48959667 -1.19641243\n",
      "  -1.60118993 -1.72937549]\n",
      " [-1.13536879  0.96304839 -1.54089842 -1.23140916 -0.59168716 -0.87476001\n",
      "   1.94023981 -1.45405673 -0.90204292 -0.85787807  0.29844458 -1.82330992\n",
      "  -0.56024187 -1.28213932 -1.24842216 -1.24457611  0.55844299 -0.96505794\n",
      "  -0.8922738  -0.77341029]]\n"
     ]
    }
   ],
   "source": [
    "velocity[0]=[-1*v if p > window_size[0] else v for p,v in zip(pos[0],velocity[0])]\n",
    "#velocity[1]= ..  #complete this \n",
    "print(velocity)\n",
    "# check that limits are not exceeded"
   ]
  },
  {
   "cell_type": "code",
   "execution_count": 10,
   "metadata": {},
   "outputs": [
    {
     "name": "stdout",
     "output_type": "stream",
     "text": [
      "[[ 1.45734854  0.2021387  -0.27213025 -1.31406111 -1.47388176 -1.01558758\n",
      "   1.84303091  1.70231653 -0.71782695  1.1922122   1.51253707 -0.77309901\n",
      "   0.60389469  1.34508677 -0.49311984 -0.20249646 -1.48959667 -1.19641243\n",
      "  -1.60118993 -1.72937549]\n",
      " [-1.13536879  0.96304839 -1.54089842 -1.23140916 -0.59168716 -0.87476001\n",
      "   1.94023981 -1.45405673 -0.90204292 -0.85787807  0.29844458 -1.82330992\n",
      "  -0.56024187 -1.28213932 -1.24842216 -1.24457611  0.55844299 -0.96505794\n",
      "  -0.8922738  -0.77341029]]\n"
     ]
    }
   ],
   "source": [
    "velocity[0]=[-1*v if p < 0 else v for p,v in zip(pos[0],velocity[0])]\n",
    "#velocity[1]=   # complete this\n",
    "print(velocity)\n",
    "# check that limits are not exceeded"
   ]
  },
  {
   "cell_type": "markdown",
   "metadata": {},
   "source": [
    "Create a function that calculates the distance between to position. Use the Euclidean metric to calculate. Complete the code below. Use `np.sqrt` to calculate square root."
   ]
  },
  {
   "cell_type": "code",
   "execution_count": 11,
   "metadata": {},
   "outputs": [],
   "source": [
    "def dist(position,i,j):\n",
    "    #xdiff = \n",
    "    #ydiff = \n",
    "    #distance = \n",
    "    return distance"
   ]
  },
  {
   "cell_type": "markdown",
   "metadata": {},
   "source": [
    "### Three Flocking Rules\n",
    "\n",
    "1. Cohesion\n",
    "1. Repulsion\n",
    "1. Alignment\n",
    "\n",
    "    Cohesion\n",
    "\tPROCEDURE rule1(boid bJ)\n",
    "\n",
    "\t\tVector pcJ\n",
    "\n",
    "\t\tFOR EACH BOID b\n",
    "\t\t\tIF b != bJ THEN\n",
    "\t\t\t\tpcJ = pcJ + b.position\n",
    "\t\t\tEND IF\n",
    "\t\tEND\n",
    "\n",
    "\t\tpcJ = pcJ / N-1\n",
    "\n",
    "\t\tRETURN (pcJ - bJ.position) / 100\n",
    "\n",
    "\tEND PROCEDURE\n",
    "    \n",
    "    Repulsion\n",
    "    PROCEDURE rule2(boid bJ)\n",
    "\n",
    "\t\tVector c = 0;\n",
    "\n",
    "\t\tFOR EACH BOID b\n",
    "\t\t\tIF b != bJ THEN\n",
    "\t\t\t\tIF |b.position - bJ.position| < 100 THEN\n",
    "\t\t\t\t\tc = c - (b.position - bJ.position)\n",
    "\t\t\t\tEND IF\n",
    "\t\t\tEND IF\n",
    "\t\tEND\n",
    "\n",
    "\t\tRETURN c\n",
    "\n",
    "\tEND PROCEDURE\n",
    "    \n",
    "    Alignment\n",
    "    PROCEDURE rule3(boid bJ)\n",
    "\n",
    "\t\tVector pvJ\n",
    "\n",
    "\t\tFOR EACH BOID b\n",
    "\t\t\tIF b != bJ THEN\n",
    "\t\t\t\tpvJ = pvJ + b.velocity\n",
    "\t\t\tEND IF\n",
    "\t\tEND\n",
    "\n",
    "\t\tpvJ = pvJ / N-1\n",
    "\n",
    "\t\tRETURN (pvJ - bJ.velocity) / 8\n",
    "\n",
    "\tEND PROCEDURE\n",
    "\n",
    "All the return vector values should be normalized using `np.linalg.norm`\n",
    "\n",
    "see http://www.kfish.org/boids/pseudocode.html"
   ]
  },
  {
   "cell_type": "code",
   "execution_count": 12,
   "metadata": {},
   "outputs": [],
   "source": [
    "# cohesion\n",
    "def cohesion(j):\n",
    "    cx=0\n",
    "    cy=0\n",
    "    count=0\n",
    "    for i in range(n_boids):\n",
    "        if (j!=i):\n",
    "            distance=dist(position,i,j)\n",
    "            if(distance<5):\n",
    "                count=count+1\n",
    "                cx=cx+position[0,i]\n",
    "                cy=cy+position[1,i]\n",
    "                \n",
    "    if(count>0):\n",
    "        cx=cx/count\n",
    "        cy=cy/count\n",
    "        \n",
    "    rx=cx-position[0,j]\n",
    "    ry=cy-position[1,j]\n",
    "    norm=np.linalg.norm([rx,ry])\n",
    "    if(norm>0):\n",
    "        rx=rx/norm\n",
    "        ry=ry/norm\n",
    "    #print(rx,ry)\n",
    "    return (rx,ry)"
   ]
  },
  {
   "cell_type": "code",
   "execution_count": 13,
   "metadata": {},
   "outputs": [
    {
     "ename": "IndentationError",
     "evalue": "expected an indented block (2409293397.py, line 11)",
     "output_type": "error",
     "traceback": [
      "\u001b[1;36m  Cell \u001b[1;32mIn[13], line 11\u001b[1;36m\u001b[0m\n\u001b[1;33m    norm=np.linalg.norm([px,py])\u001b[0m\n\u001b[1;37m    ^\u001b[0m\n\u001b[1;31mIndentationError\u001b[0m\u001b[1;31m:\u001b[0m expected an indented block\n"
     ]
    }
   ],
   "source": [
    "# repulsion\n",
    "def repulsion(j):\n",
    "    px=0\n",
    "    py=0\n",
    "    for i in range(n_boids):\n",
    "        if (j!=i):\n",
    "            distance=dist(position,i,j)\n",
    "            if(distance < 10):\n",
    "                # fill in here\n",
    "                # file in here\n",
    "    norm=np.linalg.norm([px,py])            \n",
    "    if(norm>0):\n",
    "        px=px/norm\n",
    "        py=py/norm\n",
    "    #print(px,py)\n",
    "    return (px,py)"
   ]
  },
  {
   "cell_type": "code",
   "execution_count": null,
   "metadata": {},
   "outputs": [],
   "source": [
    "# alignment\n",
    "def alignment(j):\n",
    "    vx=0\n",
    "    vy=0\n",
    "    count=0\n",
    "    for i in range(n_boids):\n",
    "        if(j!=i):\n",
    "            distance=dist(position,i,j)\n",
    "            if(distance<20):\n",
    "                count=count+1\n",
    "                #fill in here\n",
    "                #fill in here\n",
    "    if(count>0):\n",
    "        vx=vx-velocity[0,j]/count\n",
    "        vy=vy-velocity[1,j]/count\n",
    "        \n",
    "    norm=np.linalg.norm([vx,vy])\n",
    "    if(norm>0):\n",
    "        vx=vx/norm\n",
    "        vy=vy/norm\n",
    "    return (vx,vy)"
   ]
  },
  {
   "cell_type": "markdown",
   "metadata": {},
   "source": [
    "### Put all in a game loop"
   ]
  },
  {
   "cell_type": "code",
   "execution_count": null,
   "metadata": {},
   "outputs": [],
   "source": [
    "import pygame\n",
    "pygame.init()\n",
    "\n",
    "#Try various values until works \n",
    "#A=\n",
    "#B=\n",
    "#C=\n",
    "\n",
    "# Set up the drawing window\n",
    "screen = pygame.display.set_mode(window_size)\n",
    "\n",
    "# Run until the user asks to quit\n",
    "running = True\n",
    "while running:\n",
    "\n",
    "    # Did the user click the window close button?\n",
    "    for event in pygame.event.get():\n",
    "        if event.type == pygame.QUIT:\n",
    "            running = False\n",
    "\n",
    "    # Fill the background with white\n",
    "    screen.fill((255, 255, 255))\n",
    "    pos=position.astype(int) # convert to integers\n",
    "    \n",
    "        \n",
    "    for i in range(n_boids):\n",
    "        pygame.draw.circle(screen, (0, 0, 255), pos[:,i], 5)\n",
    "    \n",
    "    if(np.random.random()<0.001):\n",
    "        A=A*-1\n",
    "        C=C*-1\n",
    "    \n",
    "    for i in range(n_boids): #individual updates\n",
    "        v1x,v1y=cohesion(i)\n",
    "        v2x,v2y=repulsion(i)\n",
    "        v3x,v3y=alignment(i)\n",
    "\n",
    "        velocity[0,i]+=A*v1x+B*v2x+C*v3x\n",
    "        velocity[1,i]+=A*v1y+B*v2y+C*v3y\n",
    "        \n",
    "        velocity[0,i]=velocity[0,i]/np.linalg.norm([velocity[0,i],velocity[1,i]])\n",
    "        velocity[1,i]=velocity[1,i]/np.linalg.norm([velocity[0,i],velocity[1,i]])\n",
    "        \n",
    "        position[0,i]+=velocity[0,i]\n",
    "        position[1,i]+=velocity[1,i]\n",
    "        #print(position)\n",
    "    \n",
    "    \n",
    "    #check if position exceeds limit\n",
    "    velocity[0]=[-1*v if p > window_size[0] else v for p,v in zip(position[0],velocity[0])]\n",
    "    velocity[1]=[-1*v if p > window_size[1] else v for p,v in zip(position[1],velocity[1])]\n",
    "    velocity[0]=[-1*v if p < 0 else v for p,v in zip(position[0],velocity[0])]\n",
    "    velocity[1]=[-1*v if p < 0 else v for p,v in zip(position[1],velocity[1])]\n",
    "    \n",
    "    position[0]=[1 if p < 0 else p for p in position[0]]\n",
    "    position[1]=[1 if p < 0 else p for p in position[1]]\n",
    "\n",
    "    position[0]=[window_size[0]-1 if p > window_size[0] else p for p in position[0]]\n",
    "    position[1]=[window_size[1]-1 if p > window_size[1] else p for p in position[1]]\n",
    "    \n",
    "    # Flip the display\n",
    "    pygame.display.flip()\n",
    "\n",
    "# Done! Time to quit.\n",
    "pygame.display.quit()"
   ]
  },
  {
   "cell_type": "markdown",
   "metadata": {},
   "source": [
    "### Try it Yourself\n",
    "1. Change the values A,B and C. Slight changes will change the behavior quite unpredictably"
   ]
  },
  {
   "cell_type": "code",
   "execution_count": null,
   "metadata": {},
   "outputs": [],
   "source": []
  }
 ],
 "metadata": {
  "kernelspec": {
   "display_name": "Python 3",
   "language": "python",
   "name": "python3"
  },
  "language_info": {
   "codemirror_mode": {
    "name": "ipython",
    "version": 3
   },
   "file_extension": ".py",
   "mimetype": "text/x-python",
   "name": "python",
   "nbconvert_exporter": "python",
   "pygments_lexer": "ipython3",
   "version": "3.8.18"
  }
 },
 "nbformat": 4,
 "nbformat_minor": 4
}
