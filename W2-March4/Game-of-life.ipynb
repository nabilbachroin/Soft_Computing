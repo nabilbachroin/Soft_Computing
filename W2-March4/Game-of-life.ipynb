{
 "cells": [
  {
   "cell_type": "markdown",
   "metadata": {},
   "source": [
    "## Conway's Game of Life\n",
    "\n",
    "The Game of Life, also known simply as Life, is a cellular automaton devised by the British mathematician John Horton Conway in 1970. It is a zero-player game, meaning that its evolution is determined by its initial state, requiring no further input. One interacts with the Game of Life by creating an initial configuration and observing how it evolves.\n",
    "\n",
    "The universe of the Game of Life is an infinite, two-dimensional orthogonal grid of square cells, each of which is in one of two possible states, live or dead, (or populated and unpopulated, respectively). Every cell interacts with its eight neighbours, which are the cells that are horizontally, vertically, or diagonally adjacent. At each step in time, the following transitions occur:\n",
    "\n",
    "- Any live cell with fewer than two live neighbours dies, as if by underpopulation.\n",
    "\n",
    "- Any live cell with two or three live neighbours lives on to the next generation.\n",
    "\n",
    "- Any live cell with more than three live neighbours dies, as if by overpopulation.\n",
    "\n",
    "- Any dead cell with exactly three live neighbours becomes a live cell, as if by reproduction.\n",
    "\n",
    "These rules, which compare the behavior of the automaton to real life, can be condensed into the following:\n",
    "\n",
    "- Any live cell with two or three live neighbours survives.\n",
    "\n",
    "- Any dead cell with three live neighbours becomes a live cell.\n",
    "\n",
    "- All other live cells die in the next generation. Similarly, all other dead cells stay dead.\n",
    "\n",
    "The initial pattern constitutes the seed of the system. The first generation is created by applying the above rules simultaneously to every cell in the seed; births and deaths occur simultaneously, and the discrete moment at which this happens is sometimes called a tick. Each generation is a pure function of the preceding one. The rules continue to be applied repeatedly to create further generations.\n",
    "\n",
    "(wikipedia)"
   ]
  },
  {
   "cell_type": "markdown",
   "metadata": {},
   "source": [
    "### Let's Code\n",
    "\n",
    "We start by randomly filling a matrix with 1 and 0. A cell is alive if it is a 1 else 0.\n",
    "\n",
    "We test a small matrix that counts the number of 1 around the center value. We use convolve2d from scipy library. The convolve operation will count the number of neighbours surrounding the central cell. Verify that the g output is counting the neighbours correctly"
   ]
  },
  {
   "cell_type": "code",
   "execution_count": null,
   "metadata": {},
   "outputs": [],
   "source": [
    "from scipy import signal\n",
    "import numpy as np\n",
    "x=np.random.randint(2,size=9).reshape(3,3)\n",
    "f=np.array([[1,1,1],[1,0,1],[1,1,1]])\n",
    "g=signal.convolve2d(x,f,mode='valid')\n"
   ]
  },
  {
   "cell_type": "markdown",
   "metadata": {},
   "source": [
    "x matrix is the initial cells populated with random live or dead cell"
   ]
  },
  {
   "cell_type": "code",
   "execution_count": null,
   "metadata": {},
   "outputs": [],
   "source": [
    "x\n"
   ]
  },
  {
   "cell_type": "markdown",
   "metadata": {},
   "source": [
    "Verify that the g output is counting the neighbours correctly"
   ]
  },
  {
   "cell_type": "code",
   "execution_count": null,
   "metadata": {},
   "outputs": [],
   "source": [
    "g"
   ]
  },
  {
   "cell_type": "markdown",
   "metadata": {},
   "source": [
    "Let's make the cell matrix bigger 5x5 "
   ]
  },
  {
   "cell_type": "code",
   "execution_count": null,
   "metadata": {},
   "outputs": [],
   "source": [
    "x=np.random.randint(2,size=25).reshape(5,5)\n",
    "x"
   ]
  },
  {
   "cell_type": "markdown",
   "metadata": {},
   "source": [
    "Again double check that g matrix is correct"
   ]
  },
  {
   "cell_type": "code",
   "execution_count": null,
   "metadata": {},
   "outputs": [],
   "source": [
    "g=signal.convolve2d(x,f,mode='valid')\n",
    "g"
   ]
  },
  {
   "cell_type": "markdown",
   "metadata": {},
   "source": [
    "Let's now implement life and death rule for each according to these rules:\n",
    "1. A dead cell with exactly three living neighbours becomes alive.\n",
    "2. A living cell with two or three living neighbours remains alive.\n",
    "3. In all other cases, the cell becomes (or remains) dead."
   ]
  },
  {
   "cell_type": "code",
   "execution_count": null,
   "metadata": {},
   "outputs": [],
   "source": [
    "y=np.zeros((5,5))\n",
    "for i in range(3):\n",
    "    for j in range(3):\n",
    "            if(x[i+1,j+1]==1) and ((g[i,j]==2) or (g[i,j]==3)):\n",
    "                y[i+1,j+1]=1\n",
    "            elif(x[i+1,j+1]==0) and (g[i,j]==3):\n",
    "                y[i+1,j+1]=1\n",
    "            else:\n",
    "                y[i+1,j+1]=0\n",
    "y"
   ]
  },
  {
   "cell_type": "markdown",
   "metadata": {},
   "source": [
    "Verify the output is correct"
   ]
  },
  {
   "cell_type": "markdown",
   "metadata": {},
   "source": [
    "Now we do this in a loop so that the x matrix is constantly updated. Again verify the output."
   ]
  },
  {
   "cell_type": "code",
   "execution_count": null,
   "metadata": {},
   "outputs": [],
   "source": [
    "from scipy import signal\n",
    "import numpy as np\n",
    "sz=5\n",
    "x=np.random.randint(2,size=(sz+2)**2).reshape(sz+2,sz+2)\n",
    "f=np.array([[1,1,1],[1,0,1],[1,1,1]])\n",
    "count=0\n",
    "\n",
    "while count<6:\n",
    "    print(x)\n",
    "    #check and update\n",
    "    y=np.zeros((sz+2,sz+2))\n",
    "    g=signal.convolve2d(x,f,mode='valid')\n",
    "    for i in range(sz):\n",
    "        for j in range(sz):\n",
    "            if(x[i+1,j+1]==1) and ((g[i,j]==2) or (g[i,j]==3)):\n",
    "                y[i+1,j+1]=1\n",
    "            elif(x[i+1,j+1]==0) and (g[i,j]==3):\n",
    "                y[i+1,j+1]=1\n",
    "            else:\n",
    "                y[i+1,j+1]=0\n",
    "    count=count+1\n",
    "    x=y\n",
    "   \n"
   ]
  },
  {
   "cell_type": "markdown",
   "metadata": {},
   "source": [
    "### Animation \n",
    "\n",
    "Now we are ready to animate the entire process. We just add in the animation loop, and code to draw rectangles for the alive cells. "
   ]
  },
  {
   "cell_type": "code",
   "execution_count": null,
   "metadata": {},
   "outputs": [],
   "source": [
    "from scipy import signal\n",
    "import numpy as np\n",
    "\n",
    "import pygame\n",
    "import random\n",
    "\n",
    "pygame.init()\n",
    "clock = pygame.time.Clock()\n",
    "\n",
    "\n",
    "#initialize values\n",
    "w,h=(500,500) #screen size\n",
    "rw,rh=(10,10)\n",
    "\n",
    "sz=50\n",
    "\n",
    "#randomly initialize the window\n",
    "x=np.random.randint(2,size=(sz+2)**2).reshape(sz+2,sz+2)\n",
    "\n",
    "\n",
    "f=np.array([[1,1,1],[1,0,1],[1,1,1]])\n",
    "\n",
    "screen = pygame.display.set_mode((400,400))\n",
    "done=False\n",
    "\n",
    "while not done:\n",
    "        screen.fill((0, 0, 0)) # clear the screen\n",
    "        for event in pygame.event.get():\n",
    "                if event.type == pygame.KEYDOWN:\n",
    "                    keyPress=True\n",
    "                if event.type == pygame.QUIT:\n",
    "                        done = True\n",
    "        if done:\n",
    "            break\n",
    "        \n",
    "        #check and update\n",
    "        y=np.zeros((sz+2,sz+2))\n",
    "        g=signal.convolve2d(x,f,mode='valid')\n",
    "        for i in range(sz):\n",
    "            for j in range(sz):\n",
    "                if(x[i+1,j+1]==1) and ((g[i,j]==2) or (g[i,j]==3)):\n",
    "                    y[i+1,j+1]=1\n",
    "                elif(x[i+1,j+1]==0) and (g[i,j]==3):\n",
    "                    y[i+1,j+1]=1\n",
    "                else:\n",
    "                    y[i+1,j+1]=0\n",
    "    \n",
    "        x=y\n",
    "            \n",
    "        #g=signal.convolve2d(x,f,mode='valid')\n",
    "        \n",
    "        for i in range(sz):\n",
    "            for j in range(sz):\n",
    "                if x[i,j]==1:\n",
    "                    pygame.draw.rect(screen, (255,0,0), pygame.Rect(i*rw, j*rh, rw,rh)) #draw cells\n",
    "                else:\n",
    "                    pygame.draw.rect(screen, (255,255,255), pygame.Rect(i*rw, j*rh, rw,rh)) #draw cells\n",
    "                    \n",
    "        pygame.display.flip()\n",
    "        clock.tick(30)\n",
    "        #print(x)\n",
    "pygame.quit()"
   ]
  },
  {
   "cell_type": "markdown",
   "metadata": {},
   "source": [
    "### Exercise\n",
    "\n",
    "1. Users can click on the screen and flip it live or dead before the start of animation"
   ]
  },
  {
   "cell_type": "markdown",
   "metadata": {},
   "source": [
    "### Hints\n",
    "\n",
    "First try to detect the mouse click using:\n",
    "\n",
    "```\n",
    "        for event in pygame.event.get():\n",
    "                if event.type == pygame.MOUSEBUTTONDOWN:\n",
    "                    pos = pygame.mouse.get_pos()\n",
    "                    print(pos)\n",
    "```\n",
    "Insert the above into the game loop. \n",
    "\n",
    "Convert the position of the mouse to the nearest 10s, e.g. if the mouse is at 153, convert that to 150. If 239, convert that to 230. \n",
    "\n",
    "You can convert that using :\n",
    "```\n",
    "                    ci,cj=pos\n",
    "                    cj=(cj/10)*10\n",
    "                    ci=(ci/10)*10\n",
    "```\n",
    "After that you simply draw the rectangle:\n",
    "```\n",
    "pygame.draw.rect(screen, (255,0,0), pygame.Rect(ci, cj, rw,rh)) #draw cells\n",
    "```\n",
    "However, you need to update the x array so that it can remember all the positions you have clicked.\n",
    "In that case you have to change the update loop, to loop the entire x array instead of just drawing a single rect. This will be just the like the code the cell above.\n",
    "\n",
    "Because the x array is 10x10 whereas the screen is 500x500, we have to convert the coordinates into the x coordinates:\n",
    "```\n",
    "                if event.type == pygame.MOUSEBUTTONDOWN:\n",
    "                    pos = pygame.mouse.get_pos()\n",
    "                    print(pos)\n",
    "                    ci,cj=pos\n",
    "                    cj=int(cj//10)\n",
    "                    ci=int(ci//10)\n",
    "                    print(ci,cj)\n",
    "                    x[ci,cj]=1\n",
    "          ```"
   ]
  },
  {
   "cell_type": "markdown",
   "metadata": {},
   "source": [
    "Now we want to detect a keypress so that it can start the evolution process. We can do this with:\n",
    "```\n",
    "\n",
    "                elif event.type == pygame.KEYDOWN:\n",
    "                    keys = pygame.key.get_pressed()\n",
    "                    \n",
    "                    if event.key == pygame.K_s:\n",
    "                        print(\"Start\") \n",
    "                        evolve=True\n",
    "```\n",
    "Once the key 'S' is pressed we can start the updating of the array x as before, simply copy the code over. We simply use a boolean variable to control the start of evolution.\n",
    "\n",
    "Remember to import signal and add the signal.convolve2d code."
   ]
  },
  {
   "cell_type": "markdown",
   "metadata": {},
   "source": [
    "Code and Worksheet by Loke K.S."
   ]
  }
 ],
 "metadata": {
  "kernelspec": {
   "display_name": "Python 3",
   "language": "python",
   "name": "python3"
  },
  "language_info": {
   "codemirror_mode": {
    "name": "ipython",
    "version": 3
   },
   "file_extension": ".py",
   "mimetype": "text/x-python",
   "name": "python",
   "nbconvert_exporter": "python",
   "pygments_lexer": "ipython3",
   "version": "3.8.3"
  }
 },
 "nbformat": 4,
 "nbformat_minor": 4
}
