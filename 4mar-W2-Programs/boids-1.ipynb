{
 "cells": [
  {
   "cell_type": "markdown",
   "metadata": {},
   "source": [
    "### Boids \n",
    "Boids is an artificial life simulation originally developed by Craig Reynolds. The aim of the simulation was to replicate the behavior of flocks of birds. Instead of controlling the interactions of an entire flock, however, the Boids simulation only specifies the behavior of each individual bird."
   ]
  },
  {
   "cell_type": "code",
   "execution_count": null,
   "metadata": {},
   "outputs": [],
   "source": [
    "import numpy as np"
   ]
  },
  {
   "cell_type": "code",
   "execution_count": null,
   "metadata": {},
   "outputs": [],
   "source": [
    "n_boids=20"
   ]
  },
  {
   "cell_type": "code",
   "execution_count": null,
   "metadata": {},
   "outputs": [],
   "source": [
    "window_size=[600,600] #display window limit"
   ]
  },
  {
   "cell_type": "code",
   "execution_count": null,
   "metadata": {},
   "outputs": [],
   "source": [
    "position=np.random.rand(2, n_boids)*250 #random number less than 250\n",
    "position.astype(int) #convert to integer\n",
    "print(position)\n",
    "print(position[:,1]) # print the second column"
   ]
  },
  {
   "cell_type": "markdown",
   "metadata": {},
   "source": [
    "We set the random velocities within some limits. "
   ]
  },
  {
   "cell_type": "code",
   "execution_count": null,
   "metadata": {},
   "outputs": [],
   "source": [
    "Lb=np.array([-2,-2]) #lower bound variables\n",
    "Ub=np.array([2,2]) \n",
    "diff=Ub-Lb\n",
    "print(diff)\n",
    "velocity=Lb[:, np.newaxis]+np.random.rand(2,n_boids)*diff[:,np.newaxis] \n",
    "velocity"
   ]
  },
  {
   "cell_type": "markdown",
   "metadata": {},
   "source": [
    "`np.newaxis` creates a new index. Print them out to see why"
   ]
  },
  {
   "cell_type": "code",
   "execution_count": null,
   "metadata": {},
   "outputs": [],
   "source": [
    "np.random.rand(2,n_boids)"
   ]
  },
  {
   "cell_type": "code",
   "execution_count": null,
   "metadata": {},
   "outputs": [],
   "source": [
    "diff[:,np.newaxis] "
   ]
  },
  {
   "cell_type": "code",
   "execution_count": null,
   "metadata": {},
   "outputs": [],
   "source": [
    "position=position+velocity\n",
    "pos=np.array(position.astype(int)) # we require integer coordinates\n",
    "pos"
   ]
  },
  {
   "cell_type": "markdown",
   "metadata": {},
   "source": [
    "We want to check if the position exceeds the window limit, if so, reverse the velocity. Complete the code below."
   ]
  },
  {
   "cell_type": "code",
   "execution_count": null,
   "metadata": {},
   "outputs": [],
   "source": [
    "velocity[0]=[-1*v if p > window_size[0] else v for p,v in zip(pos[0],velocity[0])]\n",
    "#velocity[1]= ..  #complete this \n",
    "print(velocity)\n",
    "# check that limits are not exceeded"
   ]
  },
  {
   "cell_type": "code",
   "execution_count": null,
   "metadata": {},
   "outputs": [],
   "source": [
    "velocity[0]=[-1*v if p < 0 else v for p,v in zip(pos[0],velocity[0])]\n",
    "#velocity[1]=   # complete this\n",
    "print(velocity)\n",
    "# check that limits are not exceeded"
   ]
  },
  {
   "cell_type": "markdown",
   "metadata": {},
   "source": [
    "Create a function that calculates the distance between to position. Use the Euclidean metric to calculate. Complete the code below. Use `np.sqrt` to calculate square root."
   ]
  },
  {
   "cell_type": "code",
   "execution_count": null,
   "metadata": {},
   "outputs": [],
   "source": [
    "def dist(position,i,j):\n",
    "    #xdiff = \n",
    "    #ydiff = \n",
    "    #distance = \n",
    "    return distance"
   ]
  },
  {
   "cell_type": "markdown",
   "metadata": {},
   "source": [
    "### Three Flocking Rules\n",
    "\n",
    "1. Cohesion\n",
    "1. Repulsion\n",
    "1. Alignment\n",
    "\n",
    "    Cohesion\n",
    "\tPROCEDURE rule1(boid bJ)\n",
    "\n",
    "\t\tVector pcJ\n",
    "\n",
    "\t\tFOR EACH BOID b\n",
    "\t\t\tIF b != bJ THEN\n",
    "\t\t\t\tpcJ = pcJ + b.position\n",
    "\t\t\tEND IF\n",
    "\t\tEND\n",
    "\n",
    "\t\tpcJ = pcJ / N-1\n",
    "\n",
    "\t\tRETURN (pcJ - bJ.position) / 100\n",
    "\n",
    "\tEND PROCEDURE\n",
    "    \n",
    "    Repulsion\n",
    "    PROCEDURE rule2(boid bJ)\n",
    "\n",
    "\t\tVector c = 0;\n",
    "\n",
    "\t\tFOR EACH BOID b\n",
    "\t\t\tIF b != bJ THEN\n",
    "\t\t\t\tIF |b.position - bJ.position| < 100 THEN\n",
    "\t\t\t\t\tc = c - (b.position - bJ.position)\n",
    "\t\t\t\tEND IF\n",
    "\t\t\tEND IF\n",
    "\t\tEND\n",
    "\n",
    "\t\tRETURN c\n",
    "\n",
    "\tEND PROCEDURE\n",
    "    \n",
    "    Alignment\n",
    "    PROCEDURE rule3(boid bJ)\n",
    "\n",
    "\t\tVector pvJ\n",
    "\n",
    "\t\tFOR EACH BOID b\n",
    "\t\t\tIF b != bJ THEN\n",
    "\t\t\t\tpvJ = pvJ + b.velocity\n",
    "\t\t\tEND IF\n",
    "\t\tEND\n",
    "\n",
    "\t\tpvJ = pvJ / N-1\n",
    "\n",
    "\t\tRETURN (pvJ - bJ.velocity) / 8\n",
    "\n",
    "\tEND PROCEDURE\n",
    "\n",
    "All the return vector values should be normalized using `np.linalg.norm`\n",
    "\n",
    "see http://www.kfish.org/boids/pseudocode.html"
   ]
  },
  {
   "cell_type": "code",
   "execution_count": null,
   "metadata": {},
   "outputs": [],
   "source": [
    "# cohesion\n",
    "def cohesion(j):\n",
    "    cx=0\n",
    "    cy=0\n",
    "    count=0\n",
    "    for i in range(n_boids):\n",
    "        if (j!=i):\n",
    "            distance=dist(position,i,j)\n",
    "            if(distance<5):\n",
    "                count=count+1\n",
    "                cx=cx+position[0,i]\n",
    "                cy=cy+position[1,i]\n",
    "                \n",
    "    if(count>0):\n",
    "        cx=cx/count\n",
    "        cy=cy/count\n",
    "        \n",
    "    rx=cx-position[0,j]\n",
    "    ry=cy-position[1,j]\n",
    "    norm=np.linalg.norm([rx,ry])\n",
    "    if(norm>0):\n",
    "        rx=rx/norm\n",
    "        ry=ry/norm\n",
    "    #print(rx,ry)\n",
    "    return (rx,ry)"
   ]
  },
  {
   "cell_type": "code",
   "execution_count": null,
   "metadata": {},
   "outputs": [],
   "source": [
    "# repulsion\n",
    "def repulsion(j):\n",
    "    px=0\n",
    "    py=0\n",
    "    for i in range(n_boids):\n",
    "        if (j!=i):\n",
    "            distance=dist(position,i,j)\n",
    "            if(distance < 10):\n",
    "                # fill in here\n",
    "                # file in here\n",
    "    norm=np.linalg.norm([px,py])            \n",
    "    if(norm>0):\n",
    "        px=px/norm\n",
    "        py=py/norm\n",
    "    #print(px,py)\n",
    "    return (px,py)"
   ]
  },
  {
   "cell_type": "code",
   "execution_count": null,
   "metadata": {},
   "outputs": [],
   "source": [
    "# alignment\n",
    "def alignment(j):\n",
    "    vx=0\n",
    "    vy=0\n",
    "    count=0\n",
    "    for i in range(n_boids):\n",
    "        if(j!=i):\n",
    "            distance=dist(position,i,j)\n",
    "            if(distance<20):\n",
    "                count=count+1\n",
    "                #fill in here\n",
    "                #fill in here\n",
    "    if(count>0):\n",
    "        vx=vx-velocity[0,j]/count\n",
    "        vy=vy-velocity[1,j]/count\n",
    "        \n",
    "    norm=np.linalg.norm([vx,vy])\n",
    "    if(norm>0):\n",
    "        vx=vx/norm\n",
    "        vy=vy/norm\n",
    "    return (vx,vy)"
   ]
  },
  {
   "cell_type": "markdown",
   "metadata": {},
   "source": [
    "### Put all in a game loop"
   ]
  },
  {
   "cell_type": "code",
   "execution_count": null,
   "metadata": {},
   "outputs": [],
   "source": [
    "import pygame\n",
    "pygame.init()\n",
    "\n",
    "#Try various values until works \n",
    "#A=\n",
    "#B=\n",
    "#C=\n",
    "\n",
    "# Set up the drawing window\n",
    "screen = pygame.display.set_mode(window_size)\n",
    "\n",
    "# Run until the user asks to quit\n",
    "running = True\n",
    "while running:\n",
    "\n",
    "    # Did the user click the window close button?\n",
    "    for event in pygame.event.get():\n",
    "        if event.type == pygame.QUIT:\n",
    "            running = False\n",
    "\n",
    "    # Fill the background with white\n",
    "    screen.fill((255, 255, 255))\n",
    "    pos=position.astype(int) # convert to integers\n",
    "    \n",
    "        \n",
    "    for i in range(n_boids):\n",
    "        pygame.draw.circle(screen, (0, 0, 255), pos[:,i], 5)\n",
    "    \n",
    "    if(np.random.random()<0.001):\n",
    "        A=A*-1\n",
    "        C=C*-1\n",
    "    \n",
    "    for i in range(n_boids): #individual updates\n",
    "        v1x,v1y=cohesion(i)\n",
    "        v2x,v2y=repulsion(i)\n",
    "        v3x,v3y=alignment(i)\n",
    "\n",
    "        velocity[0,i]+=A*v1x+B*v2x+C*v3x\n",
    "        velocity[1,i]+=A*v1y+B*v2y+C*v3y\n",
    "        \n",
    "        velocity[0,i]=velocity[0,i]/np.linalg.norm([velocity[0,i],velocity[1,i]])\n",
    "        velocity[1,i]=velocity[1,i]/np.linalg.norm([velocity[0,i],velocity[1,i]])\n",
    "        \n",
    "        position[0,i]+=velocity[0,i]\n",
    "        position[1,i]+=velocity[1,i]\n",
    "        #print(position)\n",
    "    \n",
    "    \n",
    "    #check if position exceeds limit\n",
    "    velocity[0]=[-1*v if p > window_size[0] else v for p,v in zip(position[0],velocity[0])]\n",
    "    velocity[1]=[-1*v if p > window_size[1] else v for p,v in zip(position[1],velocity[1])]\n",
    "    velocity[0]=[-1*v if p < 0 else v for p,v in zip(position[0],velocity[0])]\n",
    "    velocity[1]=[-1*v if p < 0 else v for p,v in zip(position[1],velocity[1])]\n",
    "    \n",
    "    position[0]=[1 if p < 0 else p for p in position[0]]\n",
    "    position[1]=[1 if p < 0 else p for p in position[1]]\n",
    "\n",
    "    position[0]=[window_size[0]-1 if p > window_size[0] else p for p in position[0]]\n",
    "    position[1]=[window_size[1]-1 if p > window_size[1] else p for p in position[1]]\n",
    "    \n",
    "    # Flip the display\n",
    "    pygame.display.flip()\n",
    "\n",
    "# Done! Time to quit.\n",
    "pygame.display.quit()"
   ]
  },
  {
   "cell_type": "markdown",
   "metadata": {},
   "source": [
    "### Try it Yourself\n",
    "1. Change the values A,B and C. Slight changes will change the behavior quite unpredictably"
   ]
  },
  {
   "cell_type": "code",
   "execution_count": null,
   "metadata": {},
   "outputs": [],
   "source": []
  }
 ],
 "metadata": {
  "kernelspec": {
   "display_name": "Python 3",
   "language": "python",
   "name": "python3"
  },
  "language_info": {
   "codemirror_mode": {
    "name": "ipython",
    "version": 3
   },
   "file_extension": ".py",
   "mimetype": "text/x-python",
   "name": "python",
   "nbconvert_exporter": "python",
   "pygments_lexer": "ipython3",
   "version": "3.8.3"
  }
 },
 "nbformat": 4,
 "nbformat_minor": 4
}
