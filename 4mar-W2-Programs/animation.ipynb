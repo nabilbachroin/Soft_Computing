{
 "cells": [
  {
   "cell_type": "markdown",
   "metadata": {},
   "source": [
    "### Bare Bones Animation using Pygame"
   ]
  },
  {
   "cell_type": "markdown",
   "metadata": {},
   "source": [
    "First we need import pygame"
   ]
  },
  {
   "cell_type": "code",
   "execution_count": 2,
   "metadata": {},
   "outputs": [
    {
     "name": "stdout",
     "output_type": "stream",
     "text": [
      "pygame 2.5.2 (SDL 2.28.3, Python 3.8.18)\n",
      "Hello from the pygame community. https://www.pygame.org/contribute.html\n"
     ]
    }
   ],
   "source": [
    "import pygame"
   ]
  },
  {
   "cell_type": "markdown",
   "metadata": {},
   "source": [
    "Then we need to initialize the module"
   ]
  },
  {
   "cell_type": "code",
   "execution_count": 3,
   "metadata": {},
   "outputs": [
    {
     "data": {
      "text/plain": [
       "(5, 0)"
      ]
     },
     "execution_count": 3,
     "metadata": {},
     "output_type": "execute_result"
    }
   ],
   "source": [
    "pygame.init()"
   ]
  },
  {
   "cell_type": "markdown",
   "metadata": {},
   "source": [
    "Then create a Clock object that can be used to track an amount of time. The clock also provides several functions to help control a game's framerate. \n"
   ]
  },
  {
   "cell_type": "code",
   "execution_count": 4,
   "metadata": {},
   "outputs": [],
   "source": [
    "clock = pygame.time.Clock()"
   ]
  },
  {
   "cell_type": "markdown",
   "metadata": {},
   "source": [
    "Set the window size to 400 by 300 and get the screen object"
   ]
  },
  {
   "cell_type": "code",
   "execution_count": 5,
   "metadata": {},
   "outputs": [],
   "source": [
    "screen = pygame.display.set_mode((400,300))"
   ]
  },
  {
   "cell_type": "markdown",
   "metadata": {},
   "source": [
    "### Animation Loop\n",
    "In order to display an animation, you need to have a loop. The loop while first clear the screen then draw whatever elements is needed then the loop is repeated. You have something like this:\n",
    "\n",
    "\n",
    "    while true\n",
    "       clear the screen\n",
    "       draw items\n",
    "\n",
    "   \n",
    "This will loop forever, so we want the loop to monitor mouse events so that the loop can terminate. Also the loop may be going to fast that nothing can be seen. So we often put a timer within the loop. This done using the Clock.tick() function. Clock.tick(x) will make pygame to render only x times per second. This function is used in the rendering will block execution until 1/60 seconds have passed since the previous time clock.tick was called in the loop.\n",
    "\n",
    "        \n"
   ]
  },
  {
   "cell_type": "markdown",
   "metadata": {},
   "source": [
    "### Getting Events from Pygame\n",
    "\n",
    "We can get the events using: \n",
    "\n",
    "    for event in pygame.event.get():\n",
    "\n",
    "We check that the events is a quit event:\n",
    "\n",
    "    for event in pygame.event.get():\n",
    "      if event.type == pygame.QUIT:\n",
    "           done = True\n",
    "           pygame.quit()"
   ]
  },
  {
   "cell_type": "markdown",
   "metadata": {},
   "source": [
    "### Drawing Items in the Loop\n",
    "\n",
    "In order to draw items, we need to clear the screen and draw on it repeatedly.\n",
    "\n",
    "We clear the screen with:\n",
    "\n",
    "    screen.fill((0, 0, 0))\n",
    "\n",
    "We can draw a simple object with:\n",
    "\n",
    "    pygame.draw.rect(screen, color, pygame.Rect(loc_x,loc_y, width, height))\n",
    "\n",
    "We can draw random rectangles if we set loc_x and loc_y with random integer values\n",
    "\n",
    "\n",
    "    loc_x=random.randint(0,w)\n",
    "    loc_y=random.randint(0,h)\n",
    "    pygame.draw.rect(screen, color, pygame.Rect(loc_x, loc_y, rw,rh)) #draw rectangle\n"
   ]
  },
  {
   "cell_type": "markdown",
   "metadata": {},
   "source": [
    "### Double Buffering\n",
    "\n",
    "If you are drawing something on the screen while displaying, the animation will not be smooth. Therefore many libraries use a double buffering system. This means there are two memory locations for storing display objects. One of the buffer is used for display. While one of the buffer is displayed, the other buffer is used for drawing and update objects. Then the buffers are swapped, what was previously drawn will now be displayed, and the other buffer will be used for drawing. The swapping continues until the animation loop is terminated. \n",
    "\n",
    "The buffer flipping is done with:\n",
    "\n",
    "    pygame.display.flip()"
   ]
  },
  {
   "cell_type": "markdown",
   "metadata": {},
   "source": [
    "### We put all of these together "
   ]
  },
  {
   "cell_type": "code",
   "execution_count": 6,
   "metadata": {},
   "outputs": [],
   "source": [
    "import pygame\n",
    "import random\n",
    "\n",
    "pygame.init()\n",
    "clock = pygame.time.Clock()\n",
    "\n",
    "#initialize values\n",
    "loc_x=0\n",
    "loc_y=30\n",
    "rw,rh=(30,30)\n",
    "color=(255, 128, 0)\n",
    "w,h=(400,300)\n",
    "\n",
    "screen = pygame.display.set_mode((w,h))\n",
    "done = False\n",
    "\n",
    "while not done:\n",
    "        for event in pygame.event.get():\n",
    "                if event.type == pygame.QUIT:\n",
    "                        done = True\n",
    "                        \n",
    "        if done:\n",
    "            break\n",
    "        screen.fill((0, 0, 0)) # clear the screen\n",
    "        loc_x=random.randint(0,w)\n",
    "        loc_y=random.randint(0,h)\n",
    "        pygame.draw.rect(screen, color, pygame.Rect(loc_x, loc_y, rw,rh)) #draw rectangle\n",
    "        pygame.display.flip()\n",
    "        \n",
    "        clock.tick(30)\n",
    "            \n",
    "pygame.quit()       "
   ]
  },
  {
   "cell_type": "markdown",
   "metadata": {},
   "source": [
    "### Let's add Key Press\n",
    "\n",
    "Remove the random location code. Now we want to control the square by the arrow keys. So we need to detect the key press events. Add these lines after the event.get() line.\n",
    "\n",
    "\n",
    "\n",
    "    pressed = pygame.key.get_pressed()\n",
    "    if pressed[pygame.K_UP]: loc_y -= 3\n",
    "    if pressed[pygame.K_DOWN]: loc_y += 3\n",
    "    if pressed[pygame.K_LEFT]: loc_x -= 3\n",
    "    if pressed[pygame.K_RIGHT]: loc_x += 3\n",
    "\n",
    "\n",
    "To run the code below, you need to give focus to the pygame window - that mean's click on it first, then only it can detect the keypresses."
   ]
  },
  {
   "cell_type": "code",
   "execution_count": 11,
   "metadata": {},
   "outputs": [],
   "source": [
    "import pygame\n",
    "import random\n",
    "\n",
    "pygame.init()\n",
    "clock = pygame.time.Clock()\n",
    "\n",
    "#initialize values\n",
    "loc_x=0\n",
    "loc_y=30\n",
    "rw,rh=(30,30)\n",
    "color=(255, 128, 0)\n",
    "w,h=(400,300)\n",
    "\n",
    "screen = pygame.display.set_mode((w,h))\n",
    "done = False\n",
    "\n",
    "while not done:\n",
    "        for event in pygame.event.get():\n",
    "                if event.type == pygame.QUIT:\n",
    "                        done = True\n",
    "                        \n",
    "        if done:\n",
    "            break\n",
    "        screen.fill((0, 0, 0)) # clear the screen\n",
    "        # loc_x=random.randint(0,w)\n",
    "        # loc_y=random.randint(0,h)\n",
    "        pygame.draw.rect(screen, color, pygame.Rect(loc_x, loc_y, rw,rh)) #draw rectangle\n",
    "        pygame.display.flip()\n",
    "\n",
    "        pressed = pygame.key.get_pressed()\n",
    "        if pressed[pygame.K_UP]: loc_y -= 3\n",
    "        if pressed[pygame.K_DOWN]: loc_y += 3\n",
    "        if pressed[pygame.K_LEFT]: loc_x -= 3\n",
    "        if pressed[pygame.K_RIGHT]: loc_x += 3\n",
    "        \n",
    "        clock.tick(30)\n",
    "            \n",
    "pygame.quit()       "
   ]
  },
  {
   "cell_type": "markdown",
   "metadata": {},
   "source": [
    "### Let's a have Ball\n",
    "\n",
    "Let's convert the original square into a paddle. Then we add ball that is moving on its own. The objective is to use the paddle to hit the ball so that it does not fall through the lower boundary. \n",
    "\n",
    "You can create a ball that moves on its own like this:\n",
    "\n",
    "        #ball\n",
    "        ballx+=vx\n",
    "        bally+=vy\n",
    "        pygame.draw.rect(screen, bcolor, pygame.Rect(ballx, bally, bw,bh)) #draw ball"
   ]
  },
  {
   "cell_type": "code",
   "execution_count": 12,
   "metadata": {},
   "outputs": [],
   "source": [
    "import pygame\n",
    "import random\n",
    "\n",
    "pygame.init()\n",
    "clock = pygame.time.Clock()\n",
    "\n",
    "# Paddle settings\n",
    "loc_x = 0\n",
    "loc_y = 260\n",
    "paddle_width, paddle_height = (60, 10) # size\n",
    "color = (255, 128, 0)\n",
    "\n",
    "# Ball settings\n",
    "ballx, bally = (200, 150) # Start\n",
    "bw, bh = (10, 10) # Size\n",
    "bcolor = (0, 255, 255) # Color\n",
    "\n",
    "# ball velocity\n",
    "# (-, -) = left, up\n",
    "# (-, +) = left, down\n",
    "# (+, -) = right, up\n",
    "# (+, +) = right, down\n",
    "vx, vy = (2, 2)\n",
    "\n",
    "# Screen settings\n",
    "w, h = (275, 275)\n",
    "screen = pygame.display.set_mode((w, h))\n",
    "done = False\n",
    "\n",
    "while not done:\n",
    "    for event in pygame.event.get():\n",
    "        if event.type == pygame.QUIT:\n",
    "            done = True\n",
    "\n",
    "    if done:\n",
    "        break\n",
    "\n",
    "    screen.fill((0, 0, 0))\n",
    "\n",
    "    # Draw paddle\n",
    "    pygame.draw.rect(screen, color, pygame.Rect(loc_x, loc_y, paddle_width, paddle_height))\n",
    "\n",
    "    # Move and draw ball\n",
    "    ballx += vx\n",
    "    bally += vy\n",
    "    pygame.draw.rect(screen, bcolor, pygame.Rect(ballx, bally, bw, bh))\n",
    "\n",
    "    # Ball collision with walls\n",
    "    if ballx <= 0:\n",
    "        vx = -vx # we just need to add with minus to opposite direction\n",
    "    elif ballx + bw >= w:\n",
    "        vx = -vx # we just need to add with minus to opposite direction\n",
    "    if bally <= 0:\n",
    "        vy = -vy\n",
    "\n",
    "    # Ball collision with paddle\n",
    "    if loc_x < ballx < loc_x + paddle_width and loc_y < bally + bh < loc_y + paddle_height:\n",
    "        vy = -vy\n",
    "\n",
    "    # Ball falls through the bottom\n",
    "    if bally + bh > h:\n",
    "        ballx, bally = (200, 150)\n",
    "        vx, vy = (2, 2)\n",
    "\n",
    "    # # paddle setting\n",
    "    # if loc_x + paddle_height > h:\n",
    "    # loc_x = loc_x\n",
    "\n",
    "    pygame.display.flip()\n",
    "    clock.tick(35)\n",
    "\n",
    "    # Paddle movement\n",
    "    pressed = pygame.key.get_pressed()\n",
    "    if pressed[pygame.K_UP]: loc_y -= 3\n",
    "    if pressed[pygame.K_DOWN]: loc_y += 3\n",
    "    if pressed[pygame.K_LEFT]:\n",
    "        if not loc_x <= 0:\n",
    "            loc_x -= 9\n",
    "    if pressed[pygame.K_RIGHT]:\n",
    "        if not loc_x + paddle_width > h:\n",
    "            loc_x += 9\n",
    "\n",
    "pygame.quit()     "
   ]
  },
  {
   "cell_type": "markdown",
   "metadata": {},
   "source": [
    "What is the problem with the above code? It is not able to detect when it goes out of bounds, and can't detect that it is hitting the paddle. We need to add collision detection code!!! How do we do that?\n",
    "\n",
    "Test out of bounds:\n",
    "\n",
    "        #bounce on wall\n",
    "        if ballx>w-bw or ballx<0:\n",
    "            vx=vx*-1\n",
    "        if bally>h-bh or bally<0:\n",
    "            vy=vy*-1\n",
    "\n",
    "\n",
    "Test collision with Paddle:\n",
    "\n",
    "        #collision detection\n",
    "        if pygame.Rect(loc_x,loc_y,rw,rh).colliderect(pygame.Rect(ballx,bally,bw,bh)):\n",
    "               vy=vy*-1\n"
   ]
  },
  {
   "cell_type": "code",
   "execution_count": 7,
   "metadata": {},
   "outputs": [],
   "source": [
    " "
   ]
  },
  {
   "cell_type": "markdown",
   "metadata": {},
   "source": [
    "### Additional Exercise (optional)\n",
    "\n",
    "1. Modify so that the ball will start at a random position.\n",
    "1. Modify so that the ball will drop through the lower boundary (floor) if the paddle did not hit it.\n",
    "1. Add a score counting for number of missed ball (those that fall through the floor) and display the score on screen.\n",
    "1. Add another player. The second player control the paddle on the top. \n",
    "1. Change the orientation so that two players play by controlling the paddle on the left and right. "
   ]
  },
  {
   "cell_type": "markdown",
   "metadata": {},
   "source": [
    "Code and Worksheet by Loke K.S."
   ]
  }
 ],
 "metadata": {
  "kernelspec": {
   "display_name": "Python 3",
   "language": "python",
   "name": "python3"
  },
  "language_info": {
   "codemirror_mode": {
    "name": "ipython",
    "version": 3
   },
   "file_extension": ".py",
   "mimetype": "text/x-python",
   "name": "python",
   "nbconvert_exporter": "python",
   "pygments_lexer": "ipython3",
   "version": "3.8.18"
  }
 },
 "nbformat": 4,
 "nbformat_minor": 4
}
