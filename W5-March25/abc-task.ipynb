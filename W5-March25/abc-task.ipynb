{
 "cells": [
  {
   "cell_type": "markdown",
   "metadata": {},
   "source": [
    "### Artificial Bee Colony\n",
    "\n",
    "Complete the following code. Comments marked as `your code here` is where you have to add your own code"
   ]
  },
  {
   "cell_type": "markdown",
   "metadata": {},
   "source": [
    "Import the libraries"
   ]
  },
  {
   "cell_type": "code",
   "execution_count": 1,
   "metadata": {},
   "outputs": [],
   "source": [
    "#imports\n",
    "#your code here"
   ]
  },
  {
   "cell_type": "markdown",
   "metadata": {},
   "source": [
    "Initialize the constants, such as LB, UB, max_iter, number on bees, trial limit, etc. \n",
    "The number of employed bees is equal to onlooker bees."
   ]
  },
  {
   "cell_type": "code",
   "execution_count": 2,
   "metadata": {},
   "outputs": [],
   "source": [
    "#your code here\n",
    "#D=\n",
    "#lb=\n",
    "#ub=\n",
    "#Lb=\n",
    "#Ub=\n",
    "#max_iter=\n",
    "\n",
    "#N= employed bees = onlooker bees\n",
    "#limit=limit for scout bees\n",
    "#trial = initialize the trial array"
   ]
  },
  {
   "cell_type": "markdown",
   "metadata": {},
   "source": [
    "Define the fitness function"
   ]
  },
  {
   "cell_type": "code",
   "execution_count": null,
   "metadata": {},
   "outputs": [],
   "source": [
    "#fitness function to minimize D=2\n",
    "#def fun(X):\n",
    "#    your code here\n"
   ]
  },
  {
   "cell_type": "markdown",
   "metadata": {},
   "source": [
    "### Initialize population\n",
    "\n",
    "We want to initialize the food sources. It should have D columns and N columns. N is the number of employed or onlooker bees. We want to fill with random numbers that does not exceed its bounds (lower and upper given by LB and UB)"
   ]
  },
  {
   "cell_type": "code",
   "execution_count": null,
   "metadata": {},
   "outputs": [],
   "source": [
    "pos=np.zeros((N,D)) #pos is food source\n",
    "\n",
    "for i in range(N):\n",
    "    for j in range(D):\n",
    "        #your code here\n",
    "\n",
    "pos"
   ]
  },
  {
   "cell_type": "code",
   "execution_count": null,
   "metadata": {},
   "outputs": [],
   "source": [
    "#get the function value first. Note fx is an array\n",
    "fx=fun(pos)\n",
    "fx"
   ]
  },
  {
   "cell_type": "markdown",
   "metadata": {},
   "source": [
    "### Employed Bee Phase\n",
    "\n",
    "Random number can be obtained from `random.random()`. Test it\n",
    "\n",
    "We want to select two numbers:\n",
    "\n",
    "- the random dimension to update. Choose from 0 to D-1 In this case there are two dimension as per the lecture notes.\n",
    "- the random partner bee to compare with current employed bee. Choose from 0 to N-1. However the partner bee can't be the current bee. \n",
    "\n",
    "`SMART HINT`: Create a separate cell to test individual code first before integrating them."
   ]
  },
  {
   "cell_type": "code",
   "execution_count": null,
   "metadata": {},
   "outputs": [],
   "source": [
    "for i in range(N): # range through foodsource\n",
    "    \n",
    "    Xnew=np.copy(pos[i]) #solution for i foodsource, we store it as previous\n",
    "    \n",
    "    #d=choose from 0... D-1\n",
    "    #your code here\n",
    "    \n",
    "    #partner=choose from 0... N-1; partner to compare\n",
    "    #check that it is not the current bee, else re-select randomly\n",
    "    #your code here \n",
    "    \n",
    "    X=pos[i,d] #this is current bee\n",
    "    Xp=pos[partner,d] #this is partner bee\n",
    "    \n",
    "    #update Xnew using X and Xp\n",
    "    #your code here\n",
    "    \n",
    "    #check bounds\n",
    "    #your code here, check that Xnew is within the limit\n",
    "    \n",
    "    \n",
    "    #get the new function value\n",
    "    fnew=fun(np.expand_dims(Xnew,axis=0))\n",
    "    \n",
    "    #if the new function value is better \n",
    "    #    for this bee\n",
    "    #    update the pos array \n",
    "    #    update the new function value into fx array \n",
    "    #    set trial zero\n",
    "    # else\n",
    "    #    increment trial by 1\n",
    "    # your code here to implement above    \n",
    "        "
   ]
  },
  {
   "cell_type": "markdown",
   "metadata": {},
   "source": [
    "### Onlooker Bee Phase"
   ]
  },
  {
   "cell_type": "code",
   "execution_count": null,
   "metadata": {},
   "outputs": [],
   "source": [
    "#prob = find the probability based on fx\n",
    "#your code here\n",
    "\n",
    "\n",
    "for i in range(N):\n",
    "    if(random.random()<prob[i]):\n",
    "        \n",
    "        #repeat all code in Employed Bee Phase\n",
    "        #your code here\n",
    "        \n",
    "\n"
   ]
  },
  {
   "cell_type": "markdown",
   "metadata": {},
   "source": [
    "### Put all together in a Loop"
   ]
  },
  {
   "cell_type": "code",
   "execution_count": 36,
   "metadata": {},
   "outputs": [
    {
     "name": "stdout",
     "output_type": "stream",
     "text": [
      "[-2.62915845 -3.30570308]\n",
      "-6.332199397610745\n"
     ]
    }
   ],
   "source": [
    "#parameters redefined here again\n",
    "#your code\n",
    "\n",
    "\n",
    "#this is an array that stores the best Bee and Function value\n",
    "Xbest=np.zeros((max_iter,D))\n",
    "Fbest=np.zeros(max_iter)\n",
    "\n",
    "for it in range(max_iter):\n",
    "    \n",
    "    #init population\n",
    "    #your code\n",
    "        \n",
    "    fx=fun(pos)\n",
    "    \n",
    "    #employe Bee Phase\n",
    "    #your code\n",
    "\n",
    "    prob=fx/np.sum(fx)\n",
    "    \n",
    "    #Onlooker Bee Phase\n",
    "    #your code\n",
    "        \n",
    "\n",
    "    #get the best value\n",
    "    fxval=np.min(fx)\n",
    "    fxind=np.argmin(fx)\n",
    "    \n",
    "    #save the best value in an array\n",
    "    Xbest[it]=pos[fxind] #best X\n",
    "    Fbest[it]=fxval #function best\n",
    "\n",
    "\n",
    "#get the best value for all the iterations\n",
    "print(Xbest[np.argmin(Fbest)])\n",
    "print(np.min(Fbest))\n"
   ]
  },
  {
   "cell_type": "markdown",
   "metadata": {},
   "source": [
    "## Exercise\n",
    "\n",
    "Apply the ABC algorithm to the rastrigin-2 and rastrigin-4 function"
   ]
  },
  {
   "cell_type": "code",
   "execution_count": null,
   "metadata": {},
   "outputs": [],
   "source": []
  }
 ],
 "metadata": {
  "kernelspec": {
   "display_name": "Python 3",
   "language": "python",
   "name": "python3"
  },
  "language_info": {
   "codemirror_mode": {
    "name": "ipython",
    "version": 3
   },
   "file_extension": ".py",
   "mimetype": "text/x-python",
   "name": "python",
   "nbconvert_exporter": "python",
   "pygments_lexer": "ipython3",
   "version": "3.8.3"
  }
 },
 "nbformat": 4,
 "nbformat_minor": 4
}
