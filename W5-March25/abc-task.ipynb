{
 "cells": [
  {
   "cell_type": "markdown",
   "metadata": {},
   "source": [
    "### Artificial Bee Colony\n",
    "\n",
    "Complete the following code. Comments marked as `your code here` is where you have to add your own code"
   ]
  },
  {
   "cell_type": "markdown",
   "metadata": {},
   "source": [
    "Import the libraries"
   ]
  },
  {
   "cell_type": "code",
   "execution_count": 4,
   "metadata": {},
   "outputs": [],
   "source": [
    "import numpy as np"
   ]
  },
  {
   "cell_type": "markdown",
   "metadata": {},
   "source": [
    "Initialize the constants, such as LB, UB, max_iter, number on bees, trial limit, etc. \n",
    "The number of employed bees is equal to onlooker bees."
   ]
  },
  {
   "cell_type": "code",
   "execution_count": 7,
   "metadata": {},
   "outputs": [],
   "source": [
    "#your code here\n",
    "D = 2 #dimenssion\n",
    "lb = -5 #upper and lower boundaries of the area\n",
    "ub = 5 #upper and lower boundaries of the area \n",
    "Lb = -5 #global upper and lower bounds. for each variable\n",
    "Ub = 5 #global upper and lower bounds. for each variable\n",
    "max_iter = 100\n",
    "\n",
    "N= 5 #employed bees = onlooker bees\n",
    "limit = D*N #limit for scout bees\n",
    "trial = trial = np.zeros(N) #initialize the trial array"
   ]
  },
  {
   "cell_type": "markdown",
   "metadata": {},
   "source": [
    "Define the fitness function"
   ]
  },
  {
   "cell_type": "code",
   "execution_count": 6,
   "metadata": {},
   "outputs": [],
   "source": [
    "#fitness function to maximize D=2\n",
    "def fun(X):\n",
    "x1=X[:, 0]\n",
    "x2=X[:, 11\n",
    "fx=np. power (x1,2) -x1*x2+np. power (x2,2)+2*(x1) +4*x2+3\n",
    "fit=np・zeros_like（fX）\n",
    "for i in range(len(fx)) :\n",
    "if (fx[i]>=0):\n",
    "fit[i]=1/(1+fx[i])\n",
    "elif (fx[i]<0) :\n",
    "fit［i］=1+abs（fx［i］）\n",
    "return fit"
   ]
  },
  {
   "cell_type": "markdown",
   "metadata": {},
   "source": [
    "### Initialize population\n",
    "\n",
    "We want to initialize the food sources. It should have D columns and N columns. N is the number of employed or onlooker bees. We want to fill with random numbers that does not exceed its bounds (lower and upper given by LB and UB)"
   ]
  },
  {
   "cell_type": "code",
   "execution_count": 9,
   "metadata": {},
   "outputs": [
    {
     "data": {
      "text/plain": [
       "array([[-1.36537453, -4.08392067],\n",
       "       [-0.44157138, -4.36271812],\n",
       "       [-0.2876538 ,  3.86126705],\n",
       "       [ 3.9173742 , -4.69389467],\n",
       "       [ 0.52806959, -0.71235222],\n",
       "       [ 0.32616381, -1.85762067],\n",
       "       [-3.93929374,  3.65085094],\n",
       "       [ 4.98193046,  0.56990019],\n",
       "       [ 0.53701026, -1.89399089],\n",
       "       [ 1.39761859,  0.20665214],\n",
       "       [-0.12318635,  3.83689508],\n",
       "       [ 1.97625711, -4.08621665],\n",
       "       [-0.51978894,  4.23564457],\n",
       "       [-4.9839046 ,  3.68399545],\n",
       "       [ 0.9813937 , -0.54501465],\n",
       "       [ 1.94781118, -2.76747663],\n",
       "       [-1.89657223,  4.72935547],\n",
       "       [ 0.62483775,  0.5185966 ],\n",
       "       [-3.52834777, -4.66441417],\n",
       "       [-1.65146006, -0.048613  ],\n",
       "       [ 1.31178467, -4.20498124],\n",
       "       [-3.11236372,  3.44907729],\n",
       "       [-1.22605434,  4.40534753],\n",
       "       [ 4.14584275,  3.40865919],\n",
       "       [ 1.9362757 , -2.16376339],\n",
       "       [-0.979212  , -2.47299151],\n",
       "       [ 2.01171988,  0.61266086],\n",
       "       [-1.31488703, -0.15611125],\n",
       "       [ 1.13319658,  4.61226353],\n",
       "       [ 2.31422526, -0.68549738],\n",
       "       [-3.1544611 , -3.68517682],\n",
       "       [-0.1092378 ,  0.10695237],\n",
       "       [-4.35935598, -0.8135248 ]])"
      ]
     },
     "execution_count": 9,
     "metadata": {},
     "output_type": "execute_result"
    }
   ],
   "source": [
    "pos = np.zeros((N, D))  # pos is food source\n",
    "\n",
    "for i in range(N):\n",
    "    for j in range(D):\n",
    "        pos[i, j] = Lb + (Ub - Lb) * np.random.rand()\n",
    "\n",
    "pos"
   ]
  },
  {
   "cell_type": "code",
   "execution_count": null,
   "metadata": {},
   "outputs": [],
   "source": [
    "#get the function value first. Note fx is an array\n",
    "fx=fun(pos)\n",
    "fx"
   ]
  },
  {
   "cell_type": "markdown",
   "metadata": {},
   "source": [
    "### Employed Bee Phase\n",
    "\n",
    "Random number can be obtained from `random.random()`. Test it\n",
    "\n",
    "We want to select two numbers:\n",
    "\n",
    "- the random dimension to update. Choose from 0 to D-1 In this case there are two dimension as per the lecture notes.\n",
    "- the random partner bee to compare with current employed bee. Choose from 0 to N-1. However the partner bee can't be the current bee. \n",
    "\n",
    "`SMART HINT`: Create a separate cell to test individual code first before integrating them."
   ]
  },
  {
   "cell_type": "code",
   "execution_count": null,
   "metadata": {},
   "outputs": [],
   "source": [
    "for i in range(N): # range through foodsource\n",
    "    \n",
    "    Xnew=np.copy(pos[i]) #solution for i foodsource, we store it as previous\n",
    "    \n",
    "    #d=choose from 0... D-1\n",
    "    #your code here\n",
    "    \n",
    "    #partner=choose from 0... N-1; partner to compare\n",
    "    #check that it is not the current bee, else re-select randomly\n",
    "    #your code here \n",
    "    \n",
    "    X=pos[i,d] #this is current bee\n",
    "    Xp=pos[partner,d] #this is partner bee\n",
    "    \n",
    "    #update Xnew using X and Xp\n",
    "    #your code here\n",
    "    \n",
    "    #check bounds\n",
    "    #your code here, check that Xnew is within the limit\n",
    "    \n",
    "    \n",
    "    #get the new function value\n",
    "    fnew=fun(np.expand_dims(Xnew,axis=0))\n",
    "    \n",
    "    #if the new function value is better \n",
    "    #    for this bee\n",
    "    #    update the pos array \n",
    "    #    update the new function value into fx array \n",
    "    #    set trial zero\n",
    "    # else\n",
    "    #    increment trial by 1\n",
    "    # your code here to implement above    \n",
    "        "
   ]
  },
  {
   "cell_type": "code",
   "execution_count": null,
   "metadata": {},
   "outputs": [],
   "source": [
    "for\n",
    "く\n",
    "C\n",
    "Markdown\n",
    "Run\n",
    "in\n",
    "range(N): # range through foodsource\n",
    "Xnew=np. copy (pos [i]) #solution for i foodsource demath. ceil (random. random) *D-1) #choose from 0... D-1 partner=math. ceil(random. random)*N-1) #choose from 0...\n",
    "while(partner==i): #partner must be different from i partner=math. ceil(random. random) *N-1)\n",
    "X=pos [i, d]\n",
    "Xp=pos[partner, d]\n",
    "Xnew[d]=X+(random. uniform(-1, 1) -0.5) 2(X-Xp)\n",
    "#check bounds\n",
    "Xnew=np. clip (Xnew, Lb,Ub)\n",
    "#perform greedy selection fnew=fun (np. expand\n",
    "dims (Xnew, axis=0))\n",
    "if (fnew<fx[i]): #x defined above\n",
    "pos [i]=Xnew\n",
    "fx[i]=fnew\n",
    "trial[il=0\n",
    "else:\n",
    "trial［i］=trial［i］+1"
   ]
  },
  {
   "cell_type": "markdown",
   "metadata": {},
   "source": [
    "### Onlooker Bee Phase"
   ]
  },
  {
   "cell_type": "code",
   "execution_count": null,
   "metadata": {},
   "outputs": [],
   "source": [
    "#prob = find the probability based on fx\n",
    "#your code here\n",
    "\n",
    "\n",
    "for i in range(N):\n",
    "    if(random.random()<prob[i]):\n",
    "        \n",
    "        #repeat all code in Employed Bee Phase\n",
    "        #your code here\n",
    "        \n",
    "\n"
   ]
  },
  {
   "cell_type": "markdown",
   "metadata": {},
   "source": [
    "### Put all together in a Loop"
   ]
  },
  {
   "cell_type": "code",
   "execution_count": 36,
   "metadata": {},
   "outputs": [
    {
     "name": "stdout",
     "output_type": "stream",
     "text": [
      "[-2.62915845 -3.30570308]\n",
      "-6.332199397610745\n"
     ]
    }
   ],
   "source": [
    "#parameters redefined here again\n",
    "#your code\n",
    "\n",
    "\n",
    "#this is an array that stores the best Bee and Function value\n",
    "Xbest=np.zeros((max_iter,D))\n",
    "Fbest=np.zeros(max_iter)\n",
    "\n",
    "for it in range(max_iter):\n",
    "    \n",
    "    #init population\n",
    "    #your code\n",
    "        \n",
    "    fx=fun(pos)\n",
    "    \n",
    "    #employe Bee Phase\n",
    "    #your code\n",
    "\n",
    "    prob=fx/np.sum(fx)\n",
    "    \n",
    "    #Onlooker Bee Phase\n",
    "    #your code\n",
    "        \n",
    "\n",
    "    #get the best value\n",
    "    fxval=np.min(fx)\n",
    "    fxind=np.argmin(fx)\n",
    "    \n",
    "    #save the best value in an array\n",
    "    Xbest[it]=pos[fxind] #best X\n",
    "    Fbest[it]=fxval #function best\n",
    "\n",
    "\n",
    "#get the best value for all the iterations\n",
    "print(Xbest[np.argmin(Fbest)])\n",
    "print(np.min(Fbest))\n"
   ]
  },
  {
   "cell_type": "markdown",
   "metadata": {},
   "source": [
    "## Exercise\n",
    "\n",
    "Apply the ABC algorithm to the rastrigin-2 and rastrigin-4 function"
   ]
  },
  {
   "cell_type": "code",
   "execution_count": null,
   "metadata": {},
   "outputs": [],
   "source": []
  }
 ],
 "metadata": {
  "kernelspec": {
   "display_name": "Python 3",
   "language": "python",
   "name": "python3"
  },
  "language_info": {
   "codemirror_mode": {
    "name": "ipython",
    "version": 3
   },
   "file_extension": ".py",
   "mimetype": "text/x-python",
   "name": "python",
   "nbconvert_exporter": "python",
   "pygments_lexer": "ipython3",
   "version": "3.8.18"
  }
 },
 "nbformat": 4,
 "nbformat_minor": 4
}
