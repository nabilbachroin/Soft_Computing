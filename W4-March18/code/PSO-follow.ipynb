{
 "cells": [
  {
   "cell_type": "markdown",
   "metadata": {},
   "source": [
    "### Code accompanying Lecture on PSO coding\n",
    "\n",
    "Follow this with the lectures notes. \n",
    "You can change the code and data to see the effects. This will help you understand the code."
   ]
  },
  {
   "cell_type": "code",
   "execution_count": null,
   "metadata": {},
   "outputs": [],
   "source": [
    "import numpy as np\n",
    "import random\n",
    "import math"
   ]
  },
  {
   "cell_type": "code",
   "execution_count": null,
   "metadata": {},
   "outputs": [],
   "source": [
    "D=2 # number of dimensions of variable\n",
    "N=3 # number of particles\n",
    "wmax=0.9 #inertia weight max\n",
    "wmin=0.4 #inertia weight min\n",
    "c1=2.05 #acceleration factor for first dimension\n",
    "c2=2.05 #acceleration factor for 2nd dimension\n",
    "max_iter=3 # number of iteration (loop)"
   ]
  },
  {
   "cell_type": "code",
   "execution_count": null,
   "metadata": {},
   "outputs": [],
   "source": [
    "X=np.random.rand(3,2)\n",
    "print(X,end=\"\\n\\n\")\n",
    "print(X[:,0])\n",
    "print(X[:,1])"
   ]
  },
  {
   "cell_type": "code",
   "execution_count": null,
   "metadata": {},
   "outputs": [],
   "source": [
    "def fun(X): #X is shape(N,D)\n",
    "    x1=X[:,0]\n",
    "    x2=X[:,1]\n",
    "    \n",
    "    out=np.power(x1,2)-x1*x2+np.power(x2,2)+2*(x1)+4*x2+3\n",
    "    return out\n",
    "fun(X)"
   ]
  },
  {
   "cell_type": "code",
   "execution_count": null,
   "metadata": {},
   "outputs": [],
   "source": [
    "pos=np.zeros((N,D))\n",
    "pos"
   ]
  },
  {
   "cell_type": "code",
   "execution_count": null,
   "metadata": {},
   "outputs": [],
   "source": [
    "Lb=-5*np.ones(D) # Lower bounds\n",
    "Lb"
   ]
  },
  {
   "cell_type": "code",
   "execution_count": null,
   "metadata": {},
   "outputs": [],
   "source": [
    "Ub=5*np.ones(D) # Upper bounds\n",
    "Ub"
   ]
  },
  {
   "cell_type": "code",
   "execution_count": null,
   "metadata": {},
   "outputs": [],
   "source": [
    "i=0 # we initialize the first particles\n",
    "for j in range(D):\n",
    "        pos[i,j]=Lb[j]+(Ub[j]-Lb[j])*np.random.random();\n",
    "pos"
   ]
  },
  {
   "cell_type": "code",
   "execution_count": null,
   "metadata": {},
   "outputs": [],
   "source": [
    "for i in range(N):\n",
    "    for j in range(D):\n",
    "        pos[i,j]=Lb[j]+(Ub[j]-Lb[j])*np.random.random();\n",
    "pos"
   ]
  },
  {
   "cell_type": "code",
   "execution_count": null,
   "metadata": {},
   "outputs": [],
   "source": [
    "# init phase \n",
    "out=np.zeros(N)\n",
    "out=fun(pos)\n",
    "out"
   ]
  },
  {
   "cell_type": "code",
   "execution_count": null,
   "metadata": {},
   "outputs": [],
   "source": [
    "#direct assignment only copy references not values\n",
    "Z=np.array([1,2])\n",
    "C=Z\n",
    "print('Orig C',C)\n",
    "C[0]=99\n",
    "print('C',C)\n",
    "print('Z',Z) # Z also change "
   ]
  },
  {
   "cell_type": "code",
   "execution_count": null,
   "metadata": {},
   "outputs": [],
   "source": [
    "pbestval=np.copy(out)\n",
    "pbest=np.copy(pos)"
   ]
  },
  {
   "cell_type": "code",
   "execution_count": null,
   "metadata": {},
   "outputs": [],
   "source": [
    "fminval=np.min(out)\n",
    "print(out)\n",
    "print(fminval)"
   ]
  },
  {
   "cell_type": "code",
   "execution_count": null,
   "metadata": {},
   "outputs": [],
   "source": [
    "index=np.argmin(out, axis=0)\n",
    "index"
   ]
  },
  {
   "cell_type": "code",
   "execution_count": null,
   "metadata": {},
   "outputs": [],
   "source": [
    "print('pbest\\n',pbest)\n",
    "gbest=pbest[index]\n",
    "print('\\n')\n",
    "print('out',out,index)\n",
    "print(gbest, fminval)"
   ]
  },
  {
   "cell_type": "code",
   "execution_count": null,
   "metadata": {},
   "outputs": [],
   "source": [
    "import matplotlib.pyplot as plt\n",
    "%matplotlib notebook\n",
    "ax = plt.axes(projection='3d')\n",
    "ax.scatter3D(pbest[:,1], pbest[:,0], out, c=out, cmap='plasma');"
   ]
  },
  {
   "cell_type": "code",
   "execution_count": null,
   "metadata": {},
   "outputs": [],
   "source": [
    "out[0]=0 #hardcode one value\n",
    "pbestval[0]=1\n",
    "print(pbestval)\n",
    "print(out)\n",
    "arr=np.where(out<pbestval)\n",
    "pbest[arr]=np.copy(pos[arr])\n",
    "pbestval[arr]=np.copy(out[arr])\n",
    "print(arr)\n",
    "print()\n",
    "print(pbest)\n",
    "print(pos)"
   ]
  },
  {
   "cell_type": "code",
   "execution_count": null,
   "metadata": {},
   "outputs": [],
   "source": [
    "prev=np.array([1,2,3,4,5])\n",
    "curr=np.array([2,3,1,3,2])\n",
    "arr=np.where(prev<curr)\n",
    "print(arr)"
   ]
  },
  {
   "cell_type": "code",
   "execution_count": null,
   "metadata": {},
   "outputs": [],
   "source": [
    "curr[arr]=prev[arr]\n",
    "print(curr)"
   ]
  },
  {
   "cell_type": "code",
   "execution_count": null,
   "metadata": {},
   "outputs": [],
   "source": [
    "#update gbest values\n",
    "fbestval=np.min(pbestval)\n",
    "ind1=np.argmin(pbestval)\n",
    "if(fbestval<=fminval):\n",
    "    fminvalue=fbestval\n",
    "    gbest=pbest[ind1]\n",
    "print(pbestval)\n",
    "print(fbestval)\n",
    "print(ind1)"
   ]
  },
  {
   "cell_type": "code",
   "execution_count": null,
   "metadata": {},
   "outputs": [],
   "source": [
    "#initialise velocity with a fraction of the position vector\n",
    "vel=0.1*pos"
   ]
  },
  {
   "cell_type": "code",
   "execution_count": null,
   "metadata": {},
   "outputs": [],
   "source": [
    "print(vel)\n",
    "print(pos)"
   ]
  },
  {
   "cell_type": "markdown",
   "metadata": {},
   "source": [
    "### Updating the Vel and Pos\n",
    "\n",
    "Here we update  1 particle and 1 dimension at a time"
   ]
  },
  {
   "cell_type": "code",
   "execution_count": null,
   "metadata": {},
   "outputs": [],
   "source": [
    "w=0.6\n",
    "vel=0.1*pos\n",
    "c1=2.05 # acceleration factor\n",
    "c2=2.05 # acceleration factor\n",
    "\n",
    "#update velocity for 1 particle, 1st dimension\n",
    "i,j=0,0\n",
    "vel[i,j]=w*vel[i,j]+c1*np.random.random()*(pbest[i,j]-pos[i,j])+\\\n",
    "                    c2*np.random.random()*(gbest[j]-pos[i,j])\n",
    "#update position\n",
    "pos[i,j]=vel[i,j]+pos[i,j]\n",
    "print(vel)\n",
    "print(pos)"
   ]
  },
  {
   "cell_type": "code",
   "execution_count": null,
   "metadata": {},
   "outputs": [],
   "source": [
    "#update velocity for 1 particle, 2nd dimension\n",
    "i,j=0,1\n",
    "vel[i,j]=w*vel[i,j]+c1*np.random.random()*(pbest[i,j]-pos[i,j])+\\\n",
    "                    c2*np.random.random()*(gbest[j]-pos[i,j])\n",
    "#update position\n",
    "pos[i,j]=vel[i,j]+pos[i,j]\n",
    "print(vel)\n",
    "print(pos)"
   ]
  },
  {
   "cell_type": "code",
   "execution_count": null,
   "metadata": {},
   "outputs": [],
   "source": [
    "#update velocity and position phase \n",
    "for i in range(N):\n",
    "    for j in range(D):\n",
    "        vel[i,j]=w*vel[i,j]+c1*np.random.random()*(pbest[i,j]-pos[i,j])+\\\n",
    "                c2*np.random.random()*(gbest[j]-pos[i,j])\n",
    "        #update position\n",
    "        pos[i,j]=vel[i,j]+pos[i,j]\n",
    "        #check bounds\n",
    "        if(pos[i,j]<Lb[j]):\n",
    "            pos[i,j]=Lb[j]\n",
    "        elif (pos[i,j]>Ub[j]):\n",
    "            pos[i,j]=Ub[j]"
   ]
  },
  {
   "cell_type": "code",
   "execution_count": null,
   "metadata": {},
   "outputs": [],
   "source": [
    "out=fun(pos)\n",
    "%matplotlib notebook\n",
    "ax = plt.axes(projection='3d')\n",
    "ax.scatter3D(pos[:,1], pos[:,0], out, c=out, cmap='plasma');\n"
   ]
  },
  {
   "cell_type": "code",
   "execution_count": null,
   "metadata": {},
   "outputs": [],
   "source": [
    "print(gbest)\n",
    "print(np.expand_dims(gbest, axis=0))"
   ]
  },
  {
   "cell_type": "markdown",
   "metadata": {},
   "source": [
    "Overall concept of loops for storing current best value. We are going to work on a simple example. \n",
    "\n",
    "We loop a number of times and keep track of the largest random number generated."
   ]
  },
  {
   "cell_type": "code",
   "execution_count": null,
   "metadata": {},
   "outputs": [],
   "source": [
    "it_max=5 # loop max times \n",
    "gbest=0 #init first\n",
    "it=0 #keep count of how many iteration\n",
    "while it<it_max:\n",
    "    #we generate a random number\n",
    "    r=np.random.random()\n",
    "    print(r)\n",
    "    if(r>gbest):\n",
    "        gbest=r #update if it is better\n",
    "        print('new r is better.\\n Store it: gbest=',gbest)\n",
    "    \n",
    "    it=it+1\n",
    "print('gbest',gbest)"
   ]
  },
  {
   "cell_type": "markdown",
   "metadata": {},
   "source": [
    "In PSO instead of updating the a random number, we have an vel and pos updating formula."
   ]
  },
  {
   "cell_type": "code",
   "execution_count": null,
   "metadata": {},
   "outputs": [],
   "source": [
    "it_max=5 # loop max times \n",
    "gbest=0 #init first\n",
    "it=0 #keep count of how many iteration\n",
    "v=0 #store an initial value\n",
    "p=0\n",
    "def funx(x):\n",
    "    return x/2\n",
    "while it<it_max:\n",
    "    r=funx(p)\n",
    "    #update formula -\n",
    "    v=v+np.random.random()\n",
    "    p=p+v\n",
    "    print(r)\n",
    "    if(r<gbest):\n",
    "        gbest=r #update if it is better\n",
    "        print('new r is better.\\n Store it: gbest=',gbest)\n",
    "    \n",
    "    it=it+1\n",
    "print('gbest',gbest)"
   ]
  },
  {
   "cell_type": "code",
   "execution_count": null,
   "metadata": {},
   "outputs": [],
   "source": []
  }
 ],
 "metadata": {
  "kernelspec": {
   "display_name": "Python 3",
   "language": "python",
   "name": "python3"
  },
  "language_info": {
   "codemirror_mode": {
    "name": "ipython",
    "version": 3
   },
   "file_extension": ".py",
   "mimetype": "text/x-python",
   "name": "python",
   "nbconvert_exporter": "python",
   "pygments_lexer": "ipython3",
   "version": "3.8.3"
  }
 },
 "nbformat": 4,
 "nbformat_minor": 4
}
