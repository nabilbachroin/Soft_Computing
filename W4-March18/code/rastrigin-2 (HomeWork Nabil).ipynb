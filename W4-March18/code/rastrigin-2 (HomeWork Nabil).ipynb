{
 "cells": [
  {
   "cell_type": "markdown",
   "metadata": {},
   "source": [
    "## Rastrigin Function\n",
    "\n",
    "In mathematical optimization, the Rastrigin function is a non-convex function used as a performance test problem for optimization algorithms. It is a typical example of non-linear multimodal function. It was first proposed in 1974 by Rastrigin as a 2-dimensional function and has been generalized by Rudolph. Finding the minimum of this function is a fairly difficult problem due to its large search space and its large number of local minima.[wiki]"
   ]
  },
  {
   "cell_type": "code",
   "execution_count": 1,
   "metadata": {},
   "outputs": [],
   "source": [
    "import numpy as np\n",
    "import matplotlib as pltm\n",
    "import matplotlib.pyplot as plt\n",
    "from matplotlib import cm \n",
    "from mpl_toolkits.mplot3d import Axes3D \n",
    "\n",
    "pltm.use('TkAgg')\n",
    "\n",
    "X = np.linspace(-5.12, 5.12, 100)     \n",
    "Y = np.linspace(-5.12, 5.12, 100)     \n",
    "X, Y = np.meshgrid(X, Y) \n",
    "\n",
    "Z = (X**2 - 10 * np.cos(2 * np.pi * X)) + (Y**2 - 10 * np.cos(2 * np.pi * Y)) + 20\n",
    "\n",
    "fig = plt.figure()\n",
    "ax = fig.add_subplot(111, projection='3d')\n",
    "ax.plot_surface(X, Y, Z, rstride=1, cstride=1, cmap=cm.nipy_spectral, linewidth=0.08, antialiased=True)\n",
    "\n",
    "plt.show()\n",
    "\n",
    "#plt.savefig('rastrigin_graph.png')"
   ]
  },
  {
   "cell_type": "markdown",
   "metadata": {},
   "source": [
    "### Homework Assignment\n",
    "\n",
    "Use the Particle Swarm Optimization Algorithm to optimize the Rastrigin Function\n",
    "\n",
    "- 2 dimension\n",
    "- 3 dimension\n",
    "- 4 dimension\n",
    "\n",
    "Run the PSO on the Rastrigin Function. Compile the results in table with different iterations, particles, etc. Repeat the results with different implementations of v, c1 (a),c2 (b) as found in the lecture notes in Optimization_PSO slides. Refer to the lecture slides on example of tables required. Exactly what values to choose will be up to you. The objective is to investigate the effect of the variables and attributes of PSO on optimization of the Rastrigin function in multiple dimensions. \n",
    "\n",
    "Comment on the results.\n",
    "\n",
    "Please submit a PDF/Word file presenting your results, comments and discussion."
   ]
  },
  {
   "cell_type": "markdown",
   "metadata": {},
   "source": [
    "# Nabil Bachroin (M11107814)"
   ]
  },
  {
   "cell_type": "code",
   "execution_count": 2,
   "metadata": {},
   "outputs": [],
   "source": [
    "import numpy as np"
   ]
  },
  {
   "cell_type": "code",
   "execution_count": 3,
   "metadata": {},
   "outputs": [],
   "source": [
    "def rastrigin(x):\n",
    "    A = 10\n",
    "    return A * len(x) + sum([(xi**2 - A * np.cos(2 * np.pi * xi)) for xi in x])"
   ]
  },
  {
   "cell_type": "code",
   "execution_count": 4,
   "metadata": {},
   "outputs": [],
   "source": [
    "class Particle:\n",
    "    def __init__(self, dim):\n",
    "        self.position = np.random.uniform(-5.12, 5.12, dim)\n",
    "        self.velocity = np.random.uniform(-1, 1, dim)\n",
    "        self.best_position = np.copy(self.position)\n",
    "        self.best_value = float('inf')\n",
    "\n",
    "    def update_velocity(self, global_best_position, w, c1, c2):\n",
    "        r1 = np.random.random(self.position.shape)\n",
    "        r2 = np.random.random(self.position.shape)\n",
    "        cognitive_velocity = c1 * r1 * (self.best_position - self.position)\n",
    "        social_velocity = c2 * r2 * (global_best_position - self.position)\n",
    "        self.velocity = w * self.velocity + cognitive_velocity + social_velocity\n",
    "\n",
    "    def update_position(self):\n",
    "        self.position += self.velocity\n",
    "        self.position = np.clip(self.position, -5.12, 5.12)  # Keep within bounds\n"
   ]
  },
  {
   "cell_type": "code",
   "execution_count": 5,
   "metadata": {},
   "outputs": [],
   "source": [
    "def pso(opt_function, dim, num_particles=30, max_iter=100, w=0.5, c1=2.05, c2=2.05):\n",
    "    particles = [Particle(dim) for _ in range(num_particles)]\n",
    "    global_best_value = float('inf')\n",
    "    global_best_position = None\n",
    "    \n",
    "    for it in range(max_iter):\n",
    "        for particle in particles:\n",
    "            fitness_value = opt_function(particle.position)\n",
    "            \n",
    "            if fitness_value < particle.best_value:\n",
    "                particle.best_value = fitness_value\n",
    "                particle.best_position = np.copy(particle.position)\n",
    "                \n",
    "            if fitness_value < global_best_value:\n",
    "                global_best_value = fitness_value\n",
    "                global_best_position = np.copy(particle.position)\n",
    "                \n",
    "        for particle in particles:\n",
    "            ####### Now uses default values for w, c1, and c2 if not given\n",
    "            particle.update_velocity(global_best_position, w, c1, c2)\n",
    "            particle.update_position()\n",
    "            \n",
    "    return global_best_position, global_best_value"
   ]
  },
  {
   "cell_type": "code",
   "execution_count": 6,
   "metadata": {},
   "outputs": [
    {
     "name": "stdout",
     "output_type": "stream",
     "text": [
      "Best Position 2D: [-4.64677126e-09 -8.39518866e-09]\n",
      "Best Value 2D: 1.7763568394002505e-14\n",
      "Best Position 3D: [-7.36117581e-05 -7.68402040e-05 -9.94777108e-01]\n",
      "Best Value 3D: 0.9949678377610454\n",
      "Best Position 4D: [ 1.35061892e-03  6.51002454e-05  1.05889196e-02 -3.12394971e-02]\n",
      "Best Value 4D: 0.21559371243623104\n"
     ]
    }
   ],
   "source": [
    "# 2D\n",
    "best_position_2d, best_value_2d = pso(rastrigin, 2)\n",
    "print(\"Best Position 2D:\", best_position_2d)\n",
    "print(\"Best Value 2D:\", best_value_2d)\n",
    "\n",
    "# 3D\n",
    "best_position_3d, best_value_3d = pso(rastrigin, 3)\n",
    "print(\"Best Position 3D:\", best_position_3d)\n",
    "print(\"Best Value 3D:\", best_value_3d)\n",
    "\n",
    "#  4D\n",
    "best_position_4d, best_value_4d = pso(rastrigin, 4)\n",
    "print(\"Best Position 4D:\", best_position_4d)\n",
    "print(\"Best Value 4D:\", best_value_4d)"
   ]
  },
  {
   "cell_type": "markdown",
   "metadata": {},
   "source": [
    "## Experiments 1\n",
    "With 100 and 200 iterations, 30 and 50 particles, in each dimension. "
   ]
  },
  {
   "cell_type": "code",
   "execution_count": 7,
   "metadata": {},
   "outputs": [],
   "source": [
    "import pandas as pd"
   ]
  },
  {
   "cell_type": "code",
   "execution_count": 8,
   "metadata": {},
   "outputs": [],
   "source": [
    "def run_experiments(dimensions, experiments, pso_func):\n",
    "    results = []\n",
    "    for exp in experiments:\n",
    "        _, best_value = pso_func(rastrigin, dim=dimensions, num_particles=exp['particles'], max_iter=exp['iterations'])\n",
    "        results.append({\n",
    "            'Dimensions': dimensions,\n",
    "            'Particles': exp['particles'],\n",
    "            'Iterations': exp['iterations'],\n",
    "            'Best Value': best_value\n",
    "        })\n",
    "    return pd.DataFrame(results)"
   ]
  },
  {
   "cell_type": "code",
   "execution_count": 14,
   "metadata": {},
   "outputs": [
    {
     "name": "stdout",
     "output_type": "stream",
     "text": [
      "Results for 2D:\n",
      " Dimensions  Particles  Iterations   Best Value\n",
      "          2         30         100 5.649525e-11\n",
      "          2         50         100 5.329071e-13\n",
      "          2         30         250 0.000000e+00\n",
      "          2         50         250 0.000000e+00\n",
      "\n",
      "Results for 3D:\n",
      " Dimensions  Particles  Iterations   Best Value\n",
      "          3         30         100 3.195693e-01\n",
      "          3         50         100 4.282433e-07\n",
      "          3         30         250 0.000000e+00\n",
      "          3         50         250 0.000000e+00\n",
      "\n",
      "Results for 4D:\n",
      " Dimensions  Particles  Iterations   Best Value\n",
      "          4         30         100 4.058103e-04\n",
      "          4         50         100 9.952837e-01\n",
      "          4         30         250 7.958079e-13\n",
      "          4         50         250 0.000000e+00\n"
     ]
    }
   ],
   "source": [
    "####### Config\n",
    "experiments_config = [\n",
    "    {'particles': 30, 'iterations': 100},\n",
    "    {'particles': 50, 'iterations': 100},\n",
    "    {'particles': 30, 'iterations': 250},\n",
    "    {'particles': 50, 'iterations': 250},\n",
    "]\n",
    "\n",
    "####### Run\n",
    "results_2d = run_experiments(2, experiments_config, pso)\n",
    "results_3d = run_experiments(3, experiments_config, pso)\n",
    "results_4d = run_experiments(4, experiments_config, pso)\n",
    "\n",
    "####### Result\n",
    "print(\"Results for 2D:\")\n",
    "print(results_2d.to_string(index=False))\n",
    "print(\"\\nResults for 3D:\")\n",
    "print(results_3d.to_string(index=False))\n",
    "print(\"\\nResults for 4D:\")\n",
    "print(results_4d.to_string(index=False))"
   ]
  },
  {
   "cell_type": "markdown",
   "metadata": {},
   "source": [
    "## Experiments 2\n",
    "With 100 and 200 iterations, 30 and 50 particles, in each dimension. \n",
    "\n",
    "The inertia weight (w), cognitive acceleration factor (c1), and social acceleration factor (c2) become dynamic."
   ]
  },
  {
   "cell_type": "code",
   "execution_count": 15,
   "metadata": {},
   "outputs": [],
   "source": [
    "def pso_dynamic_params(opt_function, dim, num_particles=30, max_iter=100, w_start=0.9, w_end=0.4, c1_start=1.5, c1_end=2.5, c2_start=1.5, c2_end=2.5):\n",
    "    particles = [Particle(dim) for _ in range(num_particles)]\n",
    "    global_best_value = float('inf')\n",
    "    global_best_position = None\n",
    "    \n",
    "    for it in range(max_iter):\n",
    "        ####### Dynamically adapt parameters\n",
    "        w = w_start - (w_start - w_end) * (it / max_iter)\n",
    "        c1 = c1_start + (c1_end - c1_start) * (it / max_iter)\n",
    "        c2 = c2_start + (c2_end - c2_start) * (it / max_iter)\n",
    "        \n",
    "        for particle in particles:\n",
    "            fitness_value = opt_function(particle.position)\n",
    "            \n",
    "            if fitness_value < particle.best_value:\n",
    "                particle.best_value = fitness_value\n",
    "                particle.best_position = np.copy(particle.position)\n",
    "                \n",
    "            if fitness_value < global_best_value:\n",
    "                global_best_value = fitness_value\n",
    "                global_best_position = np.copy(particle.position)\n",
    "                \n",
    "        for particle in particles:\n",
    "            particle.update_velocity(global_best_position, w, c1, c2)\n",
    "            particle.update_position()\n",
    "            \n",
    "    return global_best_position, global_best_value"
   ]
  },
  {
   "cell_type": "code",
   "execution_count": 16,
   "metadata": {},
   "outputs": [
    {
     "name": "stdout",
     "output_type": "stream",
     "text": [
      "Dynamic Params Results for 2D:\n",
      " Dimensions  Particles  Iterations   Best Value\n",
      "          2         30         100 2.884665e-06\n",
      "          2         50         100 1.041603e-07\n",
      "          2         30         250 0.000000e+00\n",
      "          2         50         250 0.000000e+00\n",
      "\n",
      "Dynamic Params Results for 3D:\n",
      " Dimensions  Particles  Iterations   Best Value\n",
      "          3         30         100 1.560659e+00\n",
      "          3         50         100 1.070602e-04\n",
      "          3         30         250 6.806999e-12\n",
      "          3         50         250 3.435474e-11\n",
      "\n",
      "Dynamic Params Results for 4D:\n",
      " Dimensions  Particles  Iterations  Best Value\n",
      "          4         30         100    2.011289\n",
      "          4         50         100    1.333124\n",
      "          4         30         250    0.995080\n",
      "          4         50         250    0.041595\n"
     ]
    }
   ],
   "source": [
    "####### Config\n",
    "experiments_config_dynamic = [\n",
    "    {'particles': 30, 'iterations': 100},\n",
    "    {'particles': 50, 'iterations': 100},\n",
    "    {'particles': 30, 'iterations': 250},\n",
    "    {'particles': 50, 'iterations': 250},\n",
    "]\n",
    "\n",
    "####### Run\n",
    "results_2d_dynamic = run_experiments(2, experiments_config_dynamic, pso_dynamic_params)\n",
    "results_3d_dynamic = run_experiments(3, experiments_config_dynamic, pso_dynamic_params)\n",
    "results_4d_dynamic = run_experiments(4, experiments_config_dynamic, pso_dynamic_params)\n",
    "\n",
    "####### Result\n",
    "print(\"Dynamic Params Results for 2D:\")\n",
    "print(results_2d_dynamic.to_string(index=False))\n",
    "print(\"\\nDynamic Params Results for 3D:\")\n",
    "print(results_3d_dynamic.to_string(index=False))\n",
    "print(\"\\nDynamic Params Results for 4D:\")\n",
    "print(results_4d_dynamic.to_string(index=False))\n"
   ]
  },
  {
   "cell_type": "code",
   "execution_count": null,
   "metadata": {},
   "outputs": [],
   "source": []
  }
 ],
 "metadata": {
  "kernelspec": {
   "display_name": "Python 3",
   "language": "python",
   "name": "python3"
  },
  "language_info": {
   "codemirror_mode": {
    "name": "ipython",
    "version": 3
   },
   "file_extension": ".py",
   "mimetype": "text/x-python",
   "name": "python",
   "nbconvert_exporter": "python",
   "pygments_lexer": "ipython3",
   "version": "3.8.18"
  }
 },
 "nbformat": 4,
 "nbformat_minor": 4
}
