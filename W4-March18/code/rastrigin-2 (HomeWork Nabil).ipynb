{
 "cells": [
  {
   "cell_type": "markdown",
   "metadata": {},
   "source": [
    "## Rastrigin Function\n",
    "\n",
    "In mathematical optimization, the Rastrigin function is a non-convex function used as a performance test problem for optimization algorithms. It is a typical example of non-linear multimodal function. It was first proposed in 1974 by Rastrigin as a 2-dimensional function and has been generalized by Rudolph. Finding the minimum of this function is a fairly difficult problem due to its large search space and its large number of local minima.[wiki]"
   ]
  },
  {
   "cell_type": "code",
   "execution_count": 1,
   "metadata": {},
   "outputs": [],
   "source": [
    "import numpy as np\n",
    "import matplotlib as pltm\n",
    "import matplotlib.pyplot as plt\n",
    "from matplotlib import cm \n",
    "from mpl_toolkits.mplot3d import Axes3D \n",
    "\n",
    "pltm.use('TkAgg')\n",
    "\n",
    "X = np.linspace(-5.12, 5.12, 100)     \n",
    "Y = np.linspace(-5.12, 5.12, 100)     \n",
    "X, Y = np.meshgrid(X, Y) \n",
    "\n",
    "Z = (X**2 - 10 * np.cos(2 * np.pi * X)) + (Y**2 - 10 * np.cos(2 * np.pi * Y)) + 20\n",
    "\n",
    "fig = plt.figure()\n",
    "ax = fig.add_subplot(111, projection='3d')\n",
    "ax.plot_surface(X, Y, Z, rstride=1, cstride=1, cmap=cm.nipy_spectral, linewidth=0.08, antialiased=True)\n",
    "\n",
    "plt.show()\n",
    "\n",
    "#plt.savefig('rastrigin_graph.png')"
   ]
  },
  {
   "cell_type": "markdown",
   "metadata": {},
   "source": [
    "### Homework Assignment\n",
    "\n",
    "Use the Particle Swarm Optimization Algorithm to optimize the Rastrigin Function\n",
    "\n",
    "- 2 dimension\n",
    "- 3 dimension\n",
    "- 4 dimension\n",
    "\n",
    "Run the PSO on the Rastrigin Function. Compile the results in table with different iterations, particles, etc. Repeat the results with different implementations of v, c1 (a),c2 (b) as found in the lecture notes in Optimization_PSO slides. Refer to the lecture slides on example of tables required. Exactly what values to choose will be up to you. The objective is to investigate the effect of the variables and attributes of PSO on optimization of the Rastrigin function in multiple dimensions. \n",
    "\n",
    "Comment on the results.\n",
    "\n",
    "Please submit a PDF/Word file presenting your results, comments and discussion."
   ]
  },
  {
   "cell_type": "markdown",
   "metadata": {},
   "source": [
    "# Nabil Bachroin (M11107814)"
   ]
  },
  {
   "cell_type": "code",
   "execution_count": 2,
   "metadata": {},
   "outputs": [],
   "source": [
    "import numpy as np\n",
    "import pandas as pd"
   ]
  },
  {
   "cell_type": "code",
   "execution_count": 3,
   "metadata": {},
   "outputs": [],
   "source": [
    "def rastrigin(x):\n",
    "    A = 10\n",
    "    return A * len(x) + sum([(xi**2 - A * np.cos(2 * np.pi * xi)) for xi in x])"
   ]
  },
  {
   "cell_type": "code",
   "execution_count": 4,
   "metadata": {},
   "outputs": [],
   "source": [
    "class Particle:\n",
    "    def __init__(self, dim):\n",
    "        self.position = np.random.uniform(-5.12, 5.12, dim)\n",
    "        self.velocity = np.random.uniform(-1, 1, dim)\n",
    "        self.best_position = np.copy(self.position)\n",
    "        self.best_value = float('inf')\n",
    "\n",
    "    def update_velocity(self, global_best_position, w, c1, c2):\n",
    "        r1 = np.random.random(self.position.shape)\n",
    "        r2 = np.random.random(self.position.shape)\n",
    "        cognitive_velocity = c1 * r1 * (self.best_position - self.position)\n",
    "        social_velocity = c2 * r2 * (global_best_position - self.position)\n",
    "        self.velocity = w * self.velocity + cognitive_velocity + social_velocity\n",
    "\n",
    "    def update_position(self):\n",
    "        self.position += self.velocity\n",
    "        self.position = np.clip(self.position, -5.12, 5.12)  # Keep within bounds"
   ]
  },
  {
   "cell_type": "code",
   "execution_count": 5,
   "metadata": {},
   "outputs": [],
   "source": [
    "def pso(opt_function, dim, num_particles=30, max_iter=100, w=0.5, c1=2.05, c2=2.05):\n",
    "    particles = [Particle(dim) for _ in range(num_particles)]\n",
    "    global_best_value = float('inf')\n",
    "    global_best_position = None\n",
    "    best_position_history = []\n",
    "    \n",
    "    for it in range(max_iter):\n",
    "        for particle in particles:\n",
    "            fitness_value = opt_function(particle.position)\n",
    "            \n",
    "            if fitness_value < particle.best_value:\n",
    "                particle.best_value = fitness_value\n",
    "                particle.best_position = np.copy(particle.position)\n",
    "                \n",
    "            if fitness_value < global_best_value:\n",
    "                global_best_value = fitness_value\n",
    "                global_best_position = np.copy(particle.position)\n",
    "                \n",
    "        best_position_history.append(np.copy(global_best_position))\n",
    "        \n",
    "        for particle in particles:\n",
    "            particle.update_velocity(global_best_position, w, c1, c2)\n",
    "            particle.update_position()\n",
    "            \n",
    "    return global_best_position, global_best_value, best_position_history"
   ]
  },
  {
   "cell_type": "code",
   "execution_count": 6,
   "metadata": {},
   "outputs": [
    {
     "name": "stdout",
     "output_type": "stream",
     "text": [
      "Best Position 2D: [-4.16905316e-08 -1.34823315e-08]\n",
      "Best Value 2D: 3.801403636316536e-13\n",
      "Best Position 3D: [ 9.94945823e-01 -4.96059683e-05  5.48142395e-06]\n",
      "Best Value 3D: 0.9949595838115073\n",
      "Best Position 4D: [-0.01894698  0.017701    0.99393144 -1.02540053]\n",
      "Best Value 4D: 2.306933410666119\n"
     ]
    }
   ],
   "source": [
    "# 2D\n",
    "best_position_2d, best_value_2d, best_position_history_2d = pso(rastrigin, 2)\n",
    "print(\"Best Position 2D:\", best_position_2d)\n",
    "print(\"Best Value 2D:\", best_value_2d)\n",
    "\n",
    "# 3D\n",
    "best_position_3d, best_value_3d, best_position_history_3d = pso(rastrigin, 3)\n",
    "print(\"Best Position 3D:\", best_position_3d)\n",
    "print(\"Best Value 3D:\", best_value_3d)\n",
    "\n",
    "# 4D\n",
    "best_position_4d, best_value_4d, best_position_history_4d = pso(rastrigin, 4)\n",
    "print(\"Best Position 4D:\", best_position_4d)\n",
    "print(\"Best Value 4D:\", best_value_4d)"
   ]
  },
  {
   "cell_type": "markdown",
   "metadata": {},
   "source": [
    "## Experiments 1\n",
    "With 100 and 200 iterations, 30 and 50 particles, in each dimension. "
   ]
  },
  {
   "cell_type": "code",
   "execution_count": 7,
   "metadata": {},
   "outputs": [],
   "source": [
    "def run_experiment_and_visualize(dim, pso_func, config):\n",
    "    results = {}\n",
    "    for exp_config in config:\n",
    "        particles = exp_config['particles']\n",
    "        iterations = exp_config['iterations']\n",
    "        key = f\"{particles} particles, {iterations} iterations\"\n",
    "        best_pos, best_val, best_pos_history = pso_func(rastrigin, dim, num_particles=particles, max_iter=iterations)\n",
    "        results[key] = {\n",
    "            \"best_position\": best_pos,\n",
    "            \"best_value\": best_val,\n",
    "            \"best_position_history\": best_pos_history\n",
    "        }\n",
    "    return results"
   ]
  },
  {
   "cell_type": "code",
   "execution_count": 8,
   "metadata": {},
   "outputs": [],
   "source": [
    "####### Config\n",
    "experiments_config = [\n",
    "    {'particles': 30, 'iterations': 100},\n",
    "    {'particles': 50, 'iterations': 100},\n",
    "    {'particles': 30, 'iterations': 250},\n",
    "    {'particles': 50, 'iterations': 250},\n",
    "]\n",
    "\n",
    "####### Run\n",
    "results_2d = run_experiment_and_visualize(2, pso, experiments_config)\n",
    "results_3d = run_experiment_and_visualize(3, pso, experiments_config)\n",
    "results_4d = run_experiment_and_visualize(4, pso, experiments_config)"
   ]
  },
  {
   "cell_type": "code",
   "execution_count": 9,
   "metadata": {},
   "outputs": [],
   "source": [
    "def extract_and_format_results(results):\n",
    "    data_list = []\n",
    "    \n",
    "    for key, value in results.items():\n",
    "        parts = key.split(', ')\n",
    "        particles, iterations = parts[0].split(' ')[0], parts[1].split(' ')[0]\n",
    "        \n",
    "        if isinstance(value['best_position'], str):\n",
    "            best_position_str = value['best_position']\n",
    "        else:\n",
    "            best_position_str = np.array2string(value['best_position'], precision=5, separator=',', suppress_small=True)\n",
    "        \n",
    "        best_value_str = f\"{value['best_value']:.2e}\"\n",
    "        \n",
    "        data_list.append({\n",
    "            'Particles': particles,\n",
    "            'Iterations': iterations,\n",
    "            'Best Position': best_position_str,\n",
    "            'Best Value': best_value_str\n",
    "        })\n",
    "    \n",
    "    formatted_df = pd.DataFrame(data_list)\n",
    "    return formatted_df"
   ]
  },
  {
   "cell_type": "code",
   "execution_count": 10,
   "metadata": {},
   "outputs": [
    {
     "name": "stdout",
     "output_type": "stream",
     "text": [
      "Results for 2D:\n",
      "  Particles Iterations Best Position Best Value\n",
      "0        30        100     [-0.,-0.]   8.62e-11\n",
      "1        50        100     [-0., 0.]   0.00e+00\n",
      "2        30        250     [-0., 0.]   0.00e+00\n",
      "3        50        250     [-0.,-0.]   0.00e+00\n",
      "\n",
      "Results for 3D:\n",
      "  Particles Iterations                 Best Position Best Value\n",
      "0        30        100  [-0.99496,-0.     ,-0.     ]   9.95e-01\n",
      "1        50        100                 [ 0.,-0., 0.]   1.67e-10\n",
      "2        30        250                 [ 0.,-0.,-0.]   0.00e+00\n",
      "3        50        250                 [ 0.,-0., 0.]   0.00e+00\n",
      "\n",
      "Results for 4D:\n",
      "  Particles Iterations                          Best Position Best Value\n",
      "0        30        100  [-0.99497,-0.00007,-0.     ,-0.00005]   9.95e-01\n",
      "1        50        100      [1.00194,0.0061 ,0.01862,0.0115 ]   1.11e+00\n",
      "2        30        250                      [-0., 0., 0., 0.]   0.00e+00\n",
      "3        50        250                      [ 0.,-0.,-0.,-0.]   2.11e-12\n"
     ]
    }
   ],
   "source": [
    "formatted_results_2d = extract_and_format_results(results_2d)\n",
    "formatted_results_3d = extract_and_format_results(results_3d)\n",
    "formatted_results_4d = extract_and_format_results(results_4d)\n",
    "\n",
    "###### Print results\n",
    "print(\"Results for 2D:\")\n",
    "print(formatted_results_2d)\n",
    "print(\"\\nResults for 3D:\")\n",
    "print(formatted_results_3d)\n",
    "print(\"\\nResults for 4D:\")\n",
    "print(formatted_results_4d)"
   ]
  },
  {
   "cell_type": "markdown",
   "metadata": {},
   "source": [
    "## Experiments 2\n",
    "With 100 and 200 iterations, 30 and 50 particles, in each dimension. \n",
    "\n",
    "The inertia weight (w), cognitive acceleration factor (c1), and social acceleration factor (c2) become dynamic."
   ]
  },
  {
   "cell_type": "code",
   "execution_count": 11,
   "metadata": {},
   "outputs": [],
   "source": [
    "def run_experiments(dim, config, pso_func):\n",
    "    results = {}\n",
    "    for exp_config in config:\n",
    "        particles = exp_config['particles']\n",
    "        iterations = exp_config['iterations']\n",
    "        key = f\"{particles} particles, {iterations} iterations\"\n",
    "        best_pos, best_val, best_pos_history = pso_func(rastrigin, dim, num_particles=particles, max_iter=iterations)\n",
    "        results[key] = {\n",
    "            \"best_position\": best_pos,\n",
    "            \"best_value\": best_val,\n",
    "            \"best_position_history\": best_pos_history\n",
    "        }\n",
    "    return results"
   ]
  },
  {
   "cell_type": "code",
   "execution_count": 12,
   "metadata": {},
   "outputs": [],
   "source": [
    "def pso_dynamic_params(opt_function, dim, num_particles=30, max_iter=100, w_start=0.9, w_end=0.4, c1_start=1.5, c1_end=2.5, c2_start=1.5, c2_end=2.5):\n",
    "    particles = [Particle(dim) for _ in range(num_particles)]\n",
    "    global_best_value = float('inf')\n",
    "    global_best_position = None\n",
    "    best_position_history = []\n",
    "    \n",
    "    for it in range(max_iter):\n",
    "        w = w_start - (w_start - w_end) * (it / max_iter)\n",
    "        c1 = c1_start + (c1_end - c1_start) * (it / max_iter)\n",
    "        c2 = c2_start + (c2_end - c2_start) * (it / max_iter)\n",
    "        \n",
    "        for particle in particles:\n",
    "            fitness_value = opt_function(particle.position)\n",
    "            \n",
    "            if fitness_value < particle.best_value:\n",
    "                particle.best_value = fitness_value\n",
    "                particle.best_position = np.copy(particle.position)\n",
    "                \n",
    "            if fitness_value < global_best_value:\n",
    "                global_best_value = fitness_value\n",
    "                global_best_position = np.copy(particle.position)\n",
    "                \n",
    "        best_position_history.append(np.copy(global_best_position))\n",
    "        \n",
    "        for particle in particles:\n",
    "            particle.update_velocity(global_best_position, w, c1, c2)\n",
    "            particle.update_position()\n",
    "            \n",
    "    return global_best_position, global_best_value, best_position_history"
   ]
  },
  {
   "cell_type": "code",
   "execution_count": 13,
   "metadata": {},
   "outputs": [],
   "source": [
    "####### Config\n",
    "experiments_config_dynamic = [\n",
    "    {'particles': 30, 'iterations': 100},\n",
    "    {'particles': 50, 'iterations': 100},\n",
    "    {'particles': 30, 'iterations': 250},\n",
    "    {'particles': 50, 'iterations': 250},\n",
    "]"
   ]
  },
  {
   "cell_type": "code",
   "execution_count": 14,
   "metadata": {},
   "outputs": [],
   "source": [
    "def extract_and_format_results(results):\n",
    "    data_list = []\n",
    "    \n",
    "    for key, value in results.items():\n",
    "        parts = key.split(', ')\n",
    "        particles, iterations = parts[0].split(' ')[0], parts[1].split(' ')[0]\n",
    "        \n",
    "        if isinstance(value['best_position'], str):\n",
    "            best_position_str = value['best_position']\n",
    "        else:\n",
    "            best_position_str = np.array2string(value['best_position'], precision=5, separator=',', suppress_small=True)\n",
    "        \n",
    "        best_value_str = f\"{value['best_value']:.2e}\"\n",
    "        \n",
    "        data_list.append({\n",
    "            'Particles': particles,\n",
    "            'Iterations': iterations,\n",
    "            'Best Position': best_position_str,\n",
    "            'Best Value': best_value_str\n",
    "        })\n",
    "    \n",
    "    return pd.DataFrame(data_list)"
   ]
  },
  {
   "cell_type": "code",
   "execution_count": 15,
   "metadata": {},
   "outputs": [
    {
     "name": "stdout",
     "output_type": "stream",
     "text": [
      "Dynamic Params Results for 2D:\n",
      "  Particles Iterations      Best Position Best Value\n",
      "0        30        100            [0.,0.]   2.48e-09\n",
      "1        50        100  [0.00001,0.     ]   9.61e-09\n",
      "2        30        250          [ 0.,-0.]   0.00e+00\n",
      "3        50        250          [-0., 0.]   0.00e+00\n",
      "\n",
      "Dynamic Params Results for 3D:\n",
      "  Particles Iterations                 Best Position Best Value\n",
      "0        30        100     [0.00012,0.00067,0.00151]   5.42e-04\n",
      "1        50        100  [-0.00002,-0.00021,-0.00022]   1.85e-05\n",
      "2        30        250     [0.     ,0.     ,0.00002]   1.13e-07\n",
      "3        50        250                 [-0.,-0.,-0.]   5.89e-09\n",
      "\n",
      "Dynamic Params Results for 4D:\n",
      "  Particles Iterations                          Best Position Best Value\n",
      "0        30        100  [ 0.00671,-0.97156, 1.01699,-0.98817]   3.21e+00\n",
      "1        50        100  [ 0.99436,-0.00068, 0.0023 , 0.00653]   1.00e+00\n",
      "2        30        250  [ 0.00037,-0.00008, 0.00006,-0.0001 ]   3.12e-05\n",
      "3        50        250  [-0.00004,-0.99479,-0.00001,-0.00002]   9.95e-01\n"
     ]
    }
   ],
   "source": [
    "###### Run\n",
    "results_2d_dynamic = run_experiments(2, experiments_config_dynamic, pso_dynamic_params)\n",
    "results_3d_dynamic = run_experiments(3, experiments_config_dynamic, pso_dynamic_params)\n",
    "results_4d_dynamic = run_experiments(4, experiments_config_dynamic, pso_dynamic_params)\n",
    "\n",
    "formatted_results_2d_dynamic = extract_and_format_results(results_2d_dynamic)\n",
    "formatted_results_3d_dynamic = extract_and_format_results(results_3d_dynamic)\n",
    "formatted_results_4d_dynamic = extract_and_format_results(results_4d_dynamic)\n",
    "\n",
    "###### Print results\n",
    "print(\"Dynamic Params Results for 2D:\")\n",
    "print(formatted_results_2d_dynamic)\n",
    "print(\"\\nDynamic Params Results for 3D:\")\n",
    "print(formatted_results_3d_dynamic)\n",
    "print(\"\\nDynamic Params Results for 4D:\")\n",
    "print(formatted_results_4d_dynamic)"
   ]
  },
  {
   "cell_type": "markdown",
   "metadata": {},
   "source": [
    "#### Recap"
   ]
  },
  {
   "cell_type": "code",
   "execution_count": 16,
   "metadata": {},
   "outputs": [
    {
     "name": "stdout",
     "output_type": "stream",
     "text": [
      "Particles Iterations                         Best Position Best Value Dimensions Parameter Type\n",
      "       30        100                               [0.,0.]   2.48e-09         2D        Dynamic\n",
      "       30        100                             [-0.,-0.]   8.62e-11         2D         Static\n",
      "       30        250                             [ 0.,-0.]   0.00e+00         2D        Dynamic\n",
      "       30        250                             [-0., 0.]   0.00e+00         2D         Static\n",
      "       50        100                     [0.00001,0.     ]   9.61e-09         2D        Dynamic\n",
      "       50        100                             [-0., 0.]   0.00e+00         2D         Static\n",
      "       50        250                             [-0., 0.]   0.00e+00         2D        Dynamic\n",
      "       50        250                             [-0.,-0.]   0.00e+00         2D         Static\n",
      "       30        100             [0.00012,0.00067,0.00151]   5.42e-04         3D        Dynamic\n",
      "       30        100          [-0.99496,-0.     ,-0.     ]   9.95e-01         3D         Static\n",
      "       30        250             [0.     ,0.     ,0.00002]   1.13e-07         3D        Dynamic\n",
      "       30        250                         [ 0.,-0.,-0.]   0.00e+00         3D         Static\n",
      "       50        100          [-0.00002,-0.00021,-0.00022]   1.85e-05         3D        Dynamic\n",
      "       50        100                         [ 0.,-0., 0.]   1.67e-10         3D         Static\n",
      "       50        250                         [-0.,-0.,-0.]   5.89e-09         3D        Dynamic\n",
      "       50        250                         [ 0.,-0., 0.]   0.00e+00         3D         Static\n",
      "       30        100 [ 0.00671,-0.97156, 1.01699,-0.98817]   3.21e+00         4D        Dynamic\n",
      "       30        100 [-0.99497,-0.00007,-0.     ,-0.00005]   9.95e-01         4D         Static\n",
      "       30        250 [ 0.00037,-0.00008, 0.00006,-0.0001 ]   3.12e-05         4D        Dynamic\n",
      "       30        250                     [-0., 0., 0., 0.]   0.00e+00         4D         Static\n",
      "       50        100 [ 0.99436,-0.00068, 0.0023 , 0.00653]   1.00e+00         4D        Dynamic\n",
      "       50        100     [1.00194,0.0061 ,0.01862,0.0115 ]   1.11e+00         4D         Static\n",
      "       50        250 [-0.00004,-0.99479,-0.00001,-0.00002]   9.95e-01         4D        Dynamic\n",
      "       50        250                     [ 0.,-0.,-0.,-0.]   2.11e-12         4D         Static\n"
     ]
    }
   ],
   "source": [
    "###### Add Coloumn\n",
    "formatted_results_2d['Dimensions'] = '2D'\n",
    "formatted_results_3d['Dimensions'] = '3D'\n",
    "formatted_results_4d['Dimensions'] = '4D'\n",
    "formatted_results_2d['Parameter Type'] = 'Static'\n",
    "formatted_results_3d['Parameter Type'] = 'Static'\n",
    "formatted_results_4d['Parameter Type'] = 'Static'\n",
    "\n",
    "formatted_results_2d_dynamic['Dimensions'] = '2D'\n",
    "formatted_results_3d_dynamic['Dimensions'] = '3D'\n",
    "formatted_results_4d_dynamic['Dimensions'] = '4D'\n",
    "formatted_results_2d_dynamic['Parameter Type'] = 'Dynamic'\n",
    "formatted_results_3d_dynamic['Parameter Type'] = 'Dynamic'\n",
    "formatted_results_4d_dynamic['Parameter Type'] = 'Dynamic'\n",
    "\n",
    "###### Concat\n",
    "all_results = pd.concat([\n",
    "    formatted_results_2d, formatted_results_3d, formatted_results_4d,\n",
    "    formatted_results_2d_dynamic, formatted_results_3d_dynamic, formatted_results_4d_dynamic\n",
    "], ignore_index=True)\n",
    "\n",
    "\n",
    "all_results_sorted = all_results.sort_values(by=['Dimensions', 'Particles', 'Iterations', 'Parameter Type'])\n",
    "print(all_results_sorted.to_string(index=False))\n"
   ]
  },
  {
   "cell_type": "markdown",
   "metadata": {},
   "source": [
    "### Visualization"
   ]
  },
  {
   "cell_type": "code",
   "execution_count": 17,
   "metadata": {},
   "outputs": [],
   "source": [
    "def rastrigin_2D(X, Y):\n",
    "    A = 10\n",
    "    return A*2 + (X**2 - A * np.cos(2 * np.pi * X)) + (Y**2 - A * np.cos(2 * np.pi * Y))"
   ]
  },
  {
   "cell_type": "code",
   "execution_count": 18,
   "metadata": {},
   "outputs": [],
   "source": [
    "def visualize_rastrigin_best_positions(best_positions_history_static, best_positions_history_dynamic, title=\"\"):\n",
    "    X = np.linspace(-5.12, 5.12, 100)\n",
    "    Y = np.linspace(-5.12, 5.12, 100)\n",
    "    X, Y = np.meshgrid(X, Y)\n",
    "    Z = rastrigin_2D(X, Y)\n",
    "\n",
    "    fig = plt.figure(figsize=(14, 7))\n",
    "\n",
    "    ##### Static parameters plot\n",
    "    ax1 = fig.add_subplot(121, projection='3d')\n",
    "    ax1.plot_surface(X, Y, Z, cmap=cm.viridis, linewidth=0, antialiased=False, alpha=0.5)\n",
    "    ax1.scatter(best_positions_history_static[:,0], best_positions_history_static[:,1], rastrigin_2D(best_positions_history_static[:,0], best_positions_history_static[:,1]), color='r', s=50)\n",
    "    ax1.set_title(f'Static Parameters {title}')\n",
    "    ax1.set_xlabel('X Axis')\n",
    "    ax1.set_ylabel('Y Axis')\n",
    "    ax1.set_zlabel('Z Axis')\n",
    "\n",
    "    ##### Dynamic parameters plot\n",
    "    ax2 = fig.add_subplot(122, projection='3d')\n",
    "    ax2.plot_surface(X, Y, Z, cmap=cm.plasma, linewidth=0, antialiased=False, alpha=0.5)\n",
    "    ax2.scatter(best_positions_history_dynamic[:,0], best_positions_history_dynamic[:,1], rastrigin_2D(best_positions_history_dynamic[:,0], best_positions_history_dynamic[:,1]), color='b', s=50)\n",
    "    ax2.set_title(f'Dynamic Parameters {title}')\n",
    "    ax2.set_xlabel('X Axis')\n",
    "    ax2.set_ylabel('Y Axis')\n",
    "    ax2.set_zlabel('Z Axis')\n",
    "\n",
    "    plt.show()"
   ]
  },
  {
   "cell_type": "code",
   "execution_count": 24,
   "metadata": {},
   "outputs": [],
   "source": [
    "key_static = '30 particles, 100 iterations'\n",
    "key_dynamic = '30 particles, 100 iterations'\n",
    "\n",
    "best_positions_history_static = np.array([history for history in results_2d[key_static]['best_position_history']])\n",
    "best_positions_history_dynamic = np.array([history for history in results_2d_dynamic[key_dynamic]['best_position_history']])\n",
    "\n",
    "visualize_rastrigin_best_positions(best_positions_history_static, best_positions_history_dynamic, title=\"30 Particles, 100 Iterations\")"
   ]
  },
  {
   "cell_type": "code",
   "execution_count": 25,
   "metadata": {},
   "outputs": [],
   "source": [
    "key_static = '50 particles, 100 iterations'\n",
    "key_dynamic = '50 particles, 100 iterations'\n",
    "\n",
    "best_positions_history_static = np.array([history for history in results_2d[key_static]['best_position_history']])\n",
    "best_positions_history_dynamic = np.array([history for history in results_2d_dynamic[key_dynamic]['best_position_history']])\n",
    "\n",
    "visualize_rastrigin_best_positions(best_positions_history_static, best_positions_history_dynamic, title=\"50 Particles, 100 Iterations\")"
   ]
  },
  {
   "cell_type": "code",
   "execution_count": 26,
   "metadata": {},
   "outputs": [],
   "source": [
    "key_static = '30 particles, 250 iterations'\n",
    "key_dynamic = '30 particles, 250 iterations'\n",
    "\n",
    "best_positions_history_static = np.array([history for history in results_2d[key_static]['best_position_history']])\n",
    "best_positions_history_dynamic = np.array([history for history in results_2d_dynamic[key_dynamic]['best_position_history']])\n",
    "\n",
    "visualize_rastrigin_best_positions(best_positions_history_static, best_positions_history_dynamic, title=\"30 Particles, 250 Iterations\")"
   ]
  },
  {
   "cell_type": "code",
   "execution_count": 27,
   "metadata": {},
   "outputs": [],
   "source": [
    "key_static = '50 particles, 250 iterations'\n",
    "key_dynamic = '50 particles, 250 iterations'\n",
    "\n",
    "best_positions_history_static = np.array([history for history in results_2d[key_static]['best_position_history']])\n",
    "best_positions_history_dynamic = np.array([history for history in results_2d_dynamic[key_dynamic]['best_position_history']])\n",
    "\n",
    "visualize_rastrigin_best_positions(best_positions_history_static, best_positions_history_dynamic, title=\"50 Particles, 250 Iterations\")"
   ]
  },
  {
   "cell_type": "markdown",
   "metadata": {},
   "source": [
    "### Done (Bachroin)"
   ]
  }
 ],
 "metadata": {
  "kernelspec": {
   "display_name": "Python 3",
   "language": "python",
   "name": "python3"
  },
  "language_info": {
   "codemirror_mode": {
    "name": "ipython",
    "version": 3
   },
   "file_extension": ".py",
   "mimetype": "text/x-python",
   "name": "python",
   "nbconvert_exporter": "python",
   "pygments_lexer": "ipython3",
   "version": "3.8.18"
  }
 },
 "nbformat": 4,
 "nbformat_minor": 4
}
