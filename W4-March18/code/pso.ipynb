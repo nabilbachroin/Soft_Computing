{
 "cells": [
  {
   "cell_type": "markdown",
   "metadata": {},
   "source": [
    "### Particle swarm optimization (PSO)\n",
    "\n",
    "Particle swarm optimization (PSO)is a computational method that optimizes a problem by iteratively trying to improve a candidate solution with regard to a given measure of quality. It solves a problem by having a population of candidate solutions, here dubbed particles, and moving these particles around in the search-space according to simple mathematical formulae over the particle's position and velocity. Each particle's movement is influenced by its local best known position, but is also guided toward the best known positions in the search-space, which are updated as better positions are found by other particles. This is expected to move the swarm toward the best solutions.\n",
    "\n",
    "PSO is originally attributed to Kennedy, Eberhart and Shi (1995). (WIKI)\n",
    "\n",
    "### Exercise\n",
    "\n",
    "Parts of the code is not complete. It is marked as `##` in the code. You are supposed to fill in those codes."
   ]
  },
  {
   "cell_type": "code",
   "execution_count": 1,
   "metadata": {},
   "outputs": [],
   "source": [
    "import numpy as np\n",
    "import math\n",
    "import random"
   ]
  },
  {
   "cell_type": "markdown",
   "metadata": {},
   "source": [
    "PSO parameters"
   ]
  },
  {
   "cell_type": "code",
   "execution_count": 2,
   "metadata": {},
   "outputs": [],
   "source": [
    "D=3 #dimensions\n",
    "Lb=0*np.ones(D) # Lower bounds\n",
    "Ub=10*np.ones(D) # Upper bounds\n",
    "N=10 #number of particles\n",
    "wmax=0.9 #inertia weight max\n",
    "wmin=0.4 #inertia weight min\n",
    "c1=2.05 # acceleration factor\n",
    "c2=2.05 # acceleration factor\n",
    "max_iter=10"
   ]
  },
  {
   "cell_type": "markdown",
   "metadata": {},
   "source": [
    "#### Objective Function \n",
    "\n",
    "Some simple objective functions. Choose one. For a start choose the first one. "
   ]
  },
  {
   "cell_type": "code",
   "execution_count": 3,
   "metadata": {},
   "outputs": [],
   "source": [
    "#objective function 1\n",
    "D=2 # dimenssion\n",
    "Lb=-5*np.ones(D) # Lower bounds\n",
    "Ub=5*np.ones(D) # Upper bounds\n",
    "\n",
    "def fun(X): #min is -6.3333\n",
    "    x1=X[:,0]\n",
    "    x2=X[:,1]\n",
    "    \n",
    "    out=np.power(x1,2)-x1*x2+np.power(x2,2)+2*(x1)+4*x2+3\n",
    "    return out"
   ]
  },
  {
   "cell_type": "code",
   "execution_count": 4,
   "metadata": {},
   "outputs": [],
   "source": [
    "#alternative function 2\n",
    "\n",
    "D=3\n",
    "Lb=-3*np.ones(D) # Lower bounds\n",
    "Ub=3*np.ones(D) # Upper bounds\n",
    "\n",
    "def fun(X): #min is 0.0 [2 2 2]\n",
    "    x1=X[:,0]\n",
    "    x2=X[:,1]   \n",
    "    x3=X[:,2]   \n",
    "    out=np.power(x1-2,2)+np.power(x2-2,2)+np.power(x3-2,2)\n",
    "    return out"
   ]
  },
  {
   "cell_type": "code",
   "execution_count": 5,
   "metadata": {},
   "outputs": [],
   "source": [
    "#objective function 3\n",
    "\n",
    "D=3\n",
    "Lb=0*np.ones(D) # Lower bounds\n",
    "Ub=10*np.ones(D) # Upper bounds\n",
    "\n",
    "## objective function to minimize with constraints\n",
    "\n",
    "def fun(X):\n",
    "    x1=X[:,0]\n",
    "    x2=X[:,1]\n",
    "    x3=X[:,2]\n",
    "\n",
    "    fx=10*np.power((x1-1),2)+20*x1*x2+np.power((x3-3),2)\n",
    "    con=np.zeros((2,N))\n",
    "    pen=np.zeros(2)\n",
    "    con[0]=x1+x2+x3-5\n",
    "    con[1]=np.power(x1,2)+np.power(x2,2)-x3\n",
    "    for i in range(len(con)):\n",
    "        if(np.all(con[i]==0)):\n",
    "            #print(con[i])\n",
    "            pen[i]=0\n",
    "        else:\n",
    "            #print(con[i])\n",
    "            pen[i]=1\n",
    "    penalty=10000\n",
    "    return fx +penalty*np.sum(pen)"
   ]
  },
  {
   "cell_type": "markdown",
   "metadata": {},
   "source": [
    "### initialize particles"
   ]
  },
  {
   "cell_type": "code",
   "execution_count": 4,
   "metadata": {},
   "outputs": [
    {
     "data": {
      "text/plain": [
       "array([[ 2.43370731, -0.32459242],\n",
       "       [-2.83408753,  0.94548525],\n",
       "       [ 2.09483705,  3.62609364],\n",
       "       [-4.25345041, -4.10072967],\n",
       "       [-3.43132089, -4.65437675],\n",
       "       [-2.53841912, -1.84216409],\n",
       "       [ 1.40667651,  3.01787759],\n",
       "       [ 3.70268664,  1.58103842],\n",
       "       [ 4.03386221,  0.46108149],\n",
       "       [-4.72960817, -3.55737327]])"
      ]
     },
     "execution_count": 4,
     "metadata": {},
     "output_type": "execute_result"
    }
   ],
   "source": [
    "pos=np.zeros((N,D))\n",
    "\n",
    "for i in range(N):\n",
    "    for j in range(D):\n",
    "        pos[i,j]=Lb[j]+(Ub[j]-Lb[j])*np.random.random();\n",
    "vel=0.1*pos\n",
    "pos"
   ]
  },
  {
   "cell_type": "markdown",
   "metadata": {},
   "source": [
    "Evaluate the initial values"
   ]
  },
  {
   "cell_type": "code",
   "execution_count": 5,
   "metadata": {},
   "outputs": [
    {
     "name": "stdout",
     "output_type": "stream",
     "text": [
      "[13.38729939 12.71934838 31.63487068 -4.44424558 -5.01362298 -4.28453898\n",
      " 24.72600982 27.08500798 27.53675166 -2.48959308]\n",
      "[13.38729939 12.71934838 31.63487068 -4.44424558 -5.01362298 -4.28453898\n",
      " 24.72600982 27.08500798 27.53675166 -2.48959308] 4\n",
      "[-3.43132089 -4.65437675] -5.013622979037924\n"
     ]
    }
   ],
   "source": [
    "# initialization\n",
    "out=np.zeros(N)\n",
    "\n",
    "#Calculate F()\n",
    "out=fun(pos)\n",
    "print(out)\n",
    "\n",
    "#This will not work because the array is not copied\n",
    "#pbestval=out\n",
    "#pbest=pos\n",
    "\n",
    "#update pbest by simply making a copy\n",
    "pbestval=np.copy(out)\n",
    "pbest=np.copy(pos)\n",
    "\n",
    "#get the min F() value\n",
    "fminval=np.min(out)\n",
    "\n",
    "#update gbest\n",
    "index=np.argmin(out, axis=0) #get the index with min value\n",
    "gbest=pbest[index]\n",
    "\n",
    "print(out,index)\n",
    "print(gbest, fminval)"
   ]
  },
  {
   "cell_type": "code",
   "execution_count": 6,
   "metadata": {},
   "outputs": [
    {
     "name": "stdout",
     "output_type": "stream",
     "text": [
      "(array([0, 2, 3], dtype=int64),)\n",
      "[ 1 21  3  4] [1 4 3 4]\n"
     ]
    }
   ],
   "source": [
    "#testing code, replacing with the smallest values\n",
    "#Similar code is used for updating pbest with the min value\n",
    "\n",
    "a=np.array([1,21,3,4])\n",
    "b=np.array([3,4,91,82])\n",
    "ar=np.where(a<b)\n",
    "print(ar)\n",
    "b[ar]=a[ar]\n",
    "print(a,b)"
   ]
  },
  {
   "cell_type": "code",
   "execution_count": 8,
   "metadata": {},
   "outputs": [
    {
     "name": "stdout",
     "output_type": "stream",
     "text": [
      "[-6.33302087] [-2.68630061 -3.34798177]\n"
     ]
    }
   ],
   "source": [
    "#for 1 run\n",
    "it=1\n",
    "while it<=max_iter:\n",
    "    w=wmax-(it/max_iter)*(wmax-wmin)\n",
    "    \n",
    "    #compute function F() value\n",
    "    ##fill in here\n",
    "    out = fun(pos)\n",
    "\n",
    "    #update best (min) pbest values\n",
    "    ##fill in here .. see above\n",
    "    for i in range(N):\n",
    "        if out[i] < pbestval[i]:\n",
    "            pbestval[i] = out[i]\n",
    "            pbest[i,:] = pos[i,:]\n",
    "    \n",
    "    #update gbest values from all pbest\n",
    "    ##fill in here \n",
    "    gbest_index = np.argmin(pbestval)\n",
    "    gbest = pbest[gbest_index,:]\n",
    "\n",
    "    #update velocity and position phase \n",
    "    for i in range(N):\n",
    "        for j in range(D):\n",
    "            \n",
    "            #update the vel[] here\n",
    "            ##fill in here\n",
    "            r1, r2 = np.random.rand(), np.random.rand()\n",
    "            vel[i,j] = w*vel[i,j] + c1*r1*(pbest[i,j] - pos[i,j]) + c2*r2*(gbest[j] - pos[i,j])\n",
    "\n",
    "            #update position\n",
    "            ##fill in here\n",
    "            pos[i,j] += vel[i,j]\n",
    "\n",
    "            #check bounds\n",
    "            if(pos[i,j]<Lb[j]):\n",
    "                pos[i,j]=Lb[j]\n",
    "            elif (pos[i,j]>Ub[j]):\n",
    "                pos[i,j]=Ub[j]\n",
    "            \n",
    "    it=it+1\n",
    "\n",
    "#store the gbest \n",
    "f_ans=fun(np.expand_dims(gbest, axis=0))\n",
    "f_gbest=gbest\n",
    "print(f_ans,gbest)"
   ]
  },
  {
   "cell_type": "markdown",
   "metadata": {},
   "source": [
    "### Complete program for Multiple runs\n",
    "\n",
    "Wrap the entire pso algorithm into another external loop so that it runs multiple times. From the multiple times, we obtain the best global value. "
   ]
  },
  {
   "cell_type": "code",
   "execution_count": 10,
   "metadata": {},
   "outputs": [
    {
     "name": "stdout",
     "output_type": "stream",
     "text": [
      "3.0 [0.         0.         9.49041485]\n",
      "3.0 [0.         0.         6.64579669]\n",
      "3.0 [0.         0.         1.76181522]\n",
      "3.0 [0.         0.         3.49988934]\n",
      "3.0 [0.         0.         8.49473629]\n",
      "3.0 [0.         0.         8.04961013]\n",
      "3.0 [0.         0.         7.10693103]\n",
      "3.0 [0.         0.         5.95869893]\n",
      "3.0 [0.         0.         9.63153613]\n",
      "3.0 [0.         0.         3.38678537]\n",
      "3.0 [0.         0.         9.29585706]\n",
      "3.0 [0.         0.         4.12961616]\n",
      "3.0 [0.        0.        9.1053201]\n",
      "3.0 [0.         0.         4.33416601]\n",
      "3.0 [0.         0.         8.05636942]\n",
      "3.0 [ 0.  0. 10.]\n",
      "3.0 [0.         0.         4.63551851]\n",
      "3.0 [0. 0. 0.]\n",
      "3.0 [0.         0.         7.36204451]\n",
      "3.0 [0.         0.         4.36636374]\n",
      "3.0 [0.         0.         9.49041485] 0\n"
     ]
    }
   ],
   "source": [
    "#need to initialize pso parameters as above\n",
    "D=3 #dimensions\n",
    "\n",
    "N=20 #number of particles\n",
    "wmax=0.9 #inertia weight max\n",
    "wmin=0.4 #inertia weight min\n",
    "c1=2.05 # acceleration factor\n",
    "c2=2.05 # acceleration factor\n",
    "max_iter=100\n",
    "\n",
    "#objective function need to be defined first\n",
    "Lb = np.zeros(D)  # Lower bounds for each dimension\n",
    "Ub = 10 * np.ones(D)  # Upper bounds for each dimension\n",
    "\n",
    "runmax=20\n",
    "pos=np.zeros((N,D))\n",
    "f_ans=np.zeros(runmax)\n",
    "f_gbest=np.zeros((runmax,D))\n",
    "pbestval=np.zeros_like(out)\n",
    "pbest=np.zeros_like(pos)\n",
    "\n",
    "for run in (range(runmax)):\n",
    "    \n",
    "    #random  population initialization for pos[] and v[]\n",
    "    ## fill in here\n",
    "    pos = np.random.uniform(low=Lb, high=Ub, size=(N,D))\n",
    "    vel = np.zeros((N,D))\n",
    "    \n",
    "    # calculate F() for the initial population\n",
    "    ## fill in here\n",
    "    out = fun(pos)\n",
    "    \n",
    "    #update pbest by simply making a copy\n",
    "    ## fill in here\n",
    "    pbestval = np.copy(out)\n",
    "    pbest = np.copy(pos)\n",
    "    \n",
    "    # update gbest\n",
    "    ## fill in here\n",
    "    gbest = pbest[np.argmin(pbestval)]\n",
    "    \n",
    "    #iterate\n",
    "    it=1\n",
    "    while it<=max_iter:\n",
    "        \n",
    "        #calculate w \n",
    "        ##fill in here\n",
    "        w = wmax - (it/max_iter) * (wmax - wmin)\n",
    "        \n",
    "        #compute F() \n",
    "        ##fill in here\n",
    "        out = fun(pos)\n",
    "        \n",
    "        #update pbest values\n",
    "        ##fill in here\n",
    "        for i in range(N):\n",
    "            if out[i] < pbestval[i]:\n",
    "                pbestval[i] = out[i]\n",
    "                pbest[i,:] = pos[i,:]\n",
    "         \n",
    "        #update gbest values\n",
    "        ##fill in here\n",
    "        index_best = np.argmin(pbestval)\n",
    "        if pbestval[index_best] < fun(np.expand_dims(gbest, axis=0)):\n",
    "            gbest = pbest[index_best,:]\n",
    "        \n",
    "        #update velocity and position \n",
    "        ##fill in here\n",
    "        for i in range(N):\n",
    "            for j in range(D):\n",
    "                #update position\n",
    "                ##fill in here\n",
    "                r1, r2 = np.random.rand(), np.random.rand()\n",
    "                vel[i,j] = w * vel[i,j] + c1 * r1 * (pbest[i,j] - pos[i,j]) + c2 * r2 * (gbest[j] - pos[i,j])\n",
    "                pos[i,j] += vel[i,j]\n",
    "                \n",
    "                #check bounds\n",
    "                ##fill in here\n",
    "                if pos[i,j] < Lb[j]:\n",
    "                    pos[i,j] = Lb[j]\n",
    "                elif pos[i,j] > Ub[j]:\n",
    "                    pos[i,j] = Ub[j]\n",
    "                    \n",
    "        it=it+1\n",
    "    \n",
    "    #outer loop for multiple runs\n",
    "    \n",
    "    f_ans[run]=fun(np.expand_dims(gbest, axis=0))\n",
    "    f_gbest[run]=gbest\n",
    "    print(f_ans[run],f_gbest[run])\n",
    "    \n",
    "bfun=np.min(f_ans)\n",
    "brun=np.argmin(f_ans)\n",
    "bestX=f_gbest[brun]\n",
    "print(bfun,bestX,brun)"
   ]
  },
  {
   "cell_type": "markdown",
   "metadata": {},
   "source": [
    "### Task (optional)\n",
    "1. Plot the movement of the particles after each iteration. Sections where you need to complete are marked as comments `##`\n",
    "\n",
    "Hint:\n",
    "\n",
    "Wrap the entire pso algorithm into a function:\n",
    "    `def pso(0):`\n",
    "    \n",
    "In the pso function, after the position have been updated, put a `yield pos` statement into the code. This will allow the animation loop to obtain the `pos` array from the `pso()` without ending the `pso()` updating loop. \n",
    "\n",
    "Next create a generator for the `pso()` function:\n",
    "    `gen=pso()`\n",
    "\n",
    "In the animation loop, just before the `draw.circle(..)` statement, extract the `pos` value from the `pso()` function:\n",
    "    `posn=nex(gen)`"
   ]
  },
  {
   "cell_type": "code",
   "execution_count": 11,
   "metadata": {},
   "outputs": [
    {
     "ename": "IndentationError",
     "evalue": "expected an indented block (416244060.py, line 61)",
     "output_type": "error",
     "traceback": [
      "\u001b[1;36m  Cell \u001b[1;32mIn[11], line 61\u001b[1;36m\u001b[0m\n\u001b[1;33m    pygame.init()\u001b[0m\n\u001b[1;37m    ^\u001b[0m\n\u001b[1;31mIndentationError\u001b[0m\u001b[1;31m:\u001b[0m expected an indented block\n"
     ]
    }
   ],
   "source": [
    "import pygame\n",
    "import numpy as np\n",
    "from random import seed, random\n",
    "\n",
    "#need to initialize pso parameters \n",
    "\n",
    "D=2 #dimensions\n",
    "N=30 #number of particles\n",
    "wmax=0.9 #inertia weight max\n",
    "wmin=0.4 #inertia weight min\n",
    "c1=2.05 # acceleration factor\n",
    "c2=2.05 # acceleration factor\n",
    "max_iter=100\n",
    "\n",
    "# declare variables\n",
    "out=np.zeros(N)\n",
    "pos=np.zeros((N,D))\n",
    "pbestval=np.zeros_like(out)\n",
    "pbest=np.zeros_like(pos)\n",
    "\n",
    "# init random pos and vel\n",
    "Lb=-5*np.ones(D) # Lower bounds\n",
    "Ub=5*np.ones(D) # Upper bounds\n",
    "for i in range(N):\n",
    "    for j in range(D):\n",
    "        pos[i,j]=Lb[j]+(Ub[j]-Lb[j])*np.random.random();\n",
    "vel=0.1*pos\n",
    "\n",
    "#objective function need to be defined first\n",
    "def fun(X): #min is -6.3333\n",
    "    x1=X[:,0]\n",
    "    x2=X[:,1]\n",
    "    \n",
    "    out=np.power(x1,2)-x1*x2+np.power(x2,2)+2*(x1)+4*x2+3\n",
    "    return out\n",
    "\n",
    "# iteration 1\n",
    "#calculate F(X)\n",
    "for i in range(N):\n",
    "    out[i]=fun(np.expand_dims(pos[i], axis=0))\n",
    "\n",
    "#init pbest\n",
    "pbestval=np.copy(out)\n",
    "pbest=np.copy(pos)\n",
    "    \n",
    "fminval=np.min(out)\n",
    "\n",
    "#init gbest\n",
    "index=np.argmin(out, axis=0)\n",
    "gbest=pbest[index]    \n",
    "\n",
    "\n",
    "\n",
    "def pso(): \n",
    "## put the entire pso algorithm here, only do the single run version\n",
    "\n",
    "#create the generator \n",
    "## fill in here\n",
    "\n",
    "# animation loop!!\n",
    "pygame.init()\n",
    "# Set up the drawing window\n",
    "screen = pygame.display.set_mode([500, 500])\n",
    "\n",
    "clock = pygame.time.Clock()\n",
    "# Run until the user asks to quit\n",
    "running = True\n",
    "while running:\n",
    "    # Did the user click the window close button?\n",
    "    for event in pygame.event.get():\n",
    "        if event.type == pygame.QUIT:\n",
    "            running = False\n",
    "\n",
    "\n",
    "    # Fill the background with white\n",
    "    screen.fill((255, 255, 255))\n",
    "    try:\n",
    "        # obtain the position value from pso() using next(..), assign it to posn\n",
    "        ## fill in here\n",
    "        \n",
    "        for i in range(N):\n",
    "            pygame.draw.circle(screen,(250,0,0), posn[i].astype(int), 6)\n",
    "            \n",
    "    except StopIteration:\n",
    "        break\n",
    "\n",
    "    # Flip the display\n",
    "    pygame.display.flip()\n",
    "    clock.tick(60)\n",
    "\n",
    "\n",
    "# Done! Time to quit.\n",
    "pygame.quit()"
   ]
  },
  {
   "cell_type": "code",
   "execution_count": null,
   "metadata": {},
   "outputs": [],
   "source": []
  }
 ],
 "metadata": {
  "kernelspec": {
   "display_name": "Python 3",
   "language": "python",
   "name": "python3"
  },
  "language_info": {
   "codemirror_mode": {
    "name": "ipython",
    "version": 3
   },
   "file_extension": ".py",
   "mimetype": "text/x-python",
   "name": "python",
   "nbconvert_exporter": "python",
   "pygments_lexer": "ipython3",
   "version": "3.8.18"
  }
 },
 "nbformat": 4,
 "nbformat_minor": 4
}
