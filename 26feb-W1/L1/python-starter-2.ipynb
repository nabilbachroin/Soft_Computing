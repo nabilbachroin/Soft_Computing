{
 "cells": [
  {
   "cell_type": "markdown",
   "metadata": {},
   "source": [
    "# Python Starter 2"
   ]
  },
  {
   "cell_type": "markdown",
   "metadata": {},
   "source": [
    "### Functional programming"
   ]
  },
  {
   "cell_type": "code",
   "execution_count": null,
   "metadata": {},
   "outputs": [],
   "source": [
    "def generate_five_adder():\n",
    "    def _five_adder(num):\n",
    "        return num + 5\n",
    "    return _five_adder  #return a function that captures 5. This is called a closure\n",
    "\n",
    "add_5 = generate_five_adder()\n",
    "add_5(6)"
   ]
  },
  {
   "cell_type": "code",
   "execution_count": null,
   "metadata": {},
   "outputs": [],
   "source": [
    "def generate_adder(increment):\n",
    "    def _adder(a):\n",
    "        return a + increment #this time captures 'increment' when generate_adder is first called\n",
    "    return _adder\n",
    "\n",
    "add_3 = generate_adder(3)\n",
    "add_3(10)"
   ]
  },
  {
   "cell_type": "code",
   "execution_count": null,
   "metadata": {},
   "outputs": [],
   "source": [
    "generate_adder(8)(5)"
   ]
  },
  {
   "cell_type": "code",
   "execution_count": null,
   "metadata": {},
   "outputs": [],
   "source": [
    "numbers = range(10)\n",
    "\n",
    "[add_5(i) for i in numbers]"
   ]
  },
  {
   "cell_type": "code",
   "execution_count": null,
   "metadata": {},
   "outputs": [],
   "source": [
    "list(map(add_5, numbers))"
   ]
  },
  {
   "cell_type": "code",
   "execution_count": null,
   "metadata": {},
   "outputs": [],
   "source": [
    "import sys\n",
    "\n",
    "def my_max(data):\n",
    "    # Start with the smallest possible number\n",
    "    highest = -sys.float_info.max\n",
    "\n",
    "    for x in data:\n",
    "        if x > highest:\n",
    "            highest = x\n",
    "\n",
    "    return highest\n",
    "\n",
    "my_max([2, 50, 10, -11, -5])"
   ]
  },
  {
   "cell_type": "markdown",
   "metadata": {},
   "source": [
    "Lambda functions"
   ]
  },
  {
   "cell_type": "code",
   "execution_count": null,
   "metadata": {},
   "outputs": [],
   "source": [
    "func = lambda a, b, c: a + b + c\n",
    "func('a','b','c')"
   ]
  },
  {
   "cell_type": "code",
   "execution_count": null,
   "metadata": {},
   "outputs": [],
   "source": [
    "data = range(10)\n",
    "list(map(lambda x: 2*x, data))"
   ]
  },
  {
   "cell_type": "code",
   "execution_count": null,
   "metadata": {},
   "outputs": [],
   "source": [
    "from functools import reduce\n",
    "def my_max(data): \n",
    "    return reduce(lambda a, b: a if a > b else b, data, sys.float_info.min)\n",
    "\n",
    "my_max([2, 5, 10, -11, -5])"
   ]
  },
  {
   "cell_type": "markdown",
   "metadata": {},
   "source": [
    "### Unpacking"
   ]
  },
  {
   "cell_type": "code",
   "execution_count": null,
   "metadata": {},
   "outputs": [],
   "source": [
    "a,b,c=1,2,3\n",
    "a,b,c"
   ]
  },
  {
   "cell_type": "markdown",
   "metadata": {},
   "source": [
    "Extended unpacking"
   ]
  },
  {
   "cell_type": "code",
   "execution_count": null,
   "metadata": {},
   "outputs": [],
   "source": [
    "a,*b,c=[1,2,3,4,5,6]\n",
    "print(a,b,c)\n"
   ]
  },
  {
   "cell_type": "markdown",
   "metadata": {},
   "source": [
    "Swapping"
   ]
  },
  {
   "cell_type": "code",
   "execution_count": null,
   "metadata": {},
   "outputs": [],
   "source": [
    "a,b=1,2\n",
    "a,b=b,a\n",
    "a,b"
   ]
  },
  {
   "cell_type": "markdown",
   "metadata": {},
   "source": [
    "## List Comprehensions\n",
    "\n",
    " [expresion **for** item **in** list **if** conditional]"
   ]
  },
  {
   "cell_type": "code",
   "execution_count": null,
   "metadata": {},
   "outputs": [],
   "source": [
    "mylist = [i for i in range(10)]\n",
    "print(mylist)"
   ]
  },
  {
   "cell_type": "code",
   "execution_count": null,
   "metadata": {},
   "outputs": [],
   "source": [
    "squares = [x**2 for x in range(10)]\n",
    "print(squares)"
   ]
  },
  {
   "cell_type": "code",
   "execution_count": null,
   "metadata": {},
   "outputs": [],
   "source": [
    "def some_function(a):\n",
    "    return (a + 5) / 2\n",
    "    \n",
    "my_formula = [some_function(i) for i in range(10)]\n",
    "print(my_formula)"
   ]
  },
  {
   "cell_type": "code",
   "execution_count": null,
   "metadata": {},
   "outputs": [],
   "source": [
    "filtered = [i for i in range(20) if i%2==0]\n",
    "print(filtered)\n",
    "# [0, 2, 4, 6, 8, 10, 12, 14, 16, 18]"
   ]
  },
  {
   "cell_type": "markdown",
   "metadata": {},
   "source": [
    "Nested list comprehension"
   ]
  },
  {
   "cell_type": "markdown",
   "metadata": {},
   "source": [
    "    [value\n",
    "          for sublist in list\n",
    "              for value in sublist]"
   ]
  },
  {
   "cell_type": "code",
   "execution_count": null,
   "metadata": {},
   "outputs": [],
   "source": [
    " [[j for j in range(3)] for i in range(4)]"
   ]
  },
  {
   "cell_type": "code",
   "execution_count": null,
   "metadata": {},
   "outputs": [],
   "source": [
    " [j for j in range(3) for i in range(4)]"
   ]
  },
  {
   "cell_type": "code",
   "execution_count": null,
   "metadata": {},
   "outputs": [],
   "source": [
    "s=[['h','e',],['l','p']]\n",
    "print([j for j in s])\n",
    "print([k for j in s for k in j])"
   ]
  },
  {
   "cell_type": "code",
   "execution_count": null,
   "metadata": {},
   "outputs": [],
   "source": [
    "[x+y for x in ['a','b','c'] for y in ['1','2','3']]"
   ]
  },
  {
   "cell_type": "code",
   "execution_count": null,
   "metadata": {},
   "outputs": [],
   "source": [
    "[[x+y for x in ['a','b','c']] for y in ['1','2','3']]"
   ]
  },
  {
   "cell_type": "markdown",
   "metadata": {},
   "source": [
    "Flattening"
   ]
  },
  {
   "cell_type": "code",
   "execution_count": null,
   "metadata": {},
   "outputs": [],
   "source": [
    "import itertools\n",
    "a = [[1, 2], [3, 4], [5, 6]]\n",
    "list(itertools.chain.from_iterable(a))"
   ]
  },
  {
   "cell_type": "code",
   "execution_count": null,
   "metadata": {},
   "outputs": [],
   "source": [
    "a = [[1, 2], [3, 4], [5, 6]]\n",
    "sum(a, [])"
   ]
  },
  {
   "cell_type": "code",
   "execution_count": null,
   "metadata": {},
   "outputs": [],
   "source": [
    "a = [[1, 2], [3, 4], [5, 6]]\n",
    "[x for l in a for x in l]"
   ]
  },
  {
   "cell_type": "code",
   "execution_count": null,
   "metadata": {},
   "outputs": [],
   "source": [
    "a = [[[1, 2], [3, 4]], [[5, 6], [7, 8]]]\n",
    "[x for l1 in a for l2 in l1 for x in l2]"
   ]
  },
  {
   "cell_type": "code",
   "execution_count": null,
   "metadata": {},
   "outputs": [],
   "source": [
    "a = [1, 2, [3, 4], [[5, 6], [7, 8]]]\n",
    "flatten = lambda x: [y for l in x for y in flatten(l)] if type(x) is list else [x]\n",
    "flatten(a)"
   ]
  },
  {
   "cell_type": "markdown",
   "metadata": {},
   "source": [
    "Zipping lists"
   ]
  },
  {
   "cell_type": "code",
   "execution_count": null,
   "metadata": {},
   "outputs": [],
   "source": [
    "a = [1, 2, 3]\n",
    "b = ['a', 'b', 'c']\n",
    "print([z for z in zip(a, b)])\n"
   ]
  },
  {
   "cell_type": "markdown",
   "metadata": {},
   "source": [
    "Unzipping"
   ]
  },
  {
   "cell_type": "code",
   "execution_count": null,
   "metadata": {},
   "outputs": [],
   "source": [
    "a = [1, 2, 3]\n",
    "b = ['a', 'b', 'c']\n",
    "z=zip(a,b)\n",
    "\n",
    "print([i for i in zip(*z)])"
   ]
  },
  {
   "cell_type": "markdown",
   "metadata": {},
   "source": [
    "Stars - unpacking"
   ]
  },
  {
   "cell_type": "code",
   "execution_count": null,
   "metadata": {},
   "outputs": [],
   "source": [
    "n=[1,2,3,4,5]\n",
    "m=[n,8,9]\n",
    "star=[*n,8,9]\n",
    "print(m,star)\n",
    "print(*n,n)"
   ]
  },
  {
   "cell_type": "markdown",
   "metadata": {},
   "source": [
    "Grouping"
   ]
  },
  {
   "cell_type": "code",
   "execution_count": null,
   "metadata": {},
   "outputs": [],
   "source": [
    " a = [0,1, 2, 3, 4, 5, 6,7,8,9]\n",
    "\n",
    "# Using iterators\n",
    "group_adjacent = lambda a, k: zip(*([iter(a)] * k))\n",
    "z=group_adjacent(a, 2)\n",
    "[i for i in z]\n"
   ]
  },
  {
   "cell_type": "markdown",
   "metadata": {},
   "source": [
    "Sliding windows"
   ]
  },
  {
   "cell_type": "code",
   "execution_count": null,
   "metadata": {},
   "outputs": [],
   "source": [
    "from itertools import islice\n",
    "def n_grams(a, n):\n",
    "    z = (islice(a, i, None) for i in range(n))\n",
    "    return zip(*z)\n",
    "\n",
    "a = [0,1, 2, 3, 4, 5, 6,7,8,9]\n",
    "[i for i in n_grams(a, 3)]"
   ]
  },
  {
   "cell_type": "markdown",
   "metadata": {},
   "source": [
    "### Dictionary"
   ]
  },
  {
   "cell_type": "markdown",
   "metadata": {},
   "source": [
    "Iterating over dictionary key and value pairs"
   ]
  },
  {
   "cell_type": "code",
   "execution_count": null,
   "metadata": {},
   "outputs": [],
   "source": [
    "m = {'a': 1, 'b': 2, 'c': 3, 'd': 4}\n",
    "for k, v in m.items():\n",
    "    print ('{}: {}'.format(k, v))"
   ]
  },
  {
   "cell_type": "markdown",
   "metadata": {},
   "source": [
    "Double star - unpacking"
   ]
  },
  {
   "cell_type": "code",
   "execution_count": null,
   "metadata": {},
   "outputs": [],
   "source": [
    "date_info = {'year': \"2020\", 'month': \"01\", 'day': \"01\"}\n",
    "filename = \"{year}-{month}-{day}.txt\".format(**date_info) ##error if no **\n",
    "filename"
   ]
  },
  {
   "cell_type": "markdown",
   "metadata": {},
   "source": [
    "Merging dictionaries"
   ]
  },
  {
   "cell_type": "code",
   "execution_count": null,
   "metadata": {},
   "outputs": [],
   "source": [
    "dict1 = { 'a': 1, 'b': 2 }\n",
    "dict2 = { 'b': 3, 'c': 4 }\n",
    "merged = { **dict1, **dict2 }\n",
    "\n",
    "print(merged)"
   ]
  },
  {
   "cell_type": "markdown",
   "metadata": {},
   "source": [
    "Inverting a dictionary"
   ]
  },
  {
   "cell_type": "code",
   "execution_count": null,
   "metadata": {},
   "outputs": [],
   "source": [
    "m = {'a': 1, 'b': 2, 'c': 3, 'd': 4}\n",
    "zip(m.values(), m.keys())\n",
    "\n",
    "mi = dict(zip(m.values(), m.keys()))\n",
    "mi\n"
   ]
  },
  {
   "cell_type": "markdown",
   "metadata": {},
   "source": [
    "Dictionary comprehensions"
   ]
  },
  {
   "cell_type": "code",
   "execution_count": null,
   "metadata": {},
   "outputs": [],
   "source": [
    "m = {x: x ** 2 for x in range(5)}\n",
    "m"
   ]
  },
  {
   "cell_type": "markdown",
   "metadata": {},
   "source": [
    "Generators"
   ]
  },
  {
   "cell_type": "code",
   "execution_count": null,
   "metadata": {},
   "outputs": [],
   "source": [
    "g = (x ** 2 for x in range(10))\n",
    "next(g)"
   ]
  },
  {
   "cell_type": "code",
   "execution_count": null,
   "metadata": {},
   "outputs": [],
   "source": [
    "next(g)"
   ]
  },
  {
   "cell_type": "code",
   "execution_count": null,
   "metadata": {},
   "outputs": [],
   "source": [
    "next(g)"
   ]
  },
  {
   "cell_type": "markdown",
   "metadata": {},
   "source": [
    "### Named Tuples"
   ]
  },
  {
   "cell_type": "code",
   "execution_count": null,
   "metadata": {},
   "outputs": [],
   "source": [
    "p = Point(x=1.0, y=2.0)\n",
    "print(p)\n",
    "q=Point(x=3.0, y=4.0)\n",
    "print(q)\n",
    "print(p.x,p.y)\n"
   ]
  },
  {
   "cell_type": "markdown",
   "metadata": {},
   "source": [
    "### Map"
   ]
  },
  {
   "cell_type": "code",
   "execution_count": null,
   "metadata": {},
   "outputs": [],
   "source": [
    "def upper(s):\n",
    "    return s.upper()\n",
    "    \n",
    "mylist = list(map(upper, ['this', 'is','a','lower','case','sentence']))\n",
    "print(mylist)"
   ]
  },
  {
   "cell_type": "markdown",
   "metadata": {},
   "source": [
    "## Numpy\n",
    "\n",
    "Numpy allows vectorized operations that List can't provide. These \"vectorized\" operations are very fast. A NumPy array always contains just one datatype."
   ]
  },
  {
   "cell_type": "code",
   "execution_count": null,
   "metadata": {},
   "outputs": [],
   "source": [
    "import numpy as np\n",
    "my_array = np.array(range(5))\n",
    "my_array"
   ]
  },
  {
   "cell_type": "code",
   "execution_count": null,
   "metadata": {},
   "outputs": [],
   "source": [
    "List=[0, 1,2,3,4]\n",
    "[elem + 5 for elem in List]\n",
    "#can't do List+5"
   ]
  },
  {
   "cell_type": "code",
   "execution_count": null,
   "metadata": {},
   "outputs": [],
   "source": [
    "#Numpy array\n",
    "my_array+5"
   ]
  },
  {
   "cell_type": "code",
   "execution_count": null,
   "metadata": {},
   "outputs": [],
   "source": [
    "x = np.arange(0, 10, 0.1)  # Start, stop, step size\n",
    "# y = list(range(0, 10, 0.1)) don't work for list\n",
    "x"
   ]
  },
  {
   "cell_type": "code",
   "execution_count": null,
   "metadata": {},
   "outputs": [],
   "source": [
    "import math\n",
    "values = np.linspace(0, math.pi, 100)\n",
    "values"
   ]
  },
  {
   "cell_type": "markdown",
   "metadata": {},
   "source": [
    "Create multi dimensional arrays"
   ]
  },
  {
   "cell_type": "code",
   "execution_count": null,
   "metadata": {},
   "outputs": [],
   "source": [
    "m=np.zeros([3, 4, 2])\n",
    "m"
   ]
  },
  {
   "cell_type": "code",
   "execution_count": null,
   "metadata": {},
   "outputs": [],
   "source": [
    "y = m.reshape([2, 2, -1])\n",
    "y"
   ]
  },
  {
   "cell_type": "code",
   "execution_count": null,
   "metadata": {},
   "outputs": [],
   "source": [
    "x = np.array(range(40))\n",
    "y = x.reshape([4, 5, 2])\n",
    "y"
   ]
  },
  {
   "cell_type": "code",
   "execution_count": null,
   "metadata": {},
   "outputs": [],
   "source": [
    "y[2:, :1, :]  # Last 2 axes, 1st row, all columns"
   ]
  },
  {
   "cell_type": "code",
   "execution_count": null,
   "metadata": {},
   "outputs": [],
   "source": [
    "y.transpose()"
   ]
  },
  {
   "cell_type": "code",
   "execution_count": null,
   "metadata": {},
   "outputs": [],
   "source": [
    "y.shape"
   ]
  },
  {
   "cell_type": "markdown",
   "metadata": {},
   "source": [
    "By default, array operations are element-by-element. Arrays must match in all dimensions in order to be compatible:\n"
   ]
  },
  {
   "cell_type": "code",
   "execution_count": null,
   "metadata": {},
   "outputs": [],
   "source": [
    "np.arange(5) * np.arange(5)\n"
   ]
  },
  {
   "cell_type": "markdown",
   "metadata": {},
   "source": [
    "### Flattening"
   ]
  },
  {
   "cell_type": "code",
   "execution_count": null,
   "metadata": {},
   "outputs": [],
   "source": [
    "A = np.array([[[ 0,  1],\n",
    "               [ 2,  3],\n",
    "               [ 4,  5],\n",
    "               [ 6,  7]],\n",
    "              [[ 8,  9],\n",
    "               [10, 11],\n",
    "               [12, 13],\n",
    "               [14, 15]],\n",
    "              [[16, 17],\n",
    "               [18, 19],\n",
    "               [20, 21],\n",
    "               [22, 23]]])\n",
    "\n",
    "Flattened_X = A.flatten()\n",
    "print(Flattened_X)\n",
    "\n",
    "print(A.flatten(order=\"C\"))\n",
    "print(A.flatten(order=\"F\"))\n",
    "print(A.flatten(order=\"A\"))"
   ]
  },
  {
   "cell_type": "code",
   "execution_count": null,
   "metadata": {},
   "outputs": [],
   "source": [
    "print(A.ravel())\n",
    "\n",
    "print(A.ravel(order=\"A\"))\n",
    "\n",
    "print(A.ravel(order=\"F\"))\n",
    "\n",
    "print(A.ravel(order=\"A\"))\n",
    "\n",
    "print(A.ravel(order=\"K\"))"
   ]
  },
  {
   "cell_type": "markdown",
   "metadata": {},
   "source": [
    "### Broadcasting\n",
    "The two arrays are said to be broadcast compatible if they have the same size in the dimension, or if one of the arrays has size 1 in that dimension.\n",
    "\n",
    "Ff one array has any Dimension 1, then the data is REPEATED to match the other.\n",
    "\n",
    "    x= [1 2]\n",
    "    y= [3\n",
    "        4\n",
    "        5]\n",
    "        \n",
    "    x+y=[1 2    [3 3\n",
    "         1 2  +  4 4\n",
    "         1 2]    5 5]\n"
   ]
  },
  {
   "cell_type": "markdown",
   "metadata": {},
   "source": [
    "### Stacking"
   ]
  },
  {
   "cell_type": "code",
   "execution_count": null,
   "metadata": {},
   "outputs": [],
   "source": [
    "A = np.array([3, 4, 5])\n",
    "B = np.array([1,9,0])\n",
    "\n",
    "print(np.row_stack((A, B)))\n",
    "\n",
    "print(np.column_stack((A, B)))\n",
    "np.shape(A)"
   ]
  },
  {
   "cell_type": "code",
   "execution_count": null,
   "metadata": {},
   "outputs": [],
   "source": [
    "x=np.array([[1,2]])\n",
    "y=np.array([[3],[4],[5]])\n",
    "x+y"
   ]
  },
  {
   "cell_type": "markdown",
   "metadata": {},
   "source": [
    "### Newaxis\n",
    "\n",
    "Numpy allows indexing with np.newaxis to temporarily create new one-length dimensions on the fly."
   ]
  },
  {
   "cell_type": "code",
   "execution_count": null,
   "metadata": {},
   "outputs": [],
   "source": [
    "threebythree = np.arange(9).reshape(3, 3)\n",
    "threebythree"
   ]
  },
  {
   "cell_type": "code",
   "execution_count": null,
   "metadata": {},
   "outputs": [],
   "source": [
    "threebythree[:, np.newaxis, :]"
   ]
  },
  {
   "cell_type": "code",
   "execution_count": null,
   "metadata": {},
   "outputs": [],
   "source": [
    "x = np.arange(10).reshape(2, 5)\n",
    "y = np.arange(8).reshape(2, 2, 2)"
   ]
  },
  {
   "cell_type": "code",
   "execution_count": null,
   "metadata": {},
   "outputs": [],
   "source": [
    "x_dash = x[:, :, np.newaxis, np.newaxis]\n",
    "x_dash.shape"
   ]
  },
  {
   "cell_type": "code",
   "execution_count": null,
   "metadata": {},
   "outputs": [],
   "source": [
    "y_dash = y[:, np.newaxis, :, :]\n",
    "y_dash.shape"
   ]
  },
  {
   "cell_type": "code",
   "execution_count": null,
   "metadata": {},
   "outputs": [],
   "source": [
    "res = x_dash * y_dash\n",
    "res.shape"
   ]
  },
  {
   "cell_type": "markdown",
   "metadata": {},
   "source": [
    "### Masking and Selections\n",
    "\n",
    "Numpy defines operators like == and < to apply to arrays element by element."
   ]
  },
  {
   "cell_type": "code",
   "execution_count": null,
   "metadata": {},
   "outputs": [],
   "source": [
    "m=np.array([[ 2,  1,  0, -1],\n",
    "       [ 0,  0,  0,  0],\n",
    "       [-2, -1,  0,  1]])"
   ]
  },
  {
   "cell_type": "code",
   "execution_count": null,
   "metadata": {},
   "outputs": [],
   "source": [
    "iszero = m == 0\n",
    "iszero"
   ]
  },
  {
   "cell_type": "code",
   "execution_count": null,
   "metadata": {},
   "outputs": [],
   "source": [
    "n=np.array([[ 2,  1,  9, -1],\n",
    "       [ 9, 9,  9,  9],\n",
    "       [-2, -1,  9,  1]])\n",
    "n[iszero]"
   ]
  },
  {
   "cell_type": "code",
   "execution_count": null,
   "metadata": {},
   "outputs": [],
   "source": [
    "n[np.logical_not(iszero)]"
   ]
  },
  {
   "cell_type": "code",
   "execution_count": null,
   "metadata": {},
   "outputs": [],
   "source": [
    "n[iszero]=999\n",
    "n"
   ]
  },
  {
   "cell_type": "markdown",
   "metadata": {},
   "source": [
    "### Where"
   ]
  },
  {
   "cell_type": "code",
   "execution_count": null,
   "metadata": {},
   "outputs": [],
   "source": [
    "a = np.array([[1, 5, 3], [4, 5, 6]]) \n",
    "print(a) \n",
    "  \n",
    "b = np.where(a<4) \n",
    "print(a[b]) "
   ]
  },
  {
   "cell_type": "code",
   "execution_count": null,
   "metadata": {},
   "outputs": [],
   "source": [
    "a = np.arange(10)\n",
    "np.where(a < 5, a, 10*a) # a>5 multiply by 10 else keep as a"
   ]
  },
  {
   "cell_type": "markdown",
   "metadata": {},
   "source": [
    "References"
   ]
  },
  {
   "cell_type": "code",
   "execution_count": null,
   "metadata": {},
   "outputs": [],
   "source": [
    "x = np.arange(5)\n",
    "y = x[:]\n",
    "y[2] = 0 # y overrides x because y receives a reference to x\n",
    "x"
   ]
  },
  {
   "cell_type": "code",
   "execution_count": null,
   "metadata": {},
   "outputs": [],
   "source": [
    "# compare with Lists\n",
    "x = list(range(5))\n",
    "y = x[:]\n",
    "y[2] = 0\n",
    "x"
   ]
  },
  {
   "cell_type": "code",
   "execution_count": null,
   "metadata": {},
   "outputs": [],
   "source": [
    "x = np.arange(5)\n",
    "y = np.copy(x[:]) # y gets a copy, so won't interfere with x\n",
    "y[2] = 0 \n",
    "x"
   ]
  },
  {
   "cell_type": "markdown",
   "metadata": {},
   "source": [
    "## Test Yourself\n",
    "\n"
   ]
  },
  {
   "cell_type": "markdown",
   "metadata": {},
   "source": [
    "1. Divide two numpy arrays unless denominator is zero. Use list comprehension.\n",
    "\n",
    "    `array1 = np.array([0, 1, 2])\n",
    "    array2 = np.array([0, 1, 1])`\n",
    "\n",
    "    array1 / array2 # should be np.array([0, 1, 2])"
   ]
  },
  {
   "cell_type": "markdown",
   "metadata": {},
   "source": [
    "2. Merge two array with the smallest of two values. Use list comprehension.\n",
    "    \n",
    "    `a=np.array([1,21,3,4])\n",
    "    b=np.array([3,4,91,82])`\n",
    "    \n",
    "    Result [1,4,3,4]"
   ]
  },
  {
   "cell_type": "markdown",
   "metadata": {},
   "source": [
    "3. `d=np.array([[0,10,12,11,14],\n",
    "      [10,0,13,15,8],\n",
    "      [12,13,0,9,14],\n",
    "      [11,15,9,0,16],\n",
    "      [14,8,14,16,0]])`\n",
    "\n",
    "Obtain the 1/d, element-wise inverse, using list comprehension.\n",
    "\n"
   ]
  },
  {
   "cell_type": "markdown",
   "metadata": {},
   "source": [
    "4. Extract from the array `np.array([3,4,6,10,24,89,45,43,46,99,100])` with Boolean masking all the number\n",
    "\n",
    "    a. which are not divisible by 3\n",
    "\n",
    "    b. which are divisible by 5\n",
    "\n",
    "    c. which are divisible by 3 and 5"
   ]
  },
  {
   "cell_type": "markdown",
   "metadata": {},
   "source": [
    "5. Write code that finds the distance between all coordinates without using any loops. \n",
    "\n",
    "```\n",
    "Input= [[2,3,4],[1,2,3]]\n",
    "Output =array([[0.        , 1.41421356, 2.82842712],\n",
    "               [1.41421356, 0.        , 1.41421356],\n",
    "               [2.82842712, 1.41421356, 0.        ]])\n",
    "```\n",
    "\n"
   ]
  },
  {
   "cell_type": "markdown",
   "metadata": {},
   "source": [
    "6. Given an numpy array of dimensions:\n",
    "\n",
    "    `s=np.zeros((N,D))`\n",
    "    \n",
    "    Initialize `s` with random numbers between -4 and 4. You can use `np.random.random()`"
   ]
  },
  {
   "cell_type": "code",
   "execution_count": null,
   "metadata": {},
   "outputs": [],
   "source": []
  }
 ],
 "metadata": {
  "kernelspec": {
   "display_name": "Python 3",
   "language": "python",
   "name": "python3"
  },
  "language_info": {
   "codemirror_mode": {
    "name": "ipython",
    "version": 3
   },
   "file_extension": ".py",
   "mimetype": "text/x-python",
   "name": "python",
   "nbconvert_exporter": "python",
   "pygments_lexer": "ipython3",
   "version": "3.8.3"
  }
 },
 "nbformat": 4,
 "nbformat_minor": 4
}
