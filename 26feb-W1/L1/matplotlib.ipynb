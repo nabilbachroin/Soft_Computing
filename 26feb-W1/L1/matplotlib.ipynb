{
 "cells": [
  {
   "cell_type": "markdown",
   "metadata": {},
   "source": [
    "### Matplotlib Graphics Library - Minimal Basics"
   ]
  },
  {
   "cell_type": "code",
   "execution_count": null,
   "metadata": {},
   "outputs": [],
   "source": [
    "import matplotlib.pyplot as plt\n",
    "import numpy as np\n"
   ]
  },
  {
   "cell_type": "markdown",
   "metadata": {},
   "source": [
    "### Single figure plot\n",
    "\n",
    "If you are plotting only a single figure then you can just call plot from plt. If you are plotting multiple graphs, then you call the plt.subplots (see below)"
   ]
  },
  {
   "cell_type": "code",
   "execution_count": null,
   "metadata": {},
   "outputs": [],
   "source": [
    "plt.plot([1,2,3,4],[1,4,9,16])\n",
    "plt.show()"
   ]
  },
  {
   "cell_type": "markdown",
   "metadata": {},
   "source": [
    "### Mulitple graph in a Figure"
   ]
  },
  {
   "cell_type": "code",
   "execution_count": null,
   "metadata": {},
   "outputs": [],
   "source": [
    "import matplotlib.pyplot as plt\n",
    "\n",
    "plt.plot([1, 2, 3], [3, 6, 9], '-r')\n",
    "plt.plot([1, 2, 3], [2, 4, 9], ':g')\n",
    "\n",
    "plt.show()"
   ]
  },
  {
   "cell_type": "markdown",
   "metadata": {},
   "source": [
    "### Subplots\n",
    "\n",
    "The subplots function is to create multiple plot in a figure. The default is (1,1) meaning only 1 figure. Note that there is a subplot function as well (without 's')\n",
    "\n",
    "Matplotlib is flexible, many ways to do the same thing, can be confusing. We follow this style that can be used to create multiple plots. \n",
    "\n",
    "Figure is the top container for the plot. The Axes contains most of the figure elements: Axis, Tick, Line2D, Text, Polygon, etc., and sets the coordinate system. \n",
    "\n",
    "\n",
    "You do the plot with the axis object.  See https://matplotlib.org/3.1.1/api/axes_api.html"
   ]
  },
  {
   "cell_type": "code",
   "execution_count": null,
   "metadata": {},
   "outputs": [],
   "source": [
    "fig,ax=plt.subplots()\n",
    "ax.plot([1,2,3,4],[1,4,9,16])\n",
    "ax.legend(\"h\")\n",
    "plt.show()"
   ]
  },
  {
   "cell_type": "markdown",
   "metadata": {},
   "source": [
    "You can embellish the graph by color, types of lines and markers.\n",
    "\n",
    "| Char | Color |\n",
    "|------|-------|\n",
    "|  b   | blue  |\n",
    "|  g   | green |\n",
    "|  r   | red   |\n",
    "|  c   | cyan  |\n",
    "|  m   | magenta |\n",
    "|  y   | yellow |\n",
    "|  k   | black  |\n",
    "|  w   | white |\n",
    "\n",
    "| Char | Type  |\n",
    "|------|-------|\n",
    "|  .   | Point |\n",
    "|  o   | Circle |\n",
    "|  x   | X  |\n",
    "|  D   | Diamond |\n",
    "|  H   | Hexagon |\n",
    "|  s   | Square |\n",
    "|  +   | Plus |\n",
    "\n",
    "| Char | Style  |\n",
    "|------|-------|\n",
    "|  -   | Solid |\n",
    "|  --   | Dashed |\n",
    "|  -.   | Dash-dot |\n",
    "|  :   | Dotted |\n",
    "|  H   | Hexagon |"
   ]
  },
  {
   "cell_type": "code",
   "execution_count": null,
   "metadata": {},
   "outputs": [],
   "source": [
    "x=[1,2,3,4]\n",
    "y1=[1,4,9,16]\n",
    "y2=[1,8,27,64]\n",
    "fig,ax=plt.subplots()\n",
    "l1 = ax.plot(x,y1,'ys-') # solid line with yellow colour and square marker\n",
    "l2 = ax.plot(x,y2,'go--') # dash line with green colour and circle marker\n",
    "ax.legend(labels = ('tv', 'Smartphone'), loc = 'lower right') \n",
    "ax.set_title(\"Advertisement effect on sales\")\n",
    "ax.set_xlabel('medium')\n",
    "ax.set_ylabel('sales')\n",
    "plt.show()"
   ]
  },
  {
   "cell_type": "markdown",
   "metadata": {},
   "source": [
    "Create multiple subplot"
   ]
  },
  {
   "cell_type": "code",
   "execution_count": null,
   "metadata": {
    "scrolled": true
   },
   "outputs": [],
   "source": [
    "fig, axes = plt.subplots(nrows=2, ncols=1)\n",
    "axes[0].plot([1,2,3,4],[1,4,9,16],'bx-.') #b with x marker dash dot line\n",
    "axes[1].plot([1,2,3,4],[1,8,27,64],'mD:') #magenta with diamond market dotted line\n",
    "fig.align_xlabels() #align the x axis"
   ]
  },
  {
   "cell_type": "code",
   "execution_count": null,
   "metadata": {},
   "outputs": [],
   "source": [
    "fig, axes = plt.subplots(nrows=2, ncols=1)\n",
    "axes[0].plot([1,2,3,4],[1,4,9,16],'bH-') #b with x marker dash dot line\n",
    "axes[1].plot([1,2,3,4],[1,8,27,64],'yD:') #magenta with diamond market dotted line\n",
    "axes[0].set_xticks([1,2,3,4]) #only use 1,2,3,4\n",
    "fig.align_xlabels() #align the x axis"
   ]
  },
  {
   "cell_type": "markdown",
   "metadata": {},
   "source": [
    "### Scatter plot"
   ]
  },
  {
   "cell_type": "code",
   "execution_count": null,
   "metadata": {},
   "outputs": [],
   "source": [
    "import matplotlib.pyplot as plt\n",
    "import numpy as np\n",
    "\n",
    "N = 20\n",
    "\n",
    "plt.scatter(np.random.rand(N) * 100,\n",
    "            np.random.rand(N) * 100,\n",
    "            c='r', s=100, alpha=0.5)\n",
    "\n",
    "plt.scatter(np.random.rand(N) * 100,\n",
    "            np.random.rand(N) * 100,\n",
    "            c='g', s=200, alpha=0.5)\n",
    "\n",
    "plt.scatter(np.random.rand(N) * 100,\n",
    "            np.random.rand(N) * 100,\n",
    "            c='b', s=300, alpha=0.5)\n",
    "\n",
    "plt.show()"
   ]
  },
  {
   "cell_type": "markdown",
   "metadata": {},
   "source": [
    "### Pie Chart"
   ]
  },
  {
   "cell_type": "code",
   "execution_count": null,
   "metadata": {},
   "outputs": [],
   "source": [
    "import matplotlib.pyplot as plt\n",
    "import numpy as np\n",
    "\n",
    "labels = ['Mon', 'Tue', 'Wed', 'Thu', 'Fri', 'Sat', 'Sun']\n",
    "\n",
    "data = np.random.rand(7) * 100\n",
    "\n",
    "plt.pie(data, labels=labels, autopct='%1.1f%%')\n",
    "plt.axis('equal')\n",
    "plt.legend()\n",
    "\n",
    "plt.show()"
   ]
  },
  {
   "cell_type": "markdown",
   "metadata": {},
   "source": [
    "### Bar Chart"
   ]
  },
  {
   "cell_type": "code",
   "execution_count": null,
   "metadata": {},
   "outputs": [],
   "source": [
    "import matplotlib.pyplot as plt\n",
    "import numpy as np\n",
    "\n",
    "N = 7\n",
    "\n",
    "x = np.arange(N)\n",
    "data = np.random.randint(low=0, high=100, size=N)\n",
    "colors = np.random.rand(N * 3).reshape(N, -1)\n",
    "labels = ['Mon', 'Tue', 'Wed', 'Thu', 'Fri', 'Sat', 'Sun']\n",
    "\n",
    "plt.title(\"Weekday Data\")\n",
    "plt.bar(x, data, alpha=0.8, color=colors, tick_label=labels)\n",
    "plt.show()"
   ]
  },
  {
   "cell_type": "markdown",
   "metadata": {},
   "source": [
    "### Histogram"
   ]
  },
  {
   "cell_type": "code",
   "execution_count": null,
   "metadata": {},
   "outputs": [],
   "source": [
    "import matplotlib.pyplot as plt\n",
    "import numpy as np\n",
    "\n",
    "data = [np.random.randint(0, n, n) for n in [3000, 4000, 5000]]\n",
    "labels = ['3K', '4K', '5K']\n",
    "bins = [0, 100, 500, 1000, 2000, 3000, 4000, 5000]\n",
    "\n",
    "plt.hist(data, bins=bins, label=labels)\n",
    "plt.legend()\n",
    "\n",
    "plt.show()"
   ]
  },
  {
   "cell_type": "markdown",
   "metadata": {},
   "source": [
    "### Try it Yourself\n",
    "\n",
    "```python\n",
    "import numpy as np\n",
    "x = np.arange(0,100)\n",
    "y = x*2+1\n",
    "z = x**2\n",
    "```\n",
    "\n",
    "- Plot (x,y) \n",
    "- Plot (x,z) and (x,y) as two subplots"
   ]
  },
  {
   "cell_type": "code",
   "execution_count": null,
   "metadata": {},
   "outputs": [],
   "source": [
    "import numpy as np\n",
    "import matplotlib.pyplot as plt\n",
    "x = np.arange(0,100)\n",
    "y = x*2+1\n",
    "z = x**2\n"
   ]
  }
 ],
 "metadata": {
  "kernelspec": {
   "display_name": "Python 3",
   "language": "python",
   "name": "python3"
  },
  "language_info": {
   "codemirror_mode": {
    "name": "ipython",
    "version": 3
   },
   "file_extension": ".py",
   "mimetype": "text/x-python",
   "name": "python",
   "nbconvert_exporter": "python",
   "pygments_lexer": "ipython3",
   "version": "3.8.3"
  }
 },
 "nbformat": 4,
 "nbformat_minor": 4
}
