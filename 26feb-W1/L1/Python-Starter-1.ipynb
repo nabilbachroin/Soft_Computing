{
 "cells": [
  {
   "cell_type": "markdown",
   "metadata": {},
   "source": [
    "## Introduction\n",
    "Python is an interpreted language. It runs from the command line, or from its interpreted shell.\n",
    "Python language includes many ideas from structured, imperative, object-oriented and functional languages. \n",
    "\n",
    "It uses positional placement to structure statements and does not use semicolons or braces. Python programs get structured through indentation, i.e. code blocks are defined by their indentation.\n",
    "\n",
    "\n",
    "\n"
   ]
  },
  {
   "cell_type": "markdown",
   "metadata": {},
   "source": [
    "## Starting Jupyter\n",
    "\n",
    "Please install the Anaconda Distribution, it includes many libraries for Python. It is at: http://anaconda.org/\n",
    "\n",
    "\n",
    "After installing Anaconda, you can start the Anaconda Navigator and click on Jupyter Notebook. Or you can click the Jupyter Notebook at the Start menu.\n",
    "\n",
    "Jupyter will open a tab in the browser. Using the Jupyter menu File open your Jupyter notebook.\n"
   ]
  },
  {
   "cell_type": "markdown",
   "metadata": {},
   "source": [
    "## Running code at Jupyter Notebook\n",
    "\n",
    "At the notebook cell, press the RUN on the menu, or press [CTRL-ENTER]. If the code correct, the output will be displayed after the code cell. [ESC-B] to create an empty cell below. [ESC-M] to edit the cell for text. The cell can be selected for text (markdown) or code. \n",
    "\n",
    "You can create a new code cell to run code that you have created.\n",
    "\n",
    "Select menu: Insert | Insert Cell below to create a new cell [Or press 'B' when CellToobar is selected]. On the dropdown box at the tool bar select code (not markdown)."
   ]
  },
  {
   "cell_type": "markdown",
   "metadata": {},
   "source": [
    "# Python Starter 1"
   ]
  },
  {
   "cell_type": "markdown",
   "metadata": {},
   "source": [
    "### Simple Input/Output"
   ]
  },
  {
   "cell_type": "code",
   "execution_count": null,
   "metadata": {},
   "outputs": [],
   "source": [
    "print(1, 2, 3, 4)\n",
    "print(1, 2, 3, 4, sep='*')\n",
    "print(1, 2, 3, 4, sep='#', end='&')\n",
    "\n"
   ]
  },
  {
   "cell_type": "code",
   "execution_count": null,
   "metadata": {},
   "outputs": [],
   "source": [
    "inp=input (\"Enter a number:\")\n",
    "print(\"you keyed in\", inp)"
   ]
  },
  {
   "cell_type": "code",
   "execution_count": null,
   "metadata": {},
   "outputs": [],
   "source": [
    "year = 2016\n",
    "event = 'Referendum'\n",
    "f'Results of the {year} {event}'"
   ]
  },
  {
   "cell_type": "code",
   "execution_count": null,
   "metadata": {},
   "outputs": [],
   "source": [
    "import math\n",
    "print(f'The value of pi is approximately {math.pi:.3f}.')"
   ]
  },
  {
   "cell_type": "code",
   "execution_count": null,
   "metadata": {},
   "outputs": [],
   "source": [
    "y = 10\n",
    "print('The value of x is {} and y is {}'.format(inp,y))"
   ]
  },
  {
   "cell_type": "code",
   "execution_count": null,
   "metadata": {},
   "outputs": [],
   "source": [
    "#what does the 1 and 0 in the parenthesis do?\n",
    "\n",
    "print('I love {1} in {0}'.format('coffee','butter'))\n"
   ]
  },
  {
   "cell_type": "code",
   "execution_count": null,
   "metadata": {},
   "outputs": [],
   "source": [
    "print('Hello {name}, {greet}'.format(greet='Good Morning', name = 'Lin'))\n"
   ]
  },
  {
   "cell_type": "code",
   "execution_count": null,
   "metadata": {},
   "outputs": [],
   "source": [
    "print('{:,}'.format(1000)) # with comma\n",
    "print('{:,.2f}'.format(1000)) # with comma and 2 decimal places\n",
    "\n",
    "frac = .899\n",
    "print ('I am sure about this: {:.2%}'.\n",
    "       format(frac)) # % to 2 decimal place\n",
    "\n",
    "floaty = 10.3162\n",
    "print('floaty value is {:.2f} '.\n",
    "      format(floaty)) # decimals 2 decimal place\n",
    "      \n",
    "print(\"Second argument: {1:2d}, first one: {0:3.2f}\".\n",
    "      format(47.42, 1111))\n",
    "\n",
    "print(f\"${1000:,.2f}\")"
   ]
  },
  {
   "cell_type": "code",
   "execution_count": null,
   "metadata": {},
   "outputs": [],
   "source": [
    "#Passing an integer after the ':' will a minimum number of characters wide. \n",
    "n1=\"Chan\"\n",
    "n2=\"Cheng\"\n",
    "n3=\"OuYang\"\n",
    "print(f'{n1:7}=>{1234567890:10d}')\n",
    "print(f'{n2:7}=>{1234567:10d}')\n",
    "print(f'{n3:7}=>{1234567890123:10d}')"
   ]
  },
  {
   "cell_type": "markdown",
   "metadata": {},
   "source": [
    "### Formating Types\n",
    "```\n",
    ":<\t\tLeft aligns the result (within the available space)\n",
    ":>\t\tRight aligns the result (within the available space)\n",
    ":^\t\tCenter aligns the result (within the available space)\n",
    ":=\t\tPlaces the sign to the left most position\n",
    ":+\t\tUse a plus sign to indicate if the result is positive or negative\n",
    ":-\t\tUse a minus sign for negative values only\n",
    ": \t\tUse a space to insert an extra space before positive numbers (and a minus sign befor negative numbers)\n",
    ":,\t\tUse a comma as a thousand separator\n",
    ":_\t\tUse a underscore as a thousand separator\n",
    ":b\t\tBinary format\n",
    ":c\t\tConverts the value into the corresponding unicode character\n",
    ":d\t\tDecimal format\n",
    ":e\t\tScientific format, with a lower case e\n",
    ":E\t\tScientific format, with an upper case E\n",
    ":f\t\tFix point number format\n",
    ":F\t\tFix point number format, in uppercase format (show inf and nan as INF and NAN)\n",
    ":g\t\tGeneral format\n",
    ":G\t\tGeneral format (using a upper case E for scientific notations)\n",
    ":o\t\tOctal format\n",
    ":x\t\tHex format, lower case\n",
    ":X\t\tHex format, upper case\n",
    ":n\t\tNumber format\n",
    ":%\t\tPercentage format\n",
    "```"
   ]
  },
  {
   "cell_type": "markdown",
   "metadata": {},
   "source": [
    "### Test Yourself\n",
    "\n",
    "Write code to print and align these numbers as below using print statements only.\n",
    "```\n",
    "First    1000.00\n",
    "Second  90000.20\n",
    "Third  100000.10 ```"
   ]
  },
  {
   "cell_type": "code",
   "execution_count": null,
   "metadata": {},
   "outputs": [],
   "source": [
    "F1=\"First\"\n",
    "F2=\"Second\"\n",
    "F3=\"Third\"\n",
    "\n",
    "#your print statements\n"
   ]
  },
  {
   "cell_type": "markdown",
   "metadata": {},
   "source": [
    "### Test Yourself\n",
    "\n",
    "Write the code that will print format the table like below using on print statements.\n",
    "```\n",
    "        Java     10.90   UP\n",
    "        Python   45.20   DOWN\n",
    "        C++      8.85    UP ```"
   ]
  },
  {
   "cell_type": "code",
   "execution_count": null,
   "metadata": {},
   "outputs": [],
   "source": [
    "a1='Java'\n",
    "a2='Python'\n",
    "a3=\"C++\"\n",
    "\n",
    "b1='UP'\n",
    "b2='DOWN'\n",
    "b3='UP'\n",
    "\n",
    "#fix these\n",
    "print(\"{:}{:}{:}\".format(n1,10.90,b1))\n",
    "print(\"{:}{:}{:}\".format(n2,45.20,b2))\n",
    "print(\"{:}{:}{:}\".format(n3,8.85,b3))"
   ]
  },
  {
   "cell_type": "markdown",
   "metadata": {},
   "source": [
    "### Control Structures - If-Then"
   ]
  },
  {
   "cell_type": "code",
   "execution_count": null,
   "metadata": {},
   "outputs": [],
   "source": [
    "y=2\n",
    "x = \"Success!\" if (y == 2) else \"Failed!\"\n",
    "x"
   ]
  },
  {
   "cell_type": "code",
   "execution_count": null,
   "metadata": {},
   "outputs": [],
   "source": [
    "x = 5\n",
    "if x < 0:\n",
    "    print(\"x is negative\")\n",
    "elif x == 0:\n",
    "    print(\"x is zero\")\n",
    "else:\n",
    "    print(\"x is positive\")"
   ]
  },
  {
   "cell_type": "markdown",
   "metadata": {},
   "source": [
    "Automatic falsehood"
   ]
  },
  {
   "cell_type": "code",
   "execution_count": null,
   "metadata": {},
   "outputs": [],
   "source": [
    "mytext = \"Hello\"\n",
    "if mytext:\n",
    "    print(\"Mytext is not empty\")"
   ]
  },
  {
   "cell_type": "markdown",
   "metadata": {},
   "source": [
    "### While/For Loops\n"
   ]
  },
  {
   "cell_type": "code",
   "execution_count": null,
   "metadata": {},
   "outputs": [],
   "source": [
    "i=1\n",
    "while i<5:\n",
    "   print(i)\n",
    "   i=i+1\n",
    "print(\"finish\")\n"
   ]
  },
  {
   "cell_type": "code",
   "execution_count": null,
   "metadata": {},
   "outputs": [],
   "source": [
    "mylist = [3, 7, 15, 2]\n",
    "for whatever in mylist:\n",
    "    print(whatever**2)"
   ]
  },
  {
   "cell_type": "code",
   "execution_count": null,
   "metadata": {},
   "outputs": [],
   "source": [
    "triples = [\n",
    "    [4, 11, 15], \n",
    "    [39, 12, 18]\n",
    "]\n",
    "for first, middle, last in triples:\n",
    "    print(middle)\n",
    "\n"
   ]
  },
  {
   "cell_type": "code",
   "execution_count": null,
   "metadata": {},
   "outputs": [],
   "source": [
    "for n in range(50):\n",
    "    if n == 20: \n",
    "        break\n",
    "    if n % 2 == 0:\n",
    "        continue\n",
    "    print(n)"
   ]
  },
  {
   "cell_type": "code",
   "execution_count": null,
   "metadata": {},
   "outputs": [],
   "source": [
    "for ii in range(5):\n",
    "   print(ii)\n"
   ]
  },
  {
   "cell_type": "code",
   "execution_count": null,
   "metadata": {},
   "outputs": [],
   "source": [
    "#The range function creates a sequential list of numbers\n",
    "numbers=list(range(10))\n",
    "print(numbers)"
   ]
  },
  {
   "cell_type": "code",
   "execution_count": null,
   "metadata": {},
   "outputs": [],
   "source": [
    "#Range can be called with two arguments\n",
    "numbers=list(range(3,8))\n",
    "print(numbers)\n"
   ]
  },
  {
   "cell_type": "code",
   "execution_count": null,
   "metadata": {},
   "outputs": [],
   "source": [
    "#Range can be called with three arguments, the third argument determines the interval\n",
    "numbers=list(range(3,8,2))\n",
    "print(numbers)\n"
   ]
  },
  {
   "cell_type": "markdown",
   "metadata": {},
   "source": [
    "### Test Yourself\n",
    "Rewrite the following code using for-range syntax.\n",
    "```python\n",
    "i=3\n",
    "while i>=0:\n",
    "  print(i)\n",
    "  i=i-1\n",
    "```"
   ]
  },
  {
   "cell_type": "markdown",
   "metadata": {},
   "source": [
    "### Data Structure: List"
   ]
  },
  {
   "cell_type": "markdown",
   "metadata": {},
   "source": [
    "A list is created using square brackets with commas separating items\n",
    "[ item, item , item]\n"
   ]
  },
  {
   "cell_type": "code",
   "execution_count": null,
   "metadata": {},
   "outputs": [],
   "source": [
    "words=[\"Apple\",\"Orange\",\"Papaya\"]\n",
    "print(words[0])\n",
    "print(words[1])"
   ]
  },
  {
   "cell_type": "code",
   "execution_count": null,
   "metadata": {},
   "outputs": [],
   "source": [
    "#print all\n",
    "for i in words:\n",
    "    print(i)"
   ]
  },
  {
   "cell_type": "code",
   "execution_count": null,
   "metadata": {},
   "outputs": [],
   "source": [
    "for i in range(3):\n",
    "    print(words[i])"
   ]
  },
  {
   "cell_type": "markdown",
   "metadata": {},
   "source": [
    "List may be nested [ item, [ item, item , item] item , item]"
   ]
  },
  {
   "cell_type": "code",
   "execution_count": null,
   "metadata": {},
   "outputs": [],
   "source": [
    "words=[\"Apple\",[\"Eggs\", \"Scrambled\"],\"Papaya\"]\n",
    "print(words[1][0])\n"
   ]
  },
  {
   "cell_type": "markdown",
   "metadata": {},
   "source": [
    "Strings can be indexed like a list"
   ]
  },
  {
   "cell_type": "code",
   "execution_count": null,
   "metadata": {},
   "outputs": [],
   "source": [
    "str=\"I am Good\"\n",
    "print(str[0])\n"
   ]
  },
  {
   "cell_type": "code",
   "execution_count": null,
   "metadata": {},
   "outputs": [],
   "source": [
    "#append\n",
    "nums=[1,2,3]\n",
    "nums.append(4)\n",
    "print(nums)\n"
   ]
  },
  {
   "cell_type": "code",
   "execution_count": null,
   "metadata": {},
   "outputs": [],
   "source": [
    "#len\n",
    "print(len(nums))"
   ]
  },
  {
   "cell_type": "code",
   "execution_count": null,
   "metadata": {},
   "outputs": [],
   "source": [
    "#insert\n",
    "nums.insert(0,0)\n",
    "print(nums)\n"
   ]
  },
  {
   "cell_type": "code",
   "execution_count": null,
   "metadata": {},
   "outputs": [],
   "source": [
    "#index\n",
    "letters=['a','b','c']\n",
    "print(letters.index('b'))\n"
   ]
  },
  {
   "cell_type": "markdown",
   "metadata": {},
   "source": [
    "### List Slices\n"
   ]
  },
  {
   "cell_type": "markdown",
   "metadata": {},
   "source": [
    "List slices a[start:end]"
   ]
  },
  {
   "cell_type": "code",
   "execution_count": null,
   "metadata": {},
   "outputs": [],
   "source": [
    "a=[0,1,2,3,4,5,6,7,8,9]\n",
    "a[3:5]"
   ]
  },
  {
   "cell_type": "markdown",
   "metadata": {},
   "source": [
    "Negative indexing"
   ]
  },
  {
   "cell_type": "code",
   "execution_count": null,
   "metadata": {},
   "outputs": [],
   "source": [
    "a=[0,1,2,3,4,5,6,7,8,9]\n",
    "print(a[-1],a[-10])"
   ]
  },
  {
   "cell_type": "markdown",
   "metadata": {},
   "source": [
    "Negative slice index"
   ]
  },
  {
   "cell_type": "code",
   "execution_count": null,
   "metadata": {},
   "outputs": [],
   "source": [
    "a=[0,1,2,3,4,5,6,7,8,9]\n",
    "a[-5:-2]"
   ]
  },
  {
   "cell_type": "markdown",
   "metadata": {},
   "source": [
    "List slices with step a[start:end:step]"
   ]
  },
  {
   "cell_type": "code",
   "execution_count": null,
   "metadata": {},
   "outputs": [],
   "source": [
    "steps = [1, 2, 3, 4, 5][0:5:2]\n",
    "print(steps)\n",
    "\n",
    "mystring = \"abcdefdn nimt\"[::2]\n",
    "print(mystring)"
   ]
  },
  {
   "cell_type": "code",
   "execution_count": null,
   "metadata": {},
   "outputs": [],
   "source": [
    "a=[0,1,2,3,4,5,6,7,8,9]\n",
    "a[2:8:2]"
   ]
  },
  {
   "cell_type": "code",
   "execution_count": null,
   "metadata": {},
   "outputs": [],
   "source": [
    "a=[0,1,2,3,4,5,6,7,8,9]\n",
    "a[::2]"
   ]
  },
  {
   "cell_type": "code",
   "execution_count": null,
   "metadata": {},
   "outputs": [],
   "source": [
    "a=[0,1,2,3,4,5,6,7,8,9]\n",
    "a[::-1]"
   ]
  },
  {
   "cell_type": "markdown",
   "metadata": {},
   "source": [
    "Slice assignment"
   ]
  },
  {
   "cell_type": "code",
   "execution_count": null,
   "metadata": {},
   "outputs": [],
   "source": [
    "a=[0,1,2,3,4,5,6,7,8,9]\n",
    "a[2:4]=['a','b','c']\n",
    "print(a)"
   ]
  },
  {
   "cell_type": "markdown",
   "metadata": {},
   "source": [
    "Slice with start : slice(start,end,step)"
   ]
  },
  {
   "cell_type": "code",
   "execution_count": null,
   "metadata": {},
   "outputs": [],
   "source": [
    "a=[0,1,2,3,4,5,6,7,8,9]\n",
    "first=slice(1,None,2)\n",
    "last3=slice(-3, None, None) #same as slice(-3,None)\n",
    "print(a[last3])\n",
    "print(a[first])"
   ]
  },
  {
   "cell_type": "markdown",
   "metadata": {},
   "source": [
    "Reverse list or strings"
   ]
  },
  {
   "cell_type": "code",
   "execution_count": null,
   "metadata": {},
   "outputs": [],
   "source": [
    "revstring = \"abcdefg\"[::-1]\n",
    "print(revstring)\n",
    "\n",
    "revarray = [1, 2, 3, 4, 5][::-1]\n",
    "print(revarray)"
   ]
  },
  {
   "cell_type": "markdown",
   "metadata": {},
   "source": [
    "Iterating with enumerate()"
   ]
  },
  {
   "cell_type": "code",
   "execution_count": null,
   "metadata": {},
   "outputs": [],
   "source": [
    "a = ['Hello', 'world', '!']\n",
    "for i, x in enumerate(a):\n",
    "    print ('{}: {}'.format(i, x))"
   ]
  },
  {
   "cell_type": "markdown",
   "metadata": {},
   "source": [
    "Select only unique elements in a list"
   ]
  },
  {
   "cell_type": "code",
   "execution_count": null,
   "metadata": {},
   "outputs": [],
   "source": [
    "mylist = [1, 1, 2, 3, 4, 5, 5, 5, 6, 6]\n",
    "print (set(mylist))\n",
    "print (set(\"aaabbbcccdddeeefff\"))\n"
   ]
  },
  {
   "cell_type": "markdown",
   "metadata": {},
   "source": [
    "Counting elements"
   ]
  },
  {
   "cell_type": "code",
   "execution_count": null,
   "metadata": {},
   "outputs": [],
   "source": [
    "from collections import Counter\n",
    "\n",
    "mylist = [1, 1, 2, 3, 4, 5, 5, 5, 6, 6]\n",
    "c = Counter(mylist)\n",
    "print(c)"
   ]
  },
  {
   "cell_type": "markdown",
   "metadata": {},
   "source": [
    "List Assignment is by Reference"
   ]
  },
  {
   "cell_type": "code",
   "execution_count": null,
   "metadata": {},
   "outputs": [],
   "source": [
    "x = ['a','b','c']\n",
    "y = x\n",
    "x[:] = [\"Hooray!\", \"Yippee\"]\n",
    "print(y) # y value changes!!"
   ]
  },
  {
   "cell_type": "markdown",
   "metadata": {},
   "source": [
    "### Test Yourself\n",
    "1. Print out a table like this given these two lists:\n",
    "```\n",
    "    fruit=[\"Apple\",\"Orange\",\"Papaya\"]\n",
    "    price=[2.30,13.25, 3.40]\n",
    "```\n",
    "```\n",
    "     Apple      2.30\n",
    "     Orange    13.25\n",
    "     Papaya     3.40\n",
    "```\n"
   ]
  },
  {
   "cell_type": "code",
   "execution_count": null,
   "metadata": {},
   "outputs": [],
   "source": [
    "fruit=[\"Apple\",\"Orange\",\"Papaya\"]\n",
    "price=[2.30,13.25, 3.40]\n",
    "### Add here\n"
   ]
  },
  {
   "cell_type": "markdown",
   "metadata": {},
   "source": [
    "### Data Structures: Dictionaries\n",
    "Dictionaries are like Lists but with indexed by Keys instead of integers:\n",
    "    \n",
    "    { Key: item, Key: item, Key: item }\n",
    "\n",
    "Curly brackets are used to create Dictionaries. Square brackets are used (as in List) to retrieve items.\n"
   ]
  },
  {
   "cell_type": "code",
   "execution_count": null,
   "metadata": {},
   "outputs": [],
   "source": [
    "age={\"David\":34, \"Lee\": 24, \"Ruby\":32}\n",
    "print(age[\"David\"])"
   ]
  },
  {
   "cell_type": "code",
   "execution_count": null,
   "metadata": {},
   "outputs": [],
   "source": [
    "#Only immutable objects can be used as keys to dictionaries\n",
    "bad_dict = {  [1,2,3]: \"one two three\", }"
   ]
  },
  {
   "cell_type": "code",
   "execution_count": null,
   "metadata": {},
   "outputs": [],
   "source": [
    "#Keys can be assigned values\n",
    "age[\"David\"]=22\n",
    "print(age[\"David\"])"
   ]
  },
  {
   "cell_type": "code",
   "execution_count": null,
   "metadata": {},
   "outputs": [],
   "source": [
    "del age['Lee']; # remove entry with key 'Lee'"
   ]
  },
  {
   "cell_type": "code",
   "execution_count": null,
   "metadata": {},
   "outputs": [],
   "source": [
    "#To determine if a key is in the dictionary\n",
    "print (\"Lee\" in age)\n",
    "print (\"David\" in age) "
   ]
  },
  {
   "cell_type": "code",
   "execution_count": null,
   "metadata": {},
   "outputs": [],
   "source": [
    "#using get\n",
    "pairs= {1: \"apple\", \"orange\": [2,3,4],True: False,None: \"True\",}\n",
    "print(pairs.get(\"orange\"))\n",
    "print(pairs.get(7))\n"
   ]
  },
  {
   "cell_type": "code",
   "execution_count": null,
   "metadata": {},
   "outputs": [],
   "source": [
    "#check in or not in\n",
    "nums={1:\"one\",2:\"two\",3:\"three\",}\n",
    "print (1 in nums)\n",
    "print(4 not in nums)"
   ]
  },
  {
   "cell_type": "code",
   "execution_count": null,
   "metadata": {},
   "outputs": [],
   "source": [
    "dict.clear();     # remove all entries in dict\n",
    "#del dict ;        # delete entire dictionary"
   ]
  },
  {
   "cell_type": "markdown",
   "metadata": {},
   "source": [
    "### Test Yourself\n",
    "\n",
    "Write a short program using dictionary that prints the country that you have visited in a given a year. For example:\n",
    "\n",
    "    2001: Australia\n",
    "    2002: Hong Kong\n",
    "    2005: South Korea\n",
    "    2010: Phillipnes\n",
    "    \n",
    "The program will ask what year then will print the country. If there is no entry for the year, it should print \"None\"."
   ]
  },
  {
   "cell_type": "code",
   "execution_count": null,
   "metadata": {},
   "outputs": [],
   "source": [
    "d={2001: \"Australia\",2002: \"HK\", 2005:\"SK\",2010:\"Phi\"}\n",
    "## add here"
   ]
  },
  {
   "cell_type": "markdown",
   "metadata": {},
   "source": [
    "### Data Structures: Tuples\n",
    "Tuples are like Lists but they are **immutable**. Parentheses are used instead of square brackets for Lists.\n",
    "\n",
    "( item, item , item )\n",
    "\n",
    "Tuples can also be created without parenthesis:\n",
    "```python\n",
    "words=\"dog\", \"cat\", \"bird\"\n",
    "```"
   ]
  },
  {
   "cell_type": "code",
   "execution_count": null,
   "metadata": {},
   "outputs": [],
   "source": [
    "words=(\"dog\", \"cat\", \"bird\")\n",
    "print(words[0])\n",
    "#tuple does not support item assignment\n",
    "#words[0]=\"fish\"\n"
   ]
  },
  {
   "cell_type": "markdown",
   "metadata": {},
   "source": [
    "### Test Yourself\n",
    "1. What is the result of this code?\n",
    "```python\n",
    "tuple=(1,(1,2,3))\n",
    "print(tuple[1])\n",
    "```\n",
    "1. What is the result of this code?\n",
    "```python\n",
    "What is the result of this code?\n",
    "letters=(\"a\",\"b\",\"c\",\"d\",\"e\")\n",
    "print(letters[:3])\n",
    "```"
   ]
  },
  {
   "cell_type": "markdown",
   "metadata": {},
   "source": [
    "### Strings\n",
    "Strings are created using single or double quotation marks e.g. \"item\"\n",
    "```python\n",
    "word1=\"hello world\"\n",
    "word2='hello world'\n",
    "```"
   ]
  },
  {
   "cell_type": "code",
   "execution_count": null,
   "metadata": {},
   "outputs": [],
   "source": [
    "#join: create a string from a list of strings\n",
    "\n",
    "\"--\".join([\"this\",\"that\"])"
   ]
  },
  {
   "cell_type": "code",
   "execution_count": null,
   "metadata": {},
   "outputs": [],
   "source": [
    "#replace\n",
    "print(\"Hello cruel world\".replace(\"cruel\",\"beautiful\"))\n"
   ]
  },
  {
   "cell_type": "code",
   "execution_count": null,
   "metadata": {},
   "outputs": [],
   "source": [
    "#startswith, endswith\n",
    "print(\"this is a sentence\".startswith(\"this\"))\n",
    "print(\"this is a sentence\".endswith(\"sentence\"))"
   ]
  },
  {
   "cell_type": "code",
   "execution_count": null,
   "metadata": {},
   "outputs": [],
   "source": [
    "#split\n",
    "print(\"spam,eggs,ham\".split(\",\"))\n",
    "print(\"spam,eggs,ham\".split(\";\"))\n",
    "\n"
   ]
  },
  {
   "cell_type": "markdown",
   "metadata": {},
   "source": [
    "### Functions\n",
    "Functions are defined using the def keyword. Functions must be defined before it is called. The return statement is optional. \n",
    "```python\n",
    "def my_function():\n",
    "print(“spam”)\n",
    "\n",
    "my_function()\n",
    "```"
   ]
  },
  {
   "cell_type": "code",
   "execution_count": null,
   "metadata": {},
   "outputs": [],
   "source": [
    "#functions with argument\n",
    "def do_twice(x,y):\n",
    "   print(x+y)\n",
    "   print(x+y)\n",
    "do_twice(5,8)\n"
   ]
  },
  {
   "cell_type": "code",
   "execution_count": null,
   "metadata": {},
   "outputs": [],
   "source": [
    "def double(x):\n",
    "    return x*2\n",
    "\n",
    "print(double(5), double([5]), double('five'))"
   ]
  },
  {
   "cell_type": "code",
   "execution_count": null,
   "metadata": {},
   "outputs": [],
   "source": [
    "#return statement\n",
    "def max(x,y):\n",
    "  if x>=y:\n",
    "    return x\n",
    "  else:\n",
    "    return y\n",
    "\n",
    "print(max(3,5))\n"
   ]
  },
  {
   "cell_type": "markdown",
   "metadata": {},
   "source": [
    "Named parameters"
   ]
  },
  {
   "cell_type": "code",
   "execution_count": null,
   "metadata": {},
   "outputs": [],
   "source": [
    "def jeeves(name=\"Sir\"):\n",
    "    return \"Very good, {}\".format(name)\n",
    "jeeves()"
   ]
  },
  {
   "cell_type": "markdown",
   "metadata": {},
   "source": [
    "Parameters as list"
   ]
  },
  {
   "cell_type": "code",
   "execution_count": null,
   "metadata": {},
   "outputs": [],
   "source": [
    "def doubler(*sequence):\n",
    "    return [x*2 for x in sequence]"
   ]
  },
  {
   "cell_type": "code",
   "execution_count": null,
   "metadata": {},
   "outputs": [],
   "source": [
    "doubler(1,2,3,4)\n"
   ]
  },
  {
   "cell_type": "markdown",
   "metadata": {},
   "source": [
    "#### Function as objects . \n",
    "Functions can be assigned and reassigned to variables"
   ]
  },
  {
   "cell_type": "code",
   "execution_count": null,
   "metadata": {},
   "outputs": [],
   "source": [
    "def mult(x,y):\n",
    "   return x*y\n",
    "a=4\n",
    "b=7\n",
    "operation=mult\n",
    "print(operation(a,b))\n"
   ]
  },
  {
   "cell_type": "markdown",
   "metadata": {},
   "source": [
    "#### Functions as arguments. "
   ]
  },
  {
   "cell_type": "code",
   "execution_count": null,
   "metadata": {},
   "outputs": [],
   "source": [
    "def add(x,y):\n",
    "   return x+y\n",
    "def do_twice(func,x,y):\n",
    "   return func(func(x,y),func(x,y))\n",
    "a=5\n",
    "b=10\n",
    "print(do_twice(add,a,b))\n"
   ]
  },
  {
   "cell_type": "markdown",
   "metadata": {},
   "source": [
    "### Test Yourself\n",
    "\n",
    "1. Write a function \"d-square that takes in the function \"square\" as an argument. The function \"d-square\" returns twice the value returned by the \"square\" function. The \"square\" function calculates the square of its argument.\n",
    "\n",
    "\n",
    "2. What is the output of this code?\n",
    "\n",
    "```python\n",
    "def test(func,arg):\n",
    "   return func(func(arg))\n",
    "\n",
    "def mult(x):\n",
    "  return x*x\n",
    "\n",
    "print test(mult,2))\n",
    "```\n"
   ]
  },
  {
   "cell_type": "markdown",
   "metadata": {},
   "source": [
    "### Functional Programming\n",
    "Lambda\n",
    "Allows you to create anonymous functions (functions with no names) on the fly\n",
    "\n",
    "my_func(lambda x: 2*x,5)\n",
    "      \n",
    "argument of the lambda: x\n",
    "actual argument of the lambda: 5\n",
    "body of the lambda function: 2*x"
   ]
  },
  {
   "cell_type": "code",
   "execution_count": null,
   "metadata": {},
   "outputs": [],
   "source": [
    "def my_func(f, arg):\n",
    "    return f(arg)\n",
    "\n",
    "my_func(lambda x: 2*x,5)\n"
   ]
  },
  {
   "cell_type": "code",
   "execution_count": null,
   "metadata": {},
   "outputs": [],
   "source": [
    "square=lambda x: x*x\n",
    "print(square(2))\n"
   ]
  },
  {
   "cell_type": "markdown",
   "metadata": {},
   "source": [
    "### Test Yourself\n",
    "\n",
    "What is the result of this code?\n",
    "```python\n",
    "triple=lambda x: x*3\n",
    "add = lambda x, y: x+y\n",
    "print(add(triple(3),4))\n",
    "```"
   ]
  },
  {
   "cell_type": "code",
   "execution_count": null,
   "metadata": {},
   "outputs": [],
   "source": [
    "#map\n",
    "def add_five(x):\n",
    "  return x+5\n",
    "nums=[11,22,33,44,55]\n",
    "result=list(map(add_five,nums))\n",
    "print(result)\n"
   ]
  },
  {
   "cell_type": "code",
   "execution_count": null,
   "metadata": {},
   "outputs": [],
   "source": [
    "#filter\n",
    "nums=[11,22,33,44,55]\n",
    "res=list(filter(lambda x: x%2==0, nums))\n",
    "print(res)\n"
   ]
  },
  {
   "cell_type": "markdown",
   "metadata": {},
   "source": [
    "### Test Yourself\n",
    "\n",
    "1. Fill in the blanks to multiply each item in the list by 2 using the lambda syntax\n",
    "```\n",
    "nums=[1,2,3]\n",
    "a=list(map(___ x:___ ,____))\n",
    "```\n",
    "2. Fill in the blanks to remove items greater than 44 from the list\n",
    "```\n",
    "nums=[11,22,33,44,55]\n",
    "res=list(___(lambda x: ____, nums))\n",
    "print(res)\n",
    "```\n"
   ]
  },
  {
   "cell_type": "markdown",
   "metadata": {},
   "source": [
    "### Classes\n",
    "Defining a class.\n",
    "\\__init\\__ is the constructor for the class which will be called first each time an object of the class is created. \n",
    "All methods must have self as their first parameter, so that methods can refer to itself.\n",
    "\n",
    "Instance variables have self as prefix: self.color and self.legs are instance variables.\n",
    "```python\n",
    "class Cat:\n",
    "def __init__(self, color, legs):\n",
    "    self.color=color\n",
    "    self.legs=legs\n",
    "def call(self): \n",
    "    print(“Meow!”)\n",
    "felix=Cat(“ginger”,4)\n",
    "```\n",
    "\n",
    "Inheritance.\n",
    "An inherited class will override methods from the superclass.\n",
    "```python\n",
    "class SiameseCat(Cat): #SiameseCat inherit Cat\n",
    "   def call(self):\n",
    "        print(“meow meow”)\n",
    "```\n",
    "\n",
    "Class methods  are marked with a classmethod decorator which require the cls parameter to be passed in. \n",
    "```python\n",
    "class Rectangle:\n",
    "def __init__(self, width, height):\n",
    "   self.width=width\n",
    "   self.height=height\n",
    "@classmethod\n",
    "def new_square(cls,side_length):\n",
    "  return cls(side_length,side_length)\n",
    "```\n",
    "Static methods are similar to class methods except they don’t require the cls parameter. Static methods behave like plain functions without instantiating the class first. Class methods have access to class internals whereas static methods don't\n",
    "\n",
    "```python\n",
    "class SimpleMaths:\n",
    "   def __init__(self, value):\n",
    "      self.value=value\n",
    "   @staticmethod\n",
    "   def  getPI():\n",
    "       return 3.14\n",
    "```\n",
    "To call its own method, *self* is prefixed in front of the method()\n",
    "\n",
    "```python\n",
    "class Cat:\n",
    "def __init__(self, color, legs):\n",
    "    self.color=color\n",
    "    self.legs=legs\n",
    "def call(self):\n",
    "    print(“Meow!”)\n",
    "def greet(self):\n",
    "    self.call()\n",
    "    self.call()\n",
    "```"
   ]
  },
  {
   "cell_type": "markdown",
   "metadata": {},
   "source": [
    "Inheritance: subclass inherit methods from super class"
   ]
  },
  {
   "cell_type": "code",
   "execution_count": null,
   "metadata": {},
   "outputs": [],
   "source": [
    "class Cat:\n",
    "    def __init__(self, color, legs):\n",
    "        self.color=color\n",
    "        self.legs=legs\n",
    "    def call(self): \n",
    "        print(\"Meow!\")\n",
    "\n",
    "class SiameseCat(Cat): #SiameseCat inherit Cat\n",
    "   def call(self):\n",
    "        print(\"meow meow\")\n",
    "\n",
    "kitty=SiameseCat(\"black\",4) #instantiate class\n",
    "kitty.call()\n"
   ]
  },
  {
   "cell_type": "markdown",
   "metadata": {},
   "source": [
    "Static methods don't require to create class first"
   ]
  },
  {
   "cell_type": "code",
   "execution_count": null,
   "metadata": {},
   "outputs": [],
   "source": [
    "class SimpleMaths:\n",
    "   def __init__(self, value):\n",
    "      self.value=value\n",
    "   @staticmethod\n",
    "   def  getPI(): #doesnt require self\n",
    "       return 3.14\n",
    "\n",
    "# don't need to instantiate class first\n",
    "print(SimpleMaths.getPI())\n"
   ]
  },
  {
   "cell_type": "markdown",
   "metadata": {},
   "source": [
    "Classmethod require the cls parameter"
   ]
  },
  {
   "cell_type": "code",
   "execution_count": null,
   "metadata": {},
   "outputs": [],
   "source": [
    "class Rectangle:\n",
    "    def __init__(self, width, height):\n",
    "        self.width=width\n",
    "        self.height=height\n",
    "    def display(self):\n",
    "        print(self.width*self.height)\n",
    "    @classmethod\n",
    "    def new_square(cls,side_length):\n",
    "        return cls(side_length,side_length)\n",
    "\n",
    "r=Rectangle.new_square(3)\n",
    "r.display()"
   ]
  },
  {
   "cell_type": "markdown",
   "metadata": {},
   "source": [
    "Calling its own methods within the class"
   ]
  },
  {
   "cell_type": "code",
   "execution_count": null,
   "metadata": {},
   "outputs": [],
   "source": [
    "class Cat:\n",
    "    def __init__(self, color, legs):\n",
    "        self.color=color\n",
    "        self.legs=legs\n",
    "    def call(self):\n",
    "        print(\"Meow!\")\n",
    "    def greet(self):\n",
    "        self.call() ## calling an internal class method\n",
    "        \n",
    "felix=Cat(\"ginger\",4)\n",
    "felix.greet()"
   ]
  },
  {
   "cell_type": "markdown",
   "metadata": {},
   "source": [
    "### Test Yourself\n",
    "\n",
    "1. What is the result of this code?\n",
    "```python\n",
    "class A:\n",
    "   def method(self):\n",
    "      print(1)\n",
    "class B(A):\n",
    "   def method(self):\n",
    "      print(2)\n",
    "b=B()\n",
    "b.method()\n",
    "```\n",
    "2. Which of these is most likely a static method\n",
    "```\n",
    "A. def spam(self,x,y)\n",
    "B. def spam(cls,x,y)\n",
    "C. def spam(x,y)\n",
    "```\n",
    "3. Fill in the blanks (underlines) to make sayHI() a class method\n",
    "```python\n",
    "class Person:\n",
    "    def __init__(self, name):\n",
    "        self.name=name\n",
    "    _______\n",
    "       ___ sayHI(cls):\n",
    "         print(\"hi\")\n",
    "```\n",
    "4. Fill in the blanks (yellow) to make the sayIntroduction() method print “Hello I am a John”\n",
    "```python\n",
    "class Person:\n",
    "    def __init__(___, name):\n",
    "        ___.name=name\n",
    "    def sayHello(___):\n",
    "        print (\"Hello\", end=' ')\n",
    "    def sayIntroduction(___):\n",
    "        ___.sayHello()\n",
    "       print(\"I am \", ____)\n",
    "c=Person(____)\n",
    "c.sayIntroduction()\n",
    "```\n",
    "\n"
   ]
  },
  {
   "cell_type": "markdown",
   "metadata": {},
   "source": [
    "### Exception Handling\n",
    "\n",
    "Exceptions occur when there is something wrong with the code, or input and output. An Exception will be raised and the code will stop running.\n",
    "```python\n",
    "n1=8\n",
    "n2=0\n",
    "print(n1/n2)\n",
    ">>\n",
    "ZeroDivisionError: division by zero\n",
    "```\n",
    "\n",
    "Various types of Exceptions include:\n",
    "- ImportError: an import fails\n",
    "- IndexError: a list is indexed with an out-of-range number\n",
    "- NameError: an unknown variable is used\n",
    "- SyntaxError: the code can’t be parsed properly\n",
    "- TypeError: a function is called on a value of an inappropriate type\n",
    "- ValueError: a function is called on a value fo the correct type but with an inappropriate value.\n",
    "\n",
    "An Exception can be managed using a try/except so that code can continue running. If an error occurs in the try  block, control will be transferred to the except code block where the error can be fixed or ignored, but the code will continue to run. \n",
    "```python\n",
    "   n1=8\n",
    "   n2=0\n",
    "   print(n1/n2)\n",
    "except ZeroDivisionError:\n",
    "  print(“oh uh, error”)\n",
    ">> oh uh, error\n",
    "```\n",
    "A try can have multiple except. A try without any specific Exception will catch all errors.\n",
    "```python\n",
    "try:\n",
    "   va=10\n",
    "   print(va+”hello”)\n",
    "   print(va/2)\n",
    "except ZeroDivisionError:\n",
    "   print(“Zero Divide!”)\n",
    "except(ValueError,TypeError):\n",
    "   print(“Error”)\n",
    ">>Error\n",
    "```\n",
    "\n",
    "To ensure some code runs no matter what errors occur, a finally  statement is used. Code within a finally statement always runs after execution of the code in the try and possibly in the except blocks.\n",
    "\n",
    "```python\n",
    "try:\n",
    "   va=10\n",
    "   print(va)\n",
    "   print(va/0)\n",
    "except ZeroDivisionError:\n",
    "   print(“Zero Divide!”)\n",
    "finally:\n",
    "   print(“this statement always run no matter what”)\n",
    ">>10\n",
    "Zero Divide!\n",
    "this statement always run no matter what\n",
    "```"
   ]
  },
  {
   "cell_type": "code",
   "execution_count": null,
   "metadata": {},
   "outputs": [],
   "source": [
    "try:\n",
    "   va=10\n",
    "   print(va+”hello”)\n",
    "   print(va/2)\n",
    "except ZeroDivisionError:\n",
    "   print(“Zero Divide!”)\n",
    "except(ValueError,TypeError):\n",
    "   print(“Error”)"
   ]
  },
  {
   "cell_type": "markdown",
   "metadata": {},
   "source": [
    "### File Handlilng\n",
    "```python\n",
    "#open and close a file\n",
    "myfile=open(\"file.txt\")\n",
    "myfile=open(\"file.txt\",\"w\") #open for new write\n",
    "myfile=open(\"file.txt\",\"r\")  #open for read\n",
    "myfile=open(\"file.txt\",\"a\")  #open for append\n",
    "myfile=open(\"file.txt\",\"wb\") #open write, binary\n",
    "myfile.close()\n",
    "\n",
    "#alternate way of opening a file\n",
    "with open(\"file.txt\") as f:\n",
    "   print(f.read())\n",
    "   \n",
    "#read a file\n",
    "file=open(\"file.txt\",\"r\")\n",
    "data=file.read() # read all \n",
    "data_byte=file.read(1) #read first byte\n",
    "data_line=file.readlines() #return a list of lines\n",
    "\n",
    "#read in line by line\n",
    "for line in file:\n",
    "  print(line)\n",
    "file.close()\n",
    "\n",
    "\n",
    "```\n",
    "Write: returns the number of bytes successfully written to a file\t\n",
    "```python\n",
    "file=open(\"file.txt\",\"w\")\n",
    "amount_written_to_file=file.write(\"line 1\")\n",
    "```\n"
   ]
  },
  {
   "cell_type": "markdown",
   "metadata": {},
   "source": [
    "### Test Yourself\n",
    "\n",
    "Fill in the blanks to try to open and read from a file. Print an error message in case of an exception.\n",
    "```python\n",
    "try:\n",
    "   ___ open('file.txt') as ___:\n",
    "       print(f.read())\n",
    "______\n",
    "   print('Error')\n",
    "```\n",
    "\n",
    "Which of these statements is true?\n",
    "```\n",
    "A. file.write(msg)==True\n",
    "B. file.write(msg)==len(msg)\n",
    "C. file.write(msg)==msg\n",
    "```\n",
    "Fill in the blanks to open a file, read its content and print its length. You need to create the file first to run the code.\n",
    "\n",
    "```python\n",
    "file=___('file.txt','__')\n",
    "str=file.___()\n",
    "print(len(str))\n",
    "file.close()\n",
    "```"
   ]
  },
  {
   "cell_type": "markdown",
   "metadata": {},
   "source": [
    "### Test Yourself\n",
    "\n",
    "1. Write code to read in a file and count the number of words in it.\n",
    "2. Write code to read in a file as above and write out the file using a substition cipher, e.g. replace a->z, b->y, c->x, etc (for all alphabets)"
   ]
  }
 ],
 "metadata": {
  "kernelspec": {
   "display_name": "Python 3",
   "language": "python",
   "name": "python3"
  },
  "language_info": {
   "codemirror_mode": {
    "name": "ipython",
    "version": 3
   },
   "file_extension": ".py",
   "mimetype": "text/x-python",
   "name": "python",
   "nbconvert_exporter": "python",
   "pygments_lexer": "ipython3",
   "version": "3.8.3"
  }
 },
 "nbformat": 4,
 "nbformat_minor": 1
}
